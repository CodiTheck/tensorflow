{
 "cells": [
  {
   "cell_type": "markdown",
   "id": "32410ebc-d766-4b28-8c9c-7cedf32e7b24",
   "metadata": {},
   "source": [
    "# Avant propos"
   ]
  },
  {
   "cell_type": "markdown",
   "id": "5b7d7f73-8781-4559-8efc-8504f6a93826",
   "metadata": {},
   "source": [
    "Tout au long de ce cours, je vais te montrer comment tu peux utiliser la bibliothèque **TensorFlow** open source de Google pour développer tes applications d'apprentissage en profondeur (Deep Learning).\n",
    "\n",
    "Dans le chapitre 1, après t'avoir présenté la bibliothèque TensorFlow et t'avoir montrer\n",
    "un exemple de programme \"hello, world\", nous allons passer en revue quelques algorithmes d'apprentissage automatique de base comme la régression linéaire et la régression logistique. Il t'aidera à comprendre les principes fondamentaux de TensorFlow et des graphes de calculs de flux de données.\n",
    "\n",
    "Dans le chapitre 2, je vais te présenter les réseaux de neurones convolutifs, un modèle puissant\n",
    "qui est capable de faire la reconnaissance d'objet. Je t'expliquerai en détail les opérations convolution, et  je te montrerai comment construire un réseau convolutif avec TensorFlow, qu'on va entraîner pour faire de la reconnaître de chiffres manuscrits.\n",
    "\n",
    "Dans le chapitre 3, je vais te donner un aperçu des données séquentielles et des réseaux de neurones récurrents,\n",
    "ainsi que le modèle à mémoire à longue et à court terme (LSTM). On va également programmer une application de traitement du langage naturel.\n",
    "\n",
    "Dans le chapitre 4, je vais te présenter l'apprentissage non supervisé.\n",
    "Notre objectif principal sera la machine Boltzmann restreinte, qui détecte les modèles en reconstruisant\n",
    "son entrée. Après avoir créé et formé un Boltzmann restreint Machine dans TensorFlow, je vais te montrer comment l'utiliser pour créer un système de recommandation.\n",
    "\n",
    "Et, enfin, dans le chapitre 5 je t'expliquerai le concept d'un Autoencoder, un modèle de détection de motifs en apprentissage non supervisé. Je te montrerai une implémentation de ce modèle avec TensorFlow. Il y a beaucoup à faire, mais après avoir terminé ce cours, tu seras capable d'utiliser correctement TensorFlow dans tes propres applications."
   ]
  },
  {
   "cell_type": "code",
   "execution_count": null,
   "id": "a0fdce17-130b-43c8-8306-2696c4f19550",
   "metadata": {},
   "outputs": [],
   "source": []
  }
 ],
 "metadata": {
  "kernelspec": {
   "display_name": "Python 3 (ipykernel)",
   "language": "python",
   "name": "python3"
  },
  "language_info": {
   "codemirror_mode": {
    "name": "ipython",
    "version": 3
   },
   "file_extension": ".py",
   "mimetype": "text/x-python",
   "name": "python",
   "nbconvert_exporter": "python",
   "pygments_lexer": "ipython3",
   "version": "3.11.4"
  }
 },
 "nbformat": 4,
 "nbformat_minor": 5
}
