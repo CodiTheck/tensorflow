{
 "cells": [
  {
   "cell_type": "markdown",
   "id": "6d15a06f-5f42-474a-9c4b-919613a0b726",
   "metadata": {},
   "source": [
    "# Avant propos"
   ]
  },
  {
   "cell_type": "markdown",
   "id": "e4bb1aca-bb80-4447-b6bf-7394bee5f80e",
   "metadata": {},
   "source": [
    "La mise en production des modèles d’IA est une tâche qui se rend parfois\n",
    "difficile, elle permet la création et la maximisation de la valeur ajoutée\n",
    "pour les entreprises. De plus, cette tâche ne s’arrête pas une fois que le\n",
    "modèle est passé en production, car il est essentiel de le maintenir, l’évaluer\n",
    "et le réentrainer de temps en temps. Cela peut être justifié par le fait que\n",
    "les données vont continuer à augmenter en véhiculant de nouvelles informations\n",
    "plus précises et plus riches. Toutes ces étapes doivent être automatisées, afin\n",
    "de limiter au maximum l’intervention humaine. Les applications TensorFlow\n",
    "peuvent être exécutées sur une machine locale, un cluster sur le Cloud,\n",
    "des smartphones et tablettes iOS ou Android, ou encore des CPU et des GPU.\n",
    "Sur son propre Cloud, Google propose d’exécuter TensorFlow sur ses\n",
    "puces **TensorFlow Processing Unit (TPU)** pour profiter d’une accélération\n",
    "accrue. Les modèles créés par TensorFlow peuvent ensuite être déployés sur\n",
    "n’importe quel appareil afin de délivrer des prédictions.\n",
    "\n",
    "Donc, au lieu de s'occuper de l'implémentation des algorithmes dans les\n",
    "moindres détails ou de chercher des solutions appropriées pour lier une\n",
    "fonction en sortie avec une autre fonction en entrée, le développeur peut\n",
    "se concentrer sur la logique globale de l'application, TensorFlow s'occupant\n",
    "des détails en arrière. Il propose différents niveaux d’APIs, cela permet donc\n",
    "de le rendre facilement accessible à des développeurs ayant **très peu\n",
    "de connaissances en deep learning**, tout en conservant un intérêt indéniable\n",
    "pour des chercheurs.\n",
    "\n",
    "TensorFlow peut être vu comme un système de programmation dans lequel les\n",
    "calculs sont représentés sous la forme d’un **graphe**. On parle souvent de\n",
    "**graphe de calcul**. Les sommets représentent des **opérations mathématiques**\n",
    "qui peuvent aller d’une simple addition à des fonctions très complexes,\n",
    "et les arêtes représentent des structures spécifiques qu’on appelle **tensors**.\n",
    "\n",
    "TensorFlow possède un très bon outil de visualisation qui s’appelle\n",
    "**TensorBoard**. Cet outil permet de visualiser les données, l’évolution\n",
    "des variables et les graphes de calcul. Il s’agit d’un outil bien conçu et\n",
    "facile à utiliser, à tel point que les développeurs de **PyTorch**, le principal\n",
    "concurrent de TensorFlow aujourd’hui, ont développé un module spécifique\n",
    "permettant d’intégrer, même partiellement, TensorBoard dans l’écosystème\n",
    "PyTorch."
   ]
  },
  {
   "cell_type": "markdown",
   "id": "b0c3455d-a845-4059-95f0-3ce03de68f3c",
   "metadata": {},
   "source": [
    "## Prérequis"
   ]
  },
  {
   "cell_type": "markdown",
   "id": "9b6d37a2-5cc9-44eb-b056-cbdfb26efa36",
   "metadata": {},
   "source": [
    "1. Avoir quelque notion de base en mathématique.\n",
    "2. Savoir écrire des algorithmes et programmer dans un langage de programmation.\n",
    "3. Savoir programmer en langage **Python**.\n",
    "4. Maîtriser les bases de la programmation orientée objet (**POO**).\n",
    "5. Même si ce n'est pas obligatoire avant de commencer ce cour, il faut au\n",
    "moins avoir suivie un cour de **machine learning** et/ou de **data science**\n",
    "ailleurs qu'ici. Car je ne vais pas trop m'attarder sur ces notions de base."
   ]
  },
  {
   "cell_type": "markdown",
   "id": "7ab313d2-16ec-4cd3-8d61-684668398d45",
   "metadata": {},
   "source": [
    "# Introduction"
   ]
  },
  {
   "cell_type": "markdown",
   "id": "0907c8e1-c4bf-4df8-9da5-615a02053d41",
   "metadata": {},
   "source": [
    "\n",
    "TensorFlow est une bibliothèque open source développée par l'équipe Google Brain.\n",
    "Il s'agit d'une bibliothèque extrêmement polyvalente, créée à l'origine pour des tâches nécessitant de lourdes opérations numériques. Pour cette raison, TensorFlow a été conçu pour\n",
    "le problème de l'apprentissage automatique et des réseaux de neurones profonds.\n",
    "Grâce à un backend C/C++, TensorFlow est capable de s'exécuter plus rapidement que le code Python pur. TensorFlow utilise une structure\n",
    "connu sous le nom de graphe de flux de données, qui est très utile pour d'abord le construire puis l'exécuter\n",
    "dans une session. C'est aussi une technique de programmation très courant\n",
    "pour le calcul parallèle. Nous aborderons cela plus en détail un peu plus tard.\n",
    "\n",
    "TensorFlow offre plusieurs avantages pour une application. Par exemple, il fournit à la fois une API Python et une API C++. Il convient de noter, cependant, que\n",
    "L'API Python est plus complète et généralement plus facile à utiliser.\n",
    "TensorFlow a également d'excellents temps de compilation par rapport à d'autres \n",
    "bibliothèques. Et il prend en charge les CPU, les GPU et même distribués le \n",
    "traitement dans un cluster. C'est une fonctionnalité très importante car vous \n",
    "pouvez former un réseau de neurones en utilisant un CPU et plusieurs GPU, ce \n",
    "qui rend les modèles très efficaces pour des systèmes à grande échelle.\n",
    "\n",
    "La structure de TensorFlow est basée sur l'exécution d'un graphe de flux de \n",
    "données. Alors, regardons de plus près.\n",
    "Un graphe de flux de données comporte deux unités de base. Les nœuds qui \n",
    "représentent une opération mathématique et les arêtes qui représentent les \n",
    "tableaux multidimensionnels appelés tenseurs. Cette abstraction de haut niveau \n",
    "révèle donc comment les données circulent entre opérations. Veuillez noter \n",
    "qu'en utilisant le graphe de flux de données,\n",
    "nous pouvons facilement visualiser différentes parties du graphe, ce qui n'est \n",
    "pas possible lors de l'utilisation\n",
    "d'autres bibliothèques Python telles que Numpy ou SciKit-learn. L'utilisation \n",
    "standard est de construire d'abord un graphe puis de l'exécuter dans une \n",
    "session.\n",
    "\n",
    "Les tenseurs, quand à eux, comme nous l'avons déjà noté, permettent le \n",
    "transfère des données entre les opérations. Un tenseur est un tableau \n",
    "multidimensionnel.\n",
    "\n",
    "- Il peut être de dimension nulle, comme les scalaires,\n",
    "- unidimensionnel, comme vecteur,\n",
    "- ou bidimensionnel, tel qu'une matrice, etc.\n",
    "\n",
    "La classe `Tensor` de TensorFlow nous aide à façonner l'ensemble de données comme nous voulons. Il est également particulièrement utile lorsqu'il s'agit de traiter avec des images, en raison de la façon dont les images sont encodées.\n",
    "En effet, quand on analyse une image, il est facile de comprendre qu'elle a une hauteur et une largeur et qu'il serait donc logique de représenter ses informations dans un tenseur bidimensionnel, c'est à dire : une matrice.\n",
    "Mais comme tu le sais déjà, les images ont des couleurs, et pour gérer les informations sur les couleurs, nous avons besoin d'une dimension en plus, et c'est là qu'un tenseur tridimensionnel devient particulièrement utile.\n",
    "\n",
    "Maintenant, regardons un graphe de flux de données et voyons comment les tenseurs et les opérations construisent le\n",
    "graphique."
   ]
  },
  {
   "cell_type": "markdown",
   "id": "6c42a6bc-5ce5-4e20-bec3-f93baa618fd0",
   "metadata": {},
   "source": [
    "![](images/tensorflow_data_flow.png)"
   ]
  },
  {
   "cell_type": "markdown",
   "id": "5625d2f8-42d0-4867-9136-f5582df7c6f9",
   "metadata": {},
   "source": [
    "Comme mentionné précédemment, dans un graphe de flux de données, **les nœuds sont des opérations**, qui représentent des unités de calcul. **Les arêtes sont des tenseurs** qui représentent les données consommées ou produites par une opération.\n",
    "Dans ce graphe, la matrice de fonctionnalités **input** est un espace réservé. Les espaces réservés peuvent être considérés comme des \"trous\" dans notre modèle, à travers lesquels, on peut faire passer les données depuis l'extérieur du graphe. Lorsqu'on définit un espace réservé ou une variable, TensorFlow ajoute une opération à notre graphe.\n",
    "\n",
    "Lorsqu'on veut exécuter le graphe, on doit en premier, alimenter les espaces réservés nécessaires avec nos données d'entrée. Voici l'expression de calcul réalisé par notre exemple de graphe ci-dessus :\n",
    "\n",
    "$$\n",
    "G = (7 \\times 3) + (7 + 3)\n",
    "$$\n",
    "\n",
    "Après avoir ajouté toutes ces opérations dans le graphe, nous pouvons créer une session pour l'exécuter et effectuer les calculs. Il faut retenir que les deux **input** sont des tenseurs et donc le résultat de chaque opération est un tenseur. Les tenseurs résultants de chaque opération est utilisé pour l'opération suivante et ainsi de suite jusqu'à la fin où il est possible d'obtenir le résultat final. Dans notre cas ici, il s'agit des scalaires, donc des tenseurs de dimension nulle.\n",
    "\n",
    "Comme mentionné précédemment, TensorFlow est livré avec une interface Python facile à utiliser pour créer\n",
    "et exécutez nos graphe de calcul. Mais ce qui rend TensorFlow si populaire aujourd'hui, c'est son architecture. L'architecture flexible de TensorFlow nous permet de déployer le calcul sur un ou plusieurs CPU, ou GPU, ou sur un poste de travail, un serveur, ou même un appareil mobile. Cela signifie que nous onstruisons et entraînons notre programme une fois, puis pouvoir l'exécuter facilement sur différents appareils sans avoir besoin de le réecrire à nouveau.\n",
    "\n",
    "Premièrement, TensorFlow prend en charge intégrée l'apprentissage en profondeur (Deep learning) et les réseaux de neurones, il est donc facile d'assembler un réseau, d'attribuer des paramètres, et exécuter le processus d'entraînement. Deuxièmement, il a également une collection de simples fonctions mathématiques entraînables utiles pour les réseaux de neurones.\n",
    "Enfin, l'apprentissage en profondeur en tant qu'algorithme d'apprentissage automatique basé sur les gradients bénéficie de\n",
    "la différenciation automatique et les optimiseurs de TensorFlow.\n",
    "\n",
    "Tout au long de ce cours, je vais te montrer comment tu peux utiliser la bibliothèque **TensorFlow** open source de Google pour développer tes applications d'apprentissage en profondeur (Deep Learning).\n",
    "\n",
    "Dans le chapitre 1, après t'avoir présenté la bibliothèque TensorFlow et t'avoir montrer\n",
    "un exemple de programme \"hello, world\", nous allons passer en revue quelques algorithmes d'apprentissage automatique de base comme la régression linéaire et la régression logistique. Il t'aidera à comprendre les principes fondamentaux de TensorFlow et des graphes de calculs de flux de données.\n",
    "\n",
    "Dans le chapitre 2, je vais te présenter les réseaux de neurones convolutifs, un modèle puissant\n",
    "qui est capable de faire la reconnaissance d'objet. Je t'expliquerai en détail les opérations convolution, et  je te montrerai comment construire un réseau convolutif avec TensorFlow, qu'on va entraîner pour faire de la reconnaître de chiffres manuscrits.\n",
    "\n",
    "Dans le chapitre 3, je vais te donner un aperçu des données séquentielles et des réseaux de neurones récurrents,\n",
    "ainsi que le modèle à mémoire à longue et à court terme (LSTM). On va également programmer une application de traitement du langage naturel.\n",
    "\n",
    "Dans le chapitre 4, je vais te présenter l'apprentissage non supervisé.\n",
    "Notre objectif principal sera la machine Boltzmann restreinte, qui détecte les modèles en reconstruisant\n",
    "son entrée. Après avoir créé et formé un Boltzmann restreint Machine dans TensorFlow, je vais te montrer comment l'utiliser pour créer un système de recommandation.\n",
    "\n",
    "Et, enfin, dans le chapitre 5 je t'expliquerai le concept d'un Autoencoder, un modèle de détection de motifs en apprentissage non supervisé. Je te montrerai une implémentation de ce modèle avec TensorFlow. Il y a beaucoup à faire, mais après avoir terminé ce cours, tu seras capable d'utiliser correctement TensorFlow dans tes propres applications."
   ]
  },
  {
   "cell_type": "markdown",
   "id": "78860bd4-3424-4c5a-bab0-b39299ec75cc",
   "metadata": {},
   "source": [
    "# Principes fondamentaux"
   ]
  },
  {
   "cell_type": "markdown",
   "id": "a1cdf9dc-f55c-41ec-951e-df61dda340f0",
   "metadata": {},
   "source": [
    "## Les tenseurs"
   ]
  },
  {
   "cell_type": "markdown",
   "id": "bdaf234f-6200-4e60-9df1-f05bca88f564",
   "metadata": {},
   "source": [
    "Voyons un peu ce que s'est qu'un tenseur. Je sais que cela semble être un nom\n",
    "compliqué. En anglais, le mot \"tenseur\" signifie \"Tensor\". Je sais que tu\n",
    "t'imagine déjà d'où vient le nom TensorFlow (flux de tenseurs) !\n",
    "Si tu as déjà fait de l'algèbre\n",
    "linéaire, ou même du calcul vectoriel de base, tu devrais savoir ce que c'est.\n",
    "\n",
    "Un tenseur est une généralisation des vecteurs et des matrices à des dimensions\n",
    "potentiellement plus élevées. En interne, `TensorFlow` représente les tenseurs\n",
    "comme des tableaux à **n-dimensions** contenant des données de type de base\n",
    "(`int`, `float`, `str`, etc.).\n",
    "\n",
    "En machine learning, on utilise souvent un vecteur pour représenter un point\n",
    "de donnée. Car les points de données on souvent plusieurs caractéristiques,\n",
    "c'est à dire : une liste de nombres par exemple qui représentent les\n",
    "différentes observations qui ont été faites sur ces données. Étant donné que\n",
    "lorsqu'il s'agit d'effectuer de très grands calculs sur des données,\n",
    "les listes basiques ne font pas le poids contre les tableaux numériques comme\n",
    "**les tableau Numpy** et les **tenseurs**, alors on utilise les\n",
    "tenseurs lorsqu'on se trouve sur TensorFlow ou autres frameworks de\n",
    "machine learning, pour traiter des données numériques beaucoup plus rapidement\n",
    "et efficacement.\n",
    "\n",
    "> Mais, comment je peux représenter une image, ou une vidéo sous\n",
    "forme de tenseur ? :thinking:\n",
    "\n",
    "Pour représenter une image sous forme de tenseur, c'est simple ! Tout d'abord\n",
    "un pixel a trois composants, Red, Green et Bleu (RGB), ce qui signifie qu'un\n",
    "pixel est un vecteur (tableau à **1-dimension**) de 3 nombres entiers qui\n",
    "prennent chacun une valeur entre 0 et 255. Une image, quant à elle, est une\n",
    "matrice de pixel, c'est à dire un tableau de pixels à **2-dimensions**. Donc,\n",
    "si on souhaite représenter une image sous forme tenseur, on le représentera un\n",
    "tenseur à 1 + 2 = **3-dimensions** où\n",
    "- le nombre de lignes correspondra à la hauteur de l'image,\n",
    "- le nombre de colonnes conrespondra à la largeur de l'image,\n",
    "- et le nombre de profondeur sera égal à 3, car un pixel à trois valeurs (RGB)."
   ]
  },
  {
   "cell_type": "markdown",
   "id": "703faf7a-8f13-45e4-98a8-c224cd6a4c53",
   "metadata": {},
   "source": [
    "![](./images/pixel-art.png)"
   ]
  },
  {
   "cell_type": "markdown",
   "id": "d6970326-0cd2-484b-b4f4-4fd9a600fba8",
   "metadata": {},
   "source": [
    "Je te laisse imaginer comment on peut représenter une vidéo sous forme tenseur,\n",
    "en sachant qu'une vidéo est composée d'un grand nombre de frames qui ne sont\n",
    "qu'en réalités des images.\n",
    "\n",
    "Ne sois pas surpris que les tenseurs soient un aspect fondamental de TensorFlow.\n",
    "Ils sont au coeur de TensorFlow, ils représentent, la plus part du temps,\n",
    "les principaux objets avec lesquels nous allons travailler.\n",
    "Les programmes écris sous TensorFlow fonctionnent en construisant un\n",
    "graphe d'objets `Tensor` qui définit les différentes liaisons entre les\n",
    "tenseurs. L'exécution de différentes parties du graphe permet de générer des\n",
    "résultats.\n",
    "\n",
    "Chaque tenseur a un type de données et une dimension (`shape`).\n",
    "- Le type donnée est simplement le type d'informations stockées dans le \n",
    "tenseur. Il peut être: `float32`, `int32`, `string` et autres types. Il est\n",
    "très rare de rencontrer des tenseurs gérer des types de données autres que des\n",
    "nombres.\n",
    "- `shape` représente les dimensions du contenu du tenseur."
   ]
  },
  {
   "cell_type": "markdown",
   "id": "856cdeab-461f-4bb6-a296-bf6ecf0329a3",
   "metadata": {},
   "source": [
    "### Création d'un tenseur"
   ]
  },
  {
   "cell_type": "markdown",
   "id": "6d72bf4e-b60f-431f-ade1-99f9e4c6f0ec",
   "metadata": {},
   "source": [
    "Pour créer un tenseur, on utilise la classe `tf.Variable` qui prend en premier\n",
    "argument la donnée à stocker et en second argument, le type cette donnée.\n",
    "Vous trouverez ci-dessous un exemple de création de différents tenseurs."
   ]
  },
  {
   "cell_type": "code",
   "execution_count": 7,
   "id": "cf3adb54-9d87-49b1-b25a-340fb4ce61f4",
   "metadata": {
    "execution": {
     "iopub.execute_input": "2023-08-22T16:14:31.198289Z",
     "iopub.status.busy": "2023-08-22T16:14:31.197917Z",
     "iopub.status.idle": "2023-08-22T16:14:31.203573Z",
     "shell.execute_reply": "2023-08-22T16:14:31.203022Z",
     "shell.execute_reply.started": "2023-08-22T16:14:31.198266Z"
    }
   },
   "outputs": [],
   "source": [
    "import tensorflow as tf  # N'oublit pas d'importer la librairie.\n",
    "\n",
    "\n",
    "# On définit un tenseur qui stocke une chaine de caractères.\n",
    "string = tf.Variable(\"This is a string\", tf.string)\n",
    "\n",
    "# On définit un tenseur qui stocke un nombre entier\n",
    "# représenté sous 16 bits.\n",
    "number = tf.Variable(324, tf.int16)\n",
    "\n",
    "# On définit un tenseur qui stocke un nombre réel\n",
    "# représenté en virgule flottante à double précision.\n",
    "floating = tf.Variable(3.567, tf.float64)"
   ]
  },
  {
   "cell_type": "markdown",
   "id": "63282b18-4384-435e-b547-2bcc2805a98d",
   "metadata": {},
   "source": [
    "Les tenseurs que nous venons de définir dans le code python ci-dessus, sont\n",
    "appelés des scalaires. Un scalaire est tout simplement une valeur de type bien\n",
    "défini. On parle de vecteur de valeurs, lorsqu'on a plus d'une valeur. Donc\n",
    "une matrice sera considérée comme un vecteur de vecteurs. Et ainsi de suite !"
   ]
  },
  {
   "cell_type": "markdown",
   "id": "9f7eda24-55a5-448c-85e9-7099dc5993af",
   "metadata": {},
   "source": [
    "### Rang/degré d'un tenseur"
   ]
  },
  {
   "cell_type": "markdown",
   "id": "543464c0-e534-472b-8e59-e58a959e91fd",
   "metadata": {},
   "source": [
    "Un autre mot pour désigner le rang est le **degré**. Ces termes désignent\n",
    "simplement le nombre de dimensions du tenseur. Ce que nous avons créé dans la\n",
    "section précédente sont des tenseurs de rang `0`, et comme je te l'avais, ils\n",
    "sont appelés **scalaire**.\n",
    "\n",
    "Maintenant, lorsqu'il s'agit d'un tableau ou d'une liste, on a immédiatement\n",
    "au moins le rang `1`."
   ]
  },
  {
   "cell_type": "code",
   "execution_count": 9,
   "id": "2e8c3663-59dc-4456-8816-7ed7cb2ad37f",
   "metadata": {
    "execution": {
     "iopub.execute_input": "2023-08-22T16:16:42.981274Z",
     "iopub.status.busy": "2023-08-22T16:16:42.980181Z",
     "iopub.status.idle": "2023-08-22T16:16:42.995924Z",
     "shell.execute_reply": "2023-08-22T16:16:42.995312Z",
     "shell.execute_reply.started": "2023-08-22T16:16:42.981202Z"
    }
   },
   "outputs": [],
   "source": [
    "# ici, je crée un tenseur de rang 1:\n",
    "rank1_tensor = tf.Variable(['Test', 'ok'], tf.string)\n",
    "# ici, je crée un tenseur de rang 2:\n",
    "rank2_tensor = tf.Variable([['Test', 'ok'], ['test', 'yes']], tf.string)"
   ]
  },
  {
   "cell_type": "markdown",
   "id": "c55fb7ea-198b-4ec2-b4a0-399265e8f15d",
   "metadata": {},
   "source": [
    "La raison pour laquelle `rank2_tensor` est un tenseur de rang `2` est que nous\n",
    "l'avons initialisé avec des listes à l'intérieur d'une autre liste, ce qui a\n",
    "créé simplement un vecteur de vecteurs. C'est cela qu'on appelle **matrice**.\n",
    "Une matrice est dont un tenseur de rang 2, c'est à dire tenseur à\n",
    "**2-dimension**.\n",
    "\n",
    "Pour déterminer le rang d'un tenseur, tu peux appeller la méthod `tf.rank()`\n",
    "comme suit :"
   ]
  },
  {
   "cell_type": "code",
   "execution_count": 10,
   "id": "65d85805-0c46-441d-ace5-570f5568b30a",
   "metadata": {
    "execution": {
     "iopub.execute_input": "2023-08-22T16:16:47.666429Z",
     "iopub.status.busy": "2023-08-22T16:16:47.666218Z",
     "iopub.status.idle": "2023-08-22T16:16:47.743370Z",
     "shell.execute_reply": "2023-08-22T16:16:47.742689Z",
     "shell.execute_reply.started": "2023-08-22T16:16:47.666411Z"
    }
   },
   "outputs": [
    {
     "name": "stdout",
     "output_type": "stream",
     "text": [
      "Rank of rank2_tensor is: 2\n"
     ]
    }
   ],
   "source": [
    "rank = tf.rank(rank2_tensor)\n",
    "print(f\"Rank of rank2_tensor is: {rank}\")"
   ]
  },
  {
   "cell_type": "markdown",
   "id": "f4175b24-01ec-49ed-b9bd-786df6ceb8e6",
   "metadata": {},
   "source": [
    "Nous avons assez parlé du rang des tenseurs, il est temps de parler\n",
    "de leur forme."
   ]
  },
  {
   "cell_type": "markdown",
   "id": "ec3bd12f-ff6b-4b85-9eb9-50ceb5f0ee7d",
   "metadata": {},
   "source": [
    "### Dimensions des tenseurs"
   ]
  },
  {
   "cell_type": "markdown",
   "id": "07bd8935-103d-4fec-b93b-da13d0f313e4",
   "metadata": {},
   "source": [
    "La forme ou les dimensions d'un tenseur sont simplement le nombre d'éléments\n",
    "qui se trouve dans chaque dimension. TensorFlow essaiera de déterminer\n",
    "les dimensions d'un tenseur mais parfois elles peuvent être inconnues.\n",
    "\n",
    "Pour obtenir les dimensions d'un tenseur, on utilise l'attribut `shape`."
   ]
  },
  {
   "cell_type": "code",
   "execution_count": null,
   "id": "873974b5-b777-4033-8c97-3cc7d449ddb7",
   "metadata": {},
   "outputs": [],
   "source": [
    "print(rank2_tensor.shape)\n",
    "# Affiche un tuple d'entiers qui représente\n",
    "# la forme du tenseur `rank2_tensor`."
   ]
  },
  {
   "cell_type": "markdown",
   "id": "5428d2f2-ff2c-4ffb-9fa3-1aa81fe0e1b9",
   "metadata": {},
   "source": [
    "Il s'agit ici d'un attribut très important pour le développement des \n",
    "algorithmes de machine learning. Car, lorsqu'on se trompe de dimension\n",
    "pendant les calculs, le programme nous retourne des bugs, donc ne\n",
    "fonctionne plus.\n",
    "\n",
    "À la création d'un tenseur, par exemple si on a plusieurs lignes de données,\n",
    "toute les lignes doivent **avoir obligatoirement le même nombre d'éléments**.\n",
    "Donc, si tu veux créer une matrice de nombres réels de dimension $3 \\times 5$\n",
    "(3 lignes, 5 colonnes), alors toutes les 3 lignes **doivent obligatoirement\n",
    "contenir 5 nombres réels** chacune. Pas plus ni moins."
   ]
  },
  {
   "cell_type": "markdown",
   "id": "2208e268-e56d-4d75-8fbe-7addeaa9d03a",
   "metadata": {},
   "source": [
    "### Redimensionnement d'un tenseur"
   ]
  },
  {
   "cell_type": "markdown",
   "id": "35fe8e77-8392-4825-816c-c05d6a370682",
   "metadata": {},
   "source": [
    "Maintenant, il existe des moyens pour redimensionner ou changer la forme\n",
    "d'un tenseur sans modifier ses valeurs.\n",
    "\n",
    "Le nombre d'éléments d'un tenseur est le produit des valeurs $x_1, x_2, \\ldots, \n",
    "x_i, \\ldots, x_n$, de toutes ses dimensions `(x1, x2, ..., xi, ..., xn)`.\n",
    "Étant donnée que deux tenseurs de dimensions différentes peuvent contenir le\n",
    "même nombre d'éléments, alors il est possible de changer les dimensions d'un\n",
    "tenseur. Ce pendant, lorsqu'on modifie les dimensions d'un tenseur, cela\n",
    "affecte son rang.\n",
    "\n",
    "L'exemple ci-dessous montre comment changer les dimensions d'un tenseur."
   ]
  },
  {
   "cell_type": "code",
   "execution_count": 11,
   "id": "d872be0c-0fa4-42a7-b5b8-3c4966067b12",
   "metadata": {
    "execution": {
     "iopub.execute_input": "2023-08-22T16:19:28.117337Z",
     "iopub.status.busy": "2023-08-22T16:19:28.116713Z",
     "iopub.status.idle": "2023-08-22T16:19:28.380644Z",
     "shell.execute_reply": "2023-08-22T16:19:28.379707Z",
     "shell.execute_reply.started": "2023-08-22T16:19:28.117306Z"
    }
   },
   "outputs": [],
   "source": [
    "tensor1 = tf.ones([1, 2, 3])  # Crée un tenseur de dimensions (1, 2, 3) remplit de 1.\n",
    "tensor2 = tf.reshape(tensor1, [2, 3, 1])  # Redimensionne le tenseur existant en (2, 3, 1).\n",
    "\n",
    "tensor3 = tf.reshape(tensor2, [3, -1])  \n",
    "# -1 indique au tenseur de calculer \n",
    "# la taille de la dimension restante à cet endroit. \n",
    "# Ce qui donnera au tenseur la forme [3, 3].\n",
    "\n",
    "# Le nombre d'éléments dans le tenseur redimensionné DOIT correspondre \n",
    "# au nombre d'éléments dans le tenseur d'origine."
   ]
  },
  {
   "cell_type": "markdown",
   "id": "fe5dc02f-5b57-46d2-8ee4-53f209458e4f",
   "metadata": {},
   "source": [
    "Maintenant, jetons un coup d'oeil à nos différents tenseurs."
   ]
  },
  {
   "cell_type": "code",
   "execution_count": 12,
   "id": "6001a299-71df-4be5-bf7a-c6ea0be7b56c",
   "metadata": {
    "execution": {
     "iopub.execute_input": "2023-08-22T16:20:21.083751Z",
     "iopub.status.busy": "2023-08-22T16:20:21.082637Z",
     "iopub.status.idle": "2023-08-22T16:20:21.094523Z",
     "shell.execute_reply": "2023-08-22T16:20:21.093580Z",
     "shell.execute_reply.started": "2023-08-22T16:20:21.083677Z"
    }
   },
   "outputs": [
    {
     "name": "stdout",
     "output_type": "stream",
     "text": [
      "tensor1 = <tf.Tensor: shape=(1, 2, 3), dtype=float32, numpy=\n",
      "array([[[1., 1., 1.],\n",
      "        [1., 1., 1.]]], dtype=float32)>\n",
      "\n",
      "tensor2 = <tf.Tensor: shape=(2, 3, 1), dtype=float32, numpy=\n",
      "array([[[1.],\n",
      "        [1.],\n",
      "        [1.]],\n",
      "\n",
      "       [[1.],\n",
      "        [1.],\n",
      "        [1.]]], dtype=float32)>\n",
      "\n",
      "tensor3 = <tf.Tensor: shape=(3, 2), dtype=float32, numpy=\n",
      "array([[1., 1.],\n",
      "       [1., 1.],\n",
      "       [1., 1.]], dtype=float32)>\n",
      "\n"
     ]
    }
   ],
   "source": [
    "print(f\"{tensor1 = }\\n\")\n",
    "print(f\"{tensor2 = }\\n\")\n",
    "print(f\"{tensor3 = }\\n\")\n",
    "\n",
    "# Remarque les changements de dimension."
   ]
  },
  {
   "cell_type": "markdown",
   "id": "3e877056-152c-454a-94d5-b17af8685387",
   "metadata": {},
   "source": [
    "Lorsqu'on place `-1` au niveau d'une des dimensions, la fonction de\n",
    "redimensionnement se base sur le nombre d'éléments restant afin\n",
    "de définir la valeur de cette dimension. C'est donc ce qui s'est passé pour\n",
    "avoir le `tenseur3`. Étant donné qu'il y avait au total\n",
    "$2 \\times 3 \\times 1 = 6$ éléments, alors lorsque le nombre de lignes a été\n",
    "définis à 3, `reshape()` a simplement effectué l'opération $6 \\div 3 = 2$ pour\n",
    "connaitre le nombre d'éléments à placer sur chaque ligne pour obtenir le même\n",
    "nombre d'éléments sur les 3 lignes.\n",
    "\n",
    "Donc, pour te dire de faire attention lorsque tu veux fixer les paramètres de\n",
    "redimensionnement, car si, par exemple on avait pris 4 comme nombre de lignes\n",
    "et ensuite placé -1 comme nombre de colonne, il y aurait eu un problème et\n",
    "la fonction `reshape()` allait nous balancer une belle erreur de type \n",
    "`InvalidArgumentError` en pleine face. :laughing:"
   ]
  },
  {
   "cell_type": "markdown",
   "id": "28dd5530-b5a5-4c10-91c7-10e5bd0553c2",
   "metadata": {},
   "source": [
    "![](./images/reshape_error.png)"
   ]
  },
  {
   "cell_type": "markdown",
   "id": "52735a69-3979-40e1-8453-c2fbcd799f8c",
   "metadata": {},
   "source": [
    "> Ah, informe moi !\n",
    "\n",
    "Au fait, si tu regardes le nombre d'éléments total qui est 6, il n'est pas\n",
    "divisible par 4, car $6 \\div 4$ ne donne pas un nombre entier. Or pour avoir\n",
    "un nombre d'éléments répartis de façon équitable sur toutes les 4 lignes, il\n",
    "va faloir trouver 2 éléments de plus à ajouter au 6 éléments de départ.\n",
    "Ce qui n'est pas possible à trouver, étant donné que le nombre d'éléments dans\n",
    "un tenseur est fixe.\n",
    "\n",
    "C'est tout ce qu'il faut savoir à propos de cette fonctionnalité. Il faut\n",
    "savoir qu'elle fait partie de l'une des fonctionnalités les plus utilisées\n",
    "en machine learning. On l'utilisera donc au fur et à mesure qu'on avancera dans\n",
    "ce cour."
   ]
  },
  {
   "cell_type": "markdown",
   "id": "74a9a999-f051-4225-9ce9-6dd31217e542",
   "metadata": {},
   "source": [
    "### Types de tenseurs"
   ]
  },
  {
   "cell_type": "markdown",
   "id": "24293be7-f7b0-4235-9240-ba836b4ca286",
   "metadata": {},
   "source": [
    "Il existe différents types de tenseurs que nous pouvons utiliser. Jusqu'à\n",
    "présent, le seul qu'on a vu est `tf.Variable`.\n",
    "Avant d'aller loin, je te présente rapidement les autres types de tenseur\n",
    "les plus couramment utilisés en TensorFlow.\n",
    "\n",
    "- `tf.Variable`;\n",
    "- `tf.Constant`;\n",
    "- `tf.Placeholder`;\n",
    "- `tf.SparseTensor`.\n",
    "\n",
    "À l'exception de `tf.Variable`, tous ces tenseurs sont immuables, ce qui \n",
    "signifie qi'après leurs créations, on ne peut plus modifier les valeurs des\n",
    "éléments qu'ils contiennent pendant l'exécution.\n",
    "On utilise en général un tenseur de type `Variable` lorsque, au cour de\n",
    "l'exécution du programme, on prévoit changer les valeurs des éléments qu'il\n",
    "contient.\n",
    "\n",
    "On parlera beaucoup plus en profondeur de chacun d'eux au fur et à\n",
    "mesure de leur utilisation."
   ]
  },
  {
   "cell_type": "markdown",
   "id": "16fc11bf-1128-44ea-b2ab-04745434249e",
   "metadata": {},
   "source": [
    "## Mode Eager"
   ]
  },
  {
   "cell_type": "markdown",
   "id": "df1f3bdd-94a7-48c1-a2a1-020adc7785c0",
   "metadata": {},
   "source": [
    "L'un des changements majeurs dans TensorFlow 2.x est que le framework Keras qui est devenu l'API officielle de haut niveau pour TensorFlow. Keras est une API d'apprentissage en profondeur écrite en Python et connue pour sa convivialité.\n",
    "Il propose des abstractions qui facilitent le développement de modèles d'apprentissage en profondeur.\n",
    "Cependant, Keras ne possède pas son propre moteur d'exécution et dépend d'autres frameworks comme Theano.\n",
    "\n",
    "Dans la version 2.x, TensorFlow n'est pas seulement devenu le moteur d'exécution par défaut de Keras, il s'est totalement intégré dans Keras. Cela signifie pour les utilisateurs de TensorFlow, en particulier les développeurs Python, qu'ils peuvent désormais développer des modèles plus facilement en utilisant les interfaces Keras, tout en tirant parti des puissantes capacités de TensorFlow dans le back-end.\n",
    "\n",
    "Dans les cas où Keras, qui est une API de haut niveau, ne suffit pas à nos besoins, on peut toujours utiliser l'API de bas niveau TensorFlow. Dans ce cas, il est important de savoir que **le mode Eager Execution est activé par défaut dans la version 2.x de TensorFlow**. C'est d'ailleurs le mode d'exécution recommandé pour utiliser l'API de bas niveau de TensorFlow.\n",
    "\n",
    "Tu dois garder à l'esprit, cependant, que l'utilisation de l'API de bas niveau de TensorFlow solicite tes connaissances en algèbre pour pouvoir effectuer des calculs avec les réseaux de neurones.\n",
    "\n",
    "Maintenant la question qui se pose est : **Qu'est-ce que le mode Eager Execution ?** Eh bien, regardons ensemble l'extrait de code suivant, dans lequel on a pas une exécution un mode Eager."
   ]
  },
  {
   "cell_type": "code",
   "execution_count": 2,
   "id": "21944d9d-e050-4fda-a117-750532bfb12c",
   "metadata": {},
   "outputs": [
    {
     "name": "stdout",
     "output_type": "stream",
     "text": [
      "Type du tenseur C: <class 'tensorflow.python.framework.ops.Tensor'>\n",
      "Result: 32.0\n"
     ]
    }
   ],
   "source": [
    "import numpy as np\n",
    "import tensorflow as tf\n",
    "from tensorflow.python.framework.ops import disable_eager_execution\n",
    "\n",
    "\n",
    "# Désactivons d'abord le mode Eager\n",
    "disable_eager_execution()\n",
    "\n",
    "A = tf.constant(np.array([1., 2., 3.]))\n",
    "B = tf.constant(np.array([4., 5., 6.]))\n",
    "C = tf.tensordot(A, B, 1)  # Aucun calcul n'est effectué ici.\n",
    "print(\"Type du tenseur C:\", type(C))\n",
    "\n",
    "with tf.compat.v1.Session() as sess:\n",
    "    # Exécution du graphe de c dans une session.\n",
    "    output = C.eval()\n",
    "\n",
    "print(\"Result:\", output)\n"
   ]
  },
  {
   "cell_type": "markdown",
   "id": "d43a0778-5596-495a-afed-65b26616ef78",
   "metadata": {},
   "source": [
    "Comme tu peux le voir, on initialise deux tenseurs, `A` et `B`.\n",
    "Ensuite, on calcule le produit scalaire de ces deux tenseurs et on renvoie le résultat à `C`.\n",
    "Mais jusque là, aucun calcul n'a été fait. `C` ne représente qu'un graphe de calcul qui n'a pas encore de valeur.\n",
    "Ce n'est qu'une fois exécuté dans une session TensorFlow qu'un calcul se produit et que `C` se retrouve avec une valeur.\n",
    "\n",
    "Cela rend le code TensorFlow très difficile à déboguer car les résultats intermédiaires ne sont pas accessibles. C'est là que l'exécution en mode Eager entre en jeu. Avec le mode Eager activée, le code est immédiatement exécuté, ligne par ligne, et les résultats intermédiaires sont instantanément disponibles. Le mode Eager fait ressembler le code TensorFlow à du code Python ordinaire. Et ceci est réalisé sans même avoir besoin de changer le code de calcul lors du passage d'une version de TensorFlow à une autre.\n",
    "\n",
    "Maintenant, reprenons une partie du code précédent qu'on va modifier pour l'exécuter en mode Eager.\n"
   ]
  },
  {
   "cell_type": "code",
   "execution_count": 2,
   "id": "f9fdb5c3-2bfb-48c1-b30a-95657a9510dd",
   "metadata": {},
   "outputs": [
    {
     "name": "stdout",
     "output_type": "stream",
     "text": [
      "Type du tenseur C: <class 'tensorflow.python.framework.ops.EagerTensor'>\n",
      "Result: 32.0\n"
     ]
    }
   ],
   "source": [
    "import sys\n",
    "import numpy as np\n",
    "import tensorflow as tf\n",
    "from tensorflow.python.framework.ops import enable_eager_execution\n",
    "\n",
    "\n",
    "enable_eager_execution()  # On réactive le mode Eager.\n",
    "\n",
    "A = tf.constant(np.array([1., 2., 3.]))\n",
    "B = tf.constant(np.array([4., 5., 6.]))\n",
    "C = tf.tensordot(A, B, 1)  # le calcul est effectué maintenant dans C.\n",
    "print(\"Type du tenseur C:\", type(C))\n",
    "print(\"Result:\", C.numpy())\n"
   ]
  },
  {
   "cell_type": "markdown",
   "id": "bc1691ad-30ab-47cb-8bd4-bfd29859f785",
   "metadata": {},
   "source": [
    "Attention ! Ce block de code ne pourra s'exécuter qu'au redémarrage de tout le l'environnement d'exécution qui exécute tes scriptes. Donc, si tu travailles dans un notebook Jupyter ou Google Colab, il va falloir que tu redémarres son Kernel. Au fait, l'activation ou la désactivation du mode Eager ne se produit qu'un seule fois, et il doit se produire au démarrage du programme. C'est la raison pour laquelle le noyau de Jupyter ou le scripte doit être redémarré.\n",
    "\n",
    "Sans le mode Eager, chaque tenseur est de type `tensorflow.python.framework.ops.Tensor`. Lorsque l'exécution en mode Eager est activée, le type devient `tensorflow.python.framework.ops.EagerTensor`. Tout en ayant un comportement similaire aux objets de type `Tensor`, les objets `EagerTensor` ont des fonctionnalités supplémentaires. Ce qui nous permet d'avoir, résultats au fur et à mesure qu'on évolue dans les calculs."
   ]
  },
  {
   "cell_type": "markdown",
   "id": "967607fe-d881-4a80-8d23-7476986911ea",
   "metadata": {},
   "source": [
    "## Regression linéaire"
   ]
  },
  {
   "cell_type": "markdown",
   "id": "dcbe559d-136f-44c2-8d36-b698a74bd6a1",
   "metadata": {},
   "source": [
    "La régression linéaire est l'une des formes les plus fondamentales\n",
    "de l'apprentissage automatique et est utilisée pour prédire des valeurs \n",
    "numériques. En terme simple, elle permet de trouver l'équation d'une droite\n",
    "appelée **modèle linéaire** qui approche au mieux la relation linéaire qui \n",
    "existe entre les variables indépendantes (ou observations) des données\n",
    "étudiées.\n",
    "\n",
    "- Lorsque plusieurs variables indépendantes sont présentes, alors on parle de\n",
    "**régression linéaire multiple**.\n",
    "- Lorsque plusieurs variables dépendantes sont prédites, alors on parle de\n",
    "**régression linéaire multivariée**.\n",
    "\n",
    "L'équation d'un modèle linéaire simple est sous la forme suivante :\n",
    "\n",
    "$$\n",
    "y = aX + b\n",
    "$$\n",
    "\n",
    "Où\n",
    "\n",
    "- $y$ est la variable dépendante\n",
    "- $X$ est la variable indépendante,\n",
    "- $a$ et $b$ sont les paramètres qu'on recherche. En effet, ce sont ces deux\n",
    "paramètres qui représentent le modèle.\n",
    "\n",
    "$a$ est connu sous le nom de **pente** ou **coéfficient directeur** et\n",
    "$b$ est l'**ordonné à l'origne**. Donc, en modifiant les valeurs de $a$ et $b$, \n",
    "on modifie le modèle en question. On peut ainsi interpréter cette équation\n",
    "comme $y$ étant une fonction à variable $X$, ou $y$ étant dépendant de $X$.\n",
    "\n",
    "Prenons l'exemple d'un ensemble de données (dataset) avec une variable\n",
    "et une étiquette (sortie). C'est à dire $y = f(X)$."
   ]
  },
  {
   "cell_type": "code",
   "execution_count": 4,
   "id": "f16c7557-32bb-41bd-a5e4-50ee3c6625b1",
   "metadata": {
    "execution": {
     "iopub.execute_input": "2023-08-22T16:00:24.931887Z",
     "iopub.status.busy": "2023-08-22T16:00:24.930898Z",
     "iopub.status.idle": "2023-08-22T16:00:25.110536Z",
     "shell.execute_reply": "2023-08-22T16:00:25.110069Z",
     "shell.execute_reply.started": "2023-08-22T16:00:24.931821Z"
    }
   },
   "outputs": [
    {
     "data": {
      "image/png": "[encoded data removed]",
      "text/plain": [
       "<Figure size 640x480 with 1 Axes>"
      ]
     },
     "metadata": {},
     "output_type": "display_data"
    }
   ],
   "source": [
    "import numpy as np\n",
    "import matplotlib.pyplot as plt\n",
    "\n",
    "# On génère un ensemble de points sous la forme y = f(x).\n",
    "# C'est à dire ayant une tendance linéaire.\n",
    "X = [1, 2, 2.5, 3, 4]\n",
    "Y = [1, 4, 7, 9, 15]\n",
    "\n",
    "# On affiche une représentation graphique:\n",
    "plt.plot(X, Y, 'ro')\n",
    "plt.axis([0, 6, 0, 20])\n",
    "plt.xlabel(\"Variable indépendante ou observation\")\n",
    "plt.ylabel(\"Variable dépendante ou étiquette\")\n",
    "plt.show()\n"
   ]
  },
  {
   "cell_type": "markdown",
   "id": "50adb198-5152-4c48-b40f-009c7508f845",
   "metadata": {},
   "source": [
    "Nous pouvons voir que ces données ont une tendance linéaire. Lorsque la valeur\n",
    "`x` augmente, la valeur `y` augmente également. Grâce à cette variation, nous\n",
    "pouvons établir une **ligne (droite)** de meilleur ajustement pour cet\n",
    "ensemble de données. Dans cet exemple, notre droite n'utilisera qu'une seule\n",
    "variable d'entrée, car nous travaillons dans le plan. Dans un ensemble de\n",
    "données plus grand avec plus de caractéristiques, notre droite aura plus de\n",
    "variables.\n",
    "\n",
    ">\"La droite de meilleur ajustement fait référence à une droite qui traverse\n",
    "> un nuage de points de données et exprime une meilleur relation entre ces\n",
    "> points.\n",
    "> [Vas sur ce lien.](https://www.investopedia.com/terms/l/line-of-best-fit.asp)\n",
    ">\"\n",
    "\n",
    "En recherchant la droite de meilleur ajustement, on peut obtenir le résultat\n",
    "suivant :"
   ]
  },
  {
   "cell_type": "code",
   "execution_count": 5,
   "id": "2a30d7c4-1875-4d74-85a5-ab16d4e9305e",
   "metadata": {
    "execution": {
     "iopub.execute_input": "2023-08-22T16:00:42.731899Z",
     "iopub.status.busy": "2023-08-22T16:00:42.729952Z",
     "iopub.status.idle": "2023-08-22T16:00:42.860404Z",
     "shell.execute_reply": "2023-08-22T16:00:42.859835Z",
     "shell.execute_reply.started": "2023-08-22T16:00:42.731825Z"
    }
   },
   "outputs": [
    {
     "data": {
      "image/png": "[encoded data removed]",
      "text/plain": [
       "<Figure size 640x480 with 1 Axes>"
      ]
     },
     "metadata": {},
     "output_type": "display_data"
    }
   ],
   "source": [
    "plt.plot(X, Y, 'ro')\n",
    "plt.axis([0, 6, 0, 20])\n",
    "\n",
    "un_x = np.unique(X)\n",
    "poly1d = np.poly1d(np.polyfit(X, Y, 1))\n",
    "\n",
    "plt.plot(un_x, poly1d(un_x))\n",
    "plt.xlabel(\"Variable indépendante ou observation\")\n",
    "plt.ylabel(\"Variable dépendante ou étiquette\")\n",
    "plt.show()"
   ]
  },
  {
   "cell_type": "markdown",
   "id": "60a774c4-8dcf-4b10-8220-452dfd6657b8",
   "metadata": {},
   "source": [
    "Une fois la droite de meilleur ajustement de notre ensemble de données est\n",
    "trouvée, nous pouvons utiliser son équation pour prédire les futures valeurs,\n",
    "c'est à dire : les valeurs qui ne sont pas dans l'ensemble de données\n",
    "(dataset).\n",
    "\n",
    "Maintenant, on va passer à l'utilisation avec TenseurFlow pour entraîner\n",
    "un modèle de régression linéaire sur un vrai ensemble de données."
   ]
  },
  {
   "cell_type": "markdown",
   "id": "7dd54cdc-c8e9-419e-82a9-65ccc220417d",
   "metadata": {},
   "source": [
    "### Chargement des données"
   ]
  },
  {
   "cell_type": "markdown",
   "id": "a2bff6fa-4103-41af-9442-68ef6dd486c0",
   "metadata": {},
   "source": [
    "Ce exemple simple va nous aider à comprendre le mécanisme de base\n",
    "de TensorFlow.\n",
    "On utilisera un exemple d'ensemble de données, et on utilisera TensorFlow pour\n",
    "ajuster et obtenir les bons paramètres de notre droite.\n",
    "\n",
    "On va utiliser un ensemble de données qui traite sur la consommation de\n",
    "carburant et aux émissions de dioxyde de carbone ($\\bf{CO_2}$) des voitures.\n",
    "Exécutons donc la commande suivante pour la télécharger."
   ]
  },
  {
   "cell_type": "code",
   "execution_count": 19,
   "id": "155c1c67-f137-477c-909f-20ea4333e4f0",
   "metadata": {
    "execution": {
     "iopub.execute_input": "2023-08-22T17:19:48.036478Z",
     "iopub.status.busy": "2023-08-22T17:19:48.034964Z",
     "iopub.status.idle": "2023-08-22T17:19:51.552990Z",
     "shell.execute_reply": "2023-08-22T17:19:51.551542Z",
     "shell.execute_reply.started": "2023-08-22T17:19:48.036409Z"
    }
   },
   "outputs": [
    {
     "name": "stdout",
     "output_type": "stream",
     "text": [
      "--2023-08-22 09:19:48--  https://s3-api.us-geo.objectstorage.softlayer.net/cf-courses-data/CognitiveClass/ML0101ENv3/labs/FuelConsumptionCo2.csv\n",
      "Resolving s3-api.us-geo.objectstorage.softlayer.net (s3-api.us-geo.objectstorage.softlayer.net)... 67.228.254.196\n",
      "Connecting to s3-api.us-geo.objectstorage.softlayer.net (s3-api.us-geo.objectstorage.softlayer.net)|67.228.254.196|:443... connected.\n",
      "HTTP request sent, awaiting response... 200 OK\n",
      "Length: 72629 (71K) [text/csv]\n",
      "Saving to: ‘FuelConsumptionCo2.csv’\n",
      "\n",
      "FuelConsumptionCo2. 100%[===================>]  70.93K  87.6KB/s    in 0.8s    \n",
      "\n",
      "2023-08-22 09:19:51 (87.6 KB/s) - ‘FuelConsumptionCo2.csv’ saved [72629/72629]\n",
      "\n"
     ]
    }
   ],
   "source": [
    "!mkdir dataset  # on crée un répertoire\n",
    "!wget -c \\\n",
    "https://s3-api.us-geo.objectstorage.softlayer.net/cf-courses-data/CognitiveClass/ML0101ENv3/labs/FuelConsumptionCo2.csv\n",
    "!mv FuelConsumptionCo2.csv ./dataset/FuelConsumption.csv  # On déplace le fichier dans le dossier."
   ]
  },
  {
   "cell_type": "markdown",
   "id": "b433e81a-2345-4e1f-a71a-1464b60f718f",
   "metadata": {},
   "source": [
    "Nous avons téléchargé un ensemble de données sur la consommation de carburant, `FuelConsumption.csv`, qui contient les cotes de consommation de carburant spécifiques au modèle de véhicule et les émissions estimées de dioxyde de carbone pour les nouveaux véhicules légers destinés à la vente en détail au Canada. Source de l'ensemble de données est par [ici](http://open.canada.ca/data/en/dataset/98f1a129-f628-4ce4-b24d-6f16bf24dd64?utm_medium=Exinfluencer&utm_source=Exinfluencer&utm_content=000026UJ&utm_term=10006555&utm_id=NA-SkillsNetwork-Channel-SkillsNetworkCoursesIBMDeveloperSkillsNetworkDL0120ENSkillsNetwork954-2023-01-01).\n",
    "\n",
    "On va utiliser Pandas pour charger notre dataset dans la mémoire du code."
   ]
  },
  {
   "cell_type": "code",
   "execution_count": 1,
   "id": "8ce0478a-a7f9-4a9f-a325-981a4a8a8fdb",
   "metadata": {
    "execution": {
     "iopub.execute_input": "2023-08-23T07:21:30.936930Z",
     "iopub.status.busy": "2023-08-23T07:21:30.936437Z",
     "iopub.status.idle": "2023-08-23T07:21:33.598340Z",
     "shell.execute_reply": "2023-08-23T07:21:33.590472Z",
     "shell.execute_reply.started": "2023-08-23T07:21:30.936882Z"
    }
   },
   "outputs": [
    {
     "data": {
      "text/html": [
       "<div>\n",
       "<style scoped>\n",
       "    .dataframe tbody tr th:only-of-type {\n",
       "        vertical-align: middle;\n",
       "    }\n",
       "\n",
       "    .dataframe tbody tr th {\n",
       "        vertical-align: top;\n",
       "    }\n",
       "\n",
       "    .dataframe thead th {\n",
       "        text-align: right;\n",
       "    }\n",
       "</style>\n",
       "<table border=\"1\" class=\"dataframe\">\n",
       "  <thead>\n",
       "    <tr style=\"text-align: right;\">\n",
       "      <th></th>\n",
       "      <th>MODELYEAR</th>\n",
       "      <th>MAKE</th>\n",
       "      <th>MODEL</th>\n",
       "      <th>VEHICLECLASS</th>\n",
       "      <th>ENGINESIZE</th>\n",
       "      <th>CYLINDERS</th>\n",
       "      <th>TRANSMISSION</th>\n",
       "      <th>FUELTYPE</th>\n",
       "      <th>FUELCONSUMPTION_CITY</th>\n",
       "      <th>FUELCONSUMPTION_HWY</th>\n",
       "      <th>FUELCONSUMPTION_COMB</th>\n",
       "      <th>FUELCONSUMPTION_COMB_MPG</th>\n",
       "      <th>CO2EMISSIONS</th>\n",
       "    </tr>\n",
       "  </thead>\n",
       "  <tbody>\n",
       "    <tr>\n",
       "      <th>0</th>\n",
       "      <td>2014</td>\n",
       "      <td>ACURA</td>\n",
       "      <td>ILX</td>\n",
       "      <td>COMPACT</td>\n",
       "      <td>2.0</td>\n",
       "      <td>4</td>\n",
       "      <td>AS5</td>\n",
       "      <td>Z</td>\n",
       "      <td>9.9</td>\n",
       "      <td>6.7</td>\n",
       "      <td>8.5</td>\n",
       "      <td>33</td>\n",
       "      <td>196</td>\n",
       "    </tr>\n",
       "    <tr>\n",
       "      <th>1</th>\n",
       "      <td>2014</td>\n",
       "      <td>ACURA</td>\n",
       "      <td>ILX</td>\n",
       "      <td>COMPACT</td>\n",
       "      <td>2.4</td>\n",
       "      <td>4</td>\n",
       "      <td>M6</td>\n",
       "      <td>Z</td>\n",
       "      <td>11.2</td>\n",
       "      <td>7.7</td>\n",
       "      <td>9.6</td>\n",
       "      <td>29</td>\n",
       "      <td>221</td>\n",
       "    </tr>\n",
       "    <tr>\n",
       "      <th>2</th>\n",
       "      <td>2014</td>\n",
       "      <td>ACURA</td>\n",
       "      <td>ILX HYBRID</td>\n",
       "      <td>COMPACT</td>\n",
       "      <td>1.5</td>\n",
       "      <td>4</td>\n",
       "      <td>AV7</td>\n",
       "      <td>Z</td>\n",
       "      <td>6.0</td>\n",
       "      <td>5.8</td>\n",
       "      <td>5.9</td>\n",
       "      <td>48</td>\n",
       "      <td>136</td>\n",
       "    </tr>\n",
       "    <tr>\n",
       "      <th>3</th>\n",
       "      <td>2014</td>\n",
       "      <td>ACURA</td>\n",
       "      <td>MDX 4WD</td>\n",
       "      <td>SUV - SMALL</td>\n",
       "      <td>3.5</td>\n",
       "      <td>6</td>\n",
       "      <td>AS6</td>\n",
       "      <td>Z</td>\n",
       "      <td>12.7</td>\n",
       "      <td>9.1</td>\n",
       "      <td>11.1</td>\n",
       "      <td>25</td>\n",
       "      <td>255</td>\n",
       "    </tr>\n",
       "    <tr>\n",
       "      <th>4</th>\n",
       "      <td>2014</td>\n",
       "      <td>ACURA</td>\n",
       "      <td>RDX AWD</td>\n",
       "      <td>SUV - SMALL</td>\n",
       "      <td>3.5</td>\n",
       "      <td>6</td>\n",
       "      <td>AS6</td>\n",
       "      <td>Z</td>\n",
       "      <td>12.1</td>\n",
       "      <td>8.7</td>\n",
       "      <td>10.6</td>\n",
       "      <td>27</td>\n",
       "      <td>244</td>\n",
       "    </tr>\n",
       "  </tbody>\n",
       "</table>\n",
       "</div>"
      ],
      "text/plain": [
       "   MODELYEAR   MAKE       MODEL VEHICLECLASS  ENGINESIZE  CYLINDERS  \\\n",
       "0       2014  ACURA         ILX      COMPACT         2.0          4   \n",
       "1       2014  ACURA         ILX      COMPACT         2.4          4   \n",
       "2       2014  ACURA  ILX HYBRID      COMPACT         1.5          4   \n",
       "3       2014  ACURA     MDX 4WD  SUV - SMALL         3.5          6   \n",
       "4       2014  ACURA     RDX AWD  SUV - SMALL         3.5          6   \n",
       "\n",
       "  TRANSMISSION FUELTYPE  FUELCONSUMPTION_CITY  FUELCONSUMPTION_HWY  \\\n",
       "0          AS5        Z                   9.9                  6.7   \n",
       "1           M6        Z                  11.2                  7.7   \n",
       "2          AV7        Z                   6.0                  5.8   \n",
       "3          AS6        Z                  12.7                  9.1   \n",
       "4          AS6        Z                  12.1                  8.7   \n",
       "\n",
       "   FUELCONSUMPTION_COMB  FUELCONSUMPTION_COMB_MPG  CO2EMISSIONS  \n",
       "0                   8.5                        33           196  \n",
       "1                   9.6                        29           221  \n",
       "2                   5.9                        48           136  \n",
       "3                  11.1                        25           255  \n",
       "4                  10.6                        27           244  "
      ]
     },
     "execution_count": 1,
     "metadata": {},
     "output_type": "execute_result"
    }
   ],
   "source": [
    "import pandas as pd\n",
    "\n",
    "\n",
    "dataset_df = pd.read_csv(\"./dataset/FuelConsumption.csv\")\n",
    "dataset_df.head()  # On affiche les 5 premières."
   ]
  },
  {
   "cell_type": "markdown",
   "id": "6f558a1c-6904-46b1-bf28-a178640590e3",
   "metadata": {},
   "source": [
    "### Transformation des données "
   ]
  },
  {
   "cell_type": "markdown",
   "id": "69578a27-e139-45d0-8d2a-738975ab4d75",
   "metadata": {},
   "source": [
    "Nous voulons utiliser la régression linéaire pour prédire la quantité de \n",
    "$\\bf{CO_2}$ émise par des véhicules en fonction de leur taille. Définissons \n",
    "donc les variables $X$ et $y$ pour notre modèle linéaire, c'est-à-dire `x_train` \n",
    "et `y_train` :"
   ]
  },
  {
   "cell_type": "code",
   "execution_count": 2,
   "id": "9f45888b-ca31-468c-8c4d-6731d4250cf0",
   "metadata": {
    "execution": {
     "iopub.execute_input": "2023-08-23T07:21:44.009888Z",
     "iopub.status.busy": "2023-08-23T07:21:44.009601Z",
     "iopub.status.idle": "2023-08-23T07:21:44.247873Z",
     "shell.execute_reply": "2023-08-23T07:21:44.246644Z",
     "shell.execute_reply.started": "2023-08-23T07:21:44.009865Z"
    }
   },
   "outputs": [],
   "source": [
    "import numpy as np\n",
    "\n",
    "\n",
    "x_train = np.asanyarray(dataset_df[['ENGINESIZE']])\n",
    "y_train = np.asanyarray(dataset_df[['CO2EMISSIONS']])"
   ]
  },
  {
   "cell_type": "markdown",
   "id": "94a46d5c-cc85-477f-955b-87918e22751a",
   "metadata": {},
   "source": [
    "Il n'y a rien à faire ici, car les données des deux colonnes concernées\n",
    "(`'ENGINESIZE'` et `'CO2EMISSIONS'` sont déjà numériques."
   ]
  },
  {
   "cell_type": "markdown",
   "id": "fc552fa8-0856-4df4-b1ee-f22d40a8a2e6",
   "metadata": {},
   "source": [
    "### Création du modèle"
   ]
  },
  {
   "cell_type": "markdown",
   "id": "a47fa4b9-4061-41e9-b91f-270f314c89ce",
   "metadata": {},
   "source": [
    "Pour rappel, notre modèle linéaire est sous la forme $aX + b$ avec les $X$\n",
    "la variable d'entrée et $a$ et $b$ les paramètres de notre modèle.\n",
    "Au départ, ces paramètres seront initialisés de façon arbitraire. On pourra\n",
    "par exemple choisir $20.0$ pour $a$ et $30.2$ pour $b$."
   ]
  },
  {
   "cell_type": "code",
   "execution_count": 11,
   "id": "db20e68c-dc57-495f-9b8d-eac419d62859",
   "metadata": {
    "execution": {
     "iopub.execute_input": "2023-08-23T09:20:19.417328Z",
     "iopub.status.busy": "2023-08-23T09:20:19.416848Z",
     "iopub.status.idle": "2023-08-23T09:20:19.424971Z",
     "shell.execute_reply": "2023-08-23T09:20:19.424384Z",
     "shell.execute_reply.started": "2023-08-23T09:20:19.417286Z"
    }
   },
   "outputs": [],
   "source": [
    "import tensorflow as tf\n",
    "\n",
    "\n",
    "a = tf.Variable(20.0)\n",
    "b = tf.Variable(30.2)\n",
    "\n",
    "\n",
    "def f(x):\n",
    "    # Définition de la fonction linéaire.\n",
    "    y = a*x + b\n",
    "    return y"
   ]
  },
  {
   "cell_type": "markdown",
   "id": "767f8288-5901-484f-9330-dd74ce81c1ba",
   "metadata": {},
   "source": [
    "### Fonction de perte"
   ]
  },
  {
   "cell_type": "markdown",
   "id": "484bf590-3779-4c74-8c0a-0e9bdd20fe6f",
   "metadata": {},
   "source": [
    "Nous allons maintenant définir une fonction de perte pour notre régression,\n",
    "afin de pouvoir entraîner notre modèle. Cette fonction permet de mesurer\n",
    "l'erreur commise par le modèle lorsqu'il effectue une prédiction sur\n",
    "une valeur de $X$.\n",
    "\n",
    "Au cour de l'apprentissage, on tente de diminuer l'erreur commise par le\n",
    "modèle sur chaque donnée de la dataset, c'est qui nous permet d'obtenir\n",
    "à la fin, un modèle qui commait moins d'erreur que possible dans ses\n",
    "prédiction.\n",
    "\n",
    "Dans une régression linéaire, on minimise l'erreur quadratique de la\n",
    "différence entre les valeurs prédites (obtenues à partir de l'équation)\n",
    "et les valeurs cibles `y_train` (les données dont nous disposons).\n",
    "En d’autres termes, nous voulons minimiser le carré des valeurs prédites\n",
    "`y_pred` moins la valeur cible `y_train`."
   ]
  },
  {
   "cell_type": "code",
   "execution_count": 5,
   "id": "f3621ada-c571-465c-8e23-fcbbccd7fb4b",
   "metadata": {
    "execution": {
     "iopub.execute_input": "2023-08-23T07:25:15.500784Z",
     "iopub.status.busy": "2023-08-23T07:25:15.500123Z",
     "iopub.status.idle": "2023-08-23T07:25:15.508787Z",
     "shell.execute_reply": "2023-08-23T07:25:15.507123Z",
     "shell.execute_reply.started": "2023-08-23T07:25:15.500723Z"
    }
   },
   "outputs": [],
   "source": [
    "def loss_function(y_pred, y_train) :\n",
    "    return tf.reduce_mean(tf.square(y_pred - y_train))"
   ]
  },
  {
   "cell_type": "markdown",
   "id": "542c2032-4530-4747-936b-a1f82932479d",
   "metadata": {},
   "source": [
    "- La foncion **`tf.reduce_mean(input_tensor)`** permet de calculer la moyenne de\n",
    "tous les éléments contenus dans le tenseur `input_tensor`. Donc, cette fonction renverra un scalaire. Tu trouveras plus\n",
    "d'information sur cette fonction à ce\n",
    "[lien](https://www.tensorflow.org/api_docs/python/tf/math/reduce_mean).\n",
    "- La fonction **`tf.square(x)`** permet de calculer le carré\n",
    "($x \\times x = x^2$) de chaque élément contenu dans le tenseur `x`.\n",
    "Donc cette fonction renverra un tenseur de même dimension que `x`. Pour\n",
    "plus d'information, regarde par\n",
    "[ici](https://www.tensorflow.org/api_docs/python/tf/math/square).\n",
    "\n",
    "Voici donc l'expression mathématique que réalise `loss_function()` notre\n",
    "fonction de perte :\n",
    "$$\n",
    "L = \\frac{( y_{pred} - y_{train})^2}{N}\n",
    "$$\n",
    "\n",
    "avec $N$ le nombre d'éléments, dans notre cas ici, la valeur de $N$ sera\n",
    "égale au nombre d'éléments contenus dans le tenseur résultant de l'opération\n",
    "$( y_{pred} - y_{train})^2$.\n",
    "\n",
    "On peut aussi utiliser une méthode prédéfinie proposée par TensorFlow \n",
    "pour calculer la fonction de perte quadratique :"
   ]
  },
  {
   "cell_type": "code",
   "execution_count": 25,
   "id": "86411c01-dabc-4d53-b803-80137f3a2948",
   "metadata": {
    "execution": {
     "iopub.execute_input": "2023-08-22T18:15:05.120735Z",
     "iopub.status.busy": "2023-08-22T18:15:05.119652Z",
     "iopub.status.idle": "2023-08-22T18:15:05.124867Z",
     "shell.execute_reply": "2023-08-22T18:15:05.124103Z",
     "shell.execute_reply.started": "2023-08-22T18:15:05.120686Z"
    }
   },
   "outputs": [],
   "source": [
    "loss_function = tf.keras.losses.MeanSquaredLogarithmicError()"
   ]
  },
  {
   "cell_type": "markdown",
   "id": "30babca1-c609-4dc1-9350-076d66b84962",
   "metadata": {},
   "source": [
    "### Entraînement du modèle"
   ]
  },
  {
   "cell_type": "markdown",
   "id": "808b0704-11d5-40ad-9a74-d0470993d69b",
   "metadata": {},
   "source": [
    "Nous sommes maintenant prêts à commencer l’entraînement en exécutant le\n",
    "graphe de calcul des opérations qui interviennent dans le processus\n",
    "d'entraînement. On va donc utiliser `tf.GradientTape` pour calculer\n",
    "les gradients."
   ]
  },
  {
   "cell_type": "code",
   "execution_count": 13,
   "id": "33c4962e-c5d5-41a4-bffa-a9503720a12c",
   "metadata": {
    "execution": {
     "iopub.execute_input": "2023-08-23T09:23:04.909317Z",
     "iopub.status.busy": "2023-08-23T09:23:04.908922Z",
     "iopub.status.idle": "2023-08-23T09:23:04.915855Z",
     "shell.execute_reply": "2023-08-23T09:23:04.915212Z",
     "shell.execute_reply.started": "2023-08-23T09:23:04.909281Z"
    }
   },
   "outputs": [],
   "source": [
    "def training_function(n_epochs: int = 200, learning_rate: float = 0.01,):\n",
    "    \"\"\" Fonction d'apprentissage du modèle.\n",
    "\n",
    "    Args:\n",
    "        n_epochs: Le nombre de fois que le modèle verra \n",
    "            la dataset d'entraînement.\n",
    "        learning_rate: Le taux ou vitesse d'apprentissage.\n",
    "            Toujours strictement inférieur à 1.\n",
    "    \"\"\"\n",
    "    model_params = []  # historique des paramètres du modèle.\n",
    "    loss_values = []  # historique des erreurs du modèle.\n",
    "\n",
    "    # Boucle d'entrainement :\n",
    "    for epoch in range(n_epochs):\n",
    "        with tf.GradientTape() as tape:\n",
    "            # On calcule la prédiction du modèle.\n",
    "            y_pred = f(x_train)\n",
    "\n",
    "            # On mesure l'erreur de prédiction.\n",
    "            loss = loss_function(y_pred, y_train)\n",
    "            loss_values.append(loss)\n",
    "    \n",
    "            # On calcule le gradient de l'erreur\n",
    "            # par rapport au paramètre du modèle.\n",
    "            grad_a, grad_b = tape.gradient(loss, [a, b])\n",
    "            \n",
    "            # Mise à jour des paramètres du modèles.\n",
    "            a.assign_sub(grad_a * learning_rate)\n",
    "            b.assign_sub(grad_b * learning_rate)\n",
    "            \n",
    "            if epoch % 5 == 0:\n",
    "                # A chaque pas de 5 tours de boubles\n",
    "                # on sauvegarde les valeurs des paramètres du modèle\n",
    "                model_params.append([a.numpy(), b.numpy()])\n",
    "\n",
    "    return loss_values, model_params\n"
   ]
  },
  {
   "cell_type": "markdown",
   "id": "d29fbbf3-3416-4661-82a9-cf2c7e4e7de1",
   "metadata": {},
   "source": [
    "1. Les paramètres `n_epochs` et `learning_rate` sont ce qu'on appel les\n",
    "**hyperparamètres d'apprentissage**.\n",
    "2. La fonction `x.assign_sub(y)` permet de soustraire la valeur du tenseur\n",
    "`y` de celle du tenseur `x`, c'est à dire : `x = x - y`. Pour plus\n",
    "d'information, regarde par\n",
    "[ici](https://www.tensorflow.org/api_docs/python/tf/compat/v1/assign_sub).\n",
    "3. La mise à jour des paramètres du modèle se fait en utilisant la formule\n",
    "de la **descente de gradient**. Voici son expression mathématique :\n",
    "\n",
    "$$\n",
    "w = w - \\alpha \\times \\frac{\\partial L}{\\partial w}\n",
    "$$\n",
    "\n",
    "avec\n",
    "\n",
    "- $w$ le paramètre du modèle à mettre à jour. Dans notre cas ici, il s'agit\n",
    "de deux paramètres : $a$ et $b$.\n",
    "- $\\alpha$ la vitesse d'apprentissage. Il s'agit ici de notre variable\n",
    "`learning_rate`.\n",
    "- $L$ la fonction d'erreur ou perte. Dans notre cas ici, il s'agit de la\n",
    "fonction `loss_function()`.\n",
    "- $\\frac{\\partial L}{\\partial w}$ la dérivée partielle de l'erreur $L$ par\n",
    "rapport au paramètre $w$. Étant donné qu'on a deux paramètres dans notre\n",
    "modèle, alors ça nous fait deux dérivées partielles à calculer, l'une par\n",
    "rapport à $a$ et l'autre par rapport à $b$. Ce sont ces deux dérivées\n",
    "partielles mises ensemble qui forme le gradient.\n",
    "\n",
    "4. Le gradient d'une fonction $g$ est un vecteur, matrice ou tenseur de\n",
    "dérivées partielles par rapport à ses variables. Si cette fonction n'a qu'une\n",
    "seule variable, alors on parle simplement de dérivée. C'est juste un rappel.\n",
    "\n",
    "Maintenant executons notre fonction d'entraînement."
   ]
  },
  {
   "cell_type": "code",
   "execution_count": 14,
   "id": "4f4ab833-11fa-4f92-8a49-53ca31603e4f",
   "metadata": {
    "execution": {
     "iopub.execute_input": "2023-08-23T09:23:36.561210Z",
     "iopub.status.busy": "2023-08-23T09:23:36.560980Z",
     "iopub.status.idle": "2023-08-23T09:23:36.907187Z",
     "shell.execute_reply": "2023-08-23T09:23:36.906516Z",
     "shell.execute_reply.started": "2023-08-23T09:23:36.561192Z"
    }
   },
   "outputs": [
    {
     "name": "stdout",
     "output_type": "stream",
     "text": [
      "[[31.414211, 33.382053], [54.816692, 40.65341], [59.065193, 42.998283], [59.64082, 44.38414], [59.51489, 45.572674], [59.257656, 46.710266], [58.978527, 47.825195], [58.698444, 48.92307], [58.42139, 50.005154], [58.148083, 51.07186]]\n"
     ]
    }
   ],
   "source": [
    "# On exécute avec les valeurs par défaut.\n",
    "losses, params = training_function()\n",
    "print(params[:10])"
   ]
  },
  {
   "cell_type": "markdown",
   "id": "b4edad90-042d-44a1-b047-72b2dc65cfbd",
   "metadata": {},
   "source": [
    "On va tracer la courbe de l'évolution de l'erreur du modèle en fonction des \n",
    "valeurs de `epoch`."
   ]
  },
  {
   "cell_type": "code",
   "execution_count": 24,
   "id": "f1547049-d43c-45bc-9f09-d1be910b93e8",
   "metadata": {
    "execution": {
     "iopub.execute_input": "2023-08-23T09:56:46.705780Z",
     "iopub.status.busy": "2023-08-23T09:56:46.705440Z",
     "iopub.status.idle": "2023-08-23T09:56:46.838586Z",
     "shell.execute_reply": "2023-08-23T09:56:46.838104Z",
     "shell.execute_reply.started": "2023-08-23T09:56:46.705756Z"
    }
   },
   "outputs": [
    {
     "data": {
      "image/png": "[encoded data removed]",
      "text/plain": [
       "<Figure size 640x480 with 1 Axes>"
      ]
     },
     "metadata": {},
     "output_type": "display_data"
    }
   ],
   "source": [
    "import matplotlib.pyplot as plt\n",
    "\n",
    "plt.plot(losses)\n",
    "plt.xlabel(\"Epochs\")\n",
    "plt.ylabel(\"Erreur quadratique\")\n",
    "plt.show()"
   ]
  },
  {
   "cell_type": "markdown",
   "id": "9b89ac3d-3bcc-46cb-93c1-777ac3f9d11b",
   "metadata": {},
   "source": [
    "Cette courbe nous permet de savoir que notre modèle à bien appris car l'erreur\n",
    "a diminuer sur les données d'apprentissage."
   ]
  },
  {
   "cell_type": "markdown",
   "id": "77971c1c-3f46-411a-9f8e-0fbbde0821ee",
   "metadata": {},
   "source": [
    "## Régression logistique"
   ]
  },
  {
   "cell_type": "markdown",
   "id": "c7e9870c-6e27-4fc5-8c8e-9d779f7dcdcc",
   "metadata": {},
   "source": [
    "Bien que la régression linéaire soit adaptée à l'estimation de valeurs\n",
    "continues (par exemple, l'estimation du prix de l'immobilier), elle n'est\n",
    "pas le meilleur outil pour prédire la classe à laquelle appartient un point\n",
    "de données observé. Afin de fournir une estimation pour la classification,\n",
    "nous avons besoin d'une sorte d'indication sur quelle serait la classe la\n",
    "plus probable pour ce point de données. Pour cela, nous utilisons la\n",
    "régression logistique.\n",
    "\n",
    "La régression logistique est une variante de la régression linéaire, utile\n",
    "lorsque la variable dépendante observée, $y$, est catégorique. Il utilise\n",
    "une formule qui permet de prédire la probabilité  qu'un point de données\n",
    "appartienne à une classe en fonction des variables indépendantes\n",
    "(observations).\n",
    "\n",
    "Il s’agit en fait d’un modèle de classification probabiliste. La régression \n",
    "logistique ajuste une courbe spéciale en forme de S en transformant la\n",
    "valeur d'une régression linéaire en probabilité avec la fonction suivante :\n",
    "\n",
    "$$\n",
    "\\sigma(x) = \\frac{1}{1 + e^{-x}}\n",
    "$$\n",
    "\n",
    "- $\\sigma$ est la fonction **sigmoid** encore appellée **fonction logistique**.\n",
    "- $e^{-x}$ représente la valeur de la **fonction exponentielle** à\n",
    "variable $-x$.\n",
    "\n",
    "C'est fonction produit des valeurs comprises entre 0 et 1, losrque $x$ varie\n",
    "de $-\\infty$ à $+\\infty$. La courbe de cette fonction a une forme en \"S\"\n",
    "(courbe sigmoïde) et a été développée pour la première fois pour modéliser\n",
    "la croissance démographique.\n",
    "\n",
    "Dans notre modèle de régression logistique, la variable $x$ sera le résultat\n",
    "de la régression linéaire (la somme des variables pondérées par les \n",
    "coefficients de la droite).\n"
   ]
  },
  {
   "cell_type": "markdown",
   "id": "78e4aafc-8824-4ac2-8422-ec1fa575b3cd",
   "metadata": {},
   "source": [
    "![](./images/mod_ID_24_final.png)"
   ]
  },
  {
   "cell_type": "markdown",
   "id": "62562202-bc38-4ddb-9b73-1c4045522bf9",
   "metadata": {},
   "source": [
    "Maintenant, que tu as assez d'information sur le sujet, on peut passer à\n",
    "un cas pratique de regression logistique avec TensorFlow."
   ]
  },
  {
   "cell_type": "markdown",
   "id": "010ad7a2-0a02-48a5-9346-e932df6184fa",
   "metadata": {},
   "source": [
    "### L'ensemble de données"
   ]
  },
  {
   "cell_type": "markdown",
   "id": "68711d01-cdc7-427a-a0fd-7ba6b423779d",
   "metadata": {},
   "source": [
    "Nous allons utiliser l'ensemble de données des fleures d'**iris**,\n",
    "qui est intégré dans la bibliothèque scikit-learn.\n",
    "\n",
    "L'ensemble de données des fleures d'**iris** qui a été introduit par le \n",
    "statisticien et biologiste britannique *Ronald Fisher*. Il est composé de 50 \n",
    "échantillons  environ de chacune des trois espèces d'iris (Iris setosa, Iris \n",
    "virginica et  Iris  versicolor). Au total, il contient 149 enregistrements\n",
    "sous cinq (5) observations : \n",
    "\n",
    "- longueur des pétales,\n",
    "- largeur des pétales,\n",
    "- longueur des sépales,\n",
    "- largeur des sépales\n",
    "- et l'espèce auquel appartient la fleure.\n",
    "\n",
    "Voici le [lien](https://archive.ics.uci.edu/dataset/53/iris) vers la source\n",
    "de cette dataset.\n",
    "\n",
    "Dans notre tâche, il s'agira de prédire l'espèces auquel appartient une fleure\n",
    "en fonction des variables suivantes :\n",
    "\n",
    "- longueur des pétales,\n",
    "- largeur des pétales,\n",
    "- longueur des sépales,\n",
    "- largeur des sépales.\n",
    "\n",
    "On dispose de trois (3) espèces différentes :\n",
    "\n",
    "- Iris setosa;\n",
    "- Iris virginica;\n",
    "- Iris versicolor."
   ]
  },
  {
   "cell_type": "markdown",
   "id": "099e90f2-73e2-47de-a5d1-33e458d49352",
   "metadata": {},
   "source": [
    "#### Chargement des données"
   ]
  },
  {
   "cell_type": "markdown",
   "id": "81b42991-0481-4d29-a3a7-fc67a21ac5ea",
   "metadata": {},
   "source": [
    "Étant donné que notre ensemble de données se trouve déjà la bibliothèque\n",
    "scikit-learn, alors on n'aura plus de téléchargement à faire ici."
   ]
  },
  {
   "cell_type": "code",
   "execution_count": 2,
   "id": "6f430ce7-dc24-4372-b332-f02a7858f771",
   "metadata": {
    "execution": {
     "iopub.execute_input": "2023-08-28T15:33:07.155446Z",
     "iopub.status.busy": "2023-08-28T15:33:07.155018Z",
     "iopub.status.idle": "2023-08-28T15:33:10.577142Z",
     "shell.execute_reply": "2023-08-28T15:33:10.575825Z",
     "shell.execute_reply.started": "2023-08-28T15:33:07.155421Z"
    }
   },
   "outputs": [
    {
     "name": "stdout",
     "output_type": "stream",
     "text": [
      "[5.1 3.5 1.4 0.2] \t 0\n",
      "[4.9 3.  1.4 0.2] \t 0\n",
      "[4.7 3.2 1.3 0.2] \t 0\n",
      "[4.6 3.1 1.5 0.2] \t 0\n",
      "[5.  3.6 1.4 0.2] \t 0\n"
     ]
    }
   ],
   "source": [
    "from sklearn.datasets import load_iris\n",
    "from sklearn.model_selection import train_test_split\n",
    "\n",
    "\n",
    "iris_ds = load_iris()\n",
    "X, y = iris_ds.data[:-1,:], iris_ds.target[:-1]\n",
    "\n",
    "for features, labels in zip(X[:5], y[:5]):\n",
    "    print(features, '\\t', labels)\n"
   ]
  },
  {
   "cell_type": "markdown",
   "id": "da5f5912-6579-49dd-a414-755152c65ad7",
   "metadata": {},
   "source": [
    "#### Exploration des données"
   ]
  },
  {
   "cell_type": "markdown",
   "id": "b6a51b7c-1706-4cc4-b5bf-61bed9ace049",
   "metadata": {},
   "source": [
    "D'après ces informations, on peut déjà déduire le nombre de variables\n",
    "indépendantes qu'on a dans notre ensemble de données. On a quatre (4) variables\n",
    "et le nombre de catégories (ou classes) dans lesquelles on veut ranger ces\n",
    "données est trois (3). Vérifions cela en examinant les dimensions des tableaux."
   ]
  },
  {
   "cell_type": "code",
   "execution_count": 3,
   "id": "b5498d83-50ef-4b44-8bce-11a6afa58b6d",
   "metadata": {
    "execution": {
     "iopub.execute_input": "2023-08-28T15:33:14.434512Z",
     "iopub.status.busy": "2023-08-28T15:33:14.433877Z",
     "iopub.status.idle": "2023-08-28T15:33:14.470934Z",
     "shell.execute_reply": "2023-08-28T15:33:14.470279Z",
     "shell.execute_reply.started": "2023-08-28T15:33:14.434479Z"
    }
   },
   "outputs": [
    {
     "name": "stdout",
     "output_type": "stream",
     "text": [
      "X : (149, 4)\n",
      "y : (149,)\n",
      "Classes : [0 1 2]\n",
      "Nombre de variables (ou features) 4\n",
      "Nombre d'étiquettes (ou labels) 3\n"
     ]
    }
   ],
   "source": [
    "import numpy as np\n",
    "\n",
    "\n",
    "print(\"X :\", X.shape)\n",
    "print(\"y :\", y.shape)\n",
    "\n",
    "# on récupère les différentes classes :\n",
    "classes = np.unique(y)\n",
    "print(\"Classes :\", classes)\n",
    "\n",
    "n_features = X.shape[1]\n",
    "n_labels = classes.shape[0]\n",
    "print(\"Nombre de variables (ou features) {}\".format(n_features))\n",
    "print(\"Nombre d'étiquettes (ou labels) {}\".format(n_labels))"
   ]
  },
  {
   "cell_type": "markdown",
   "id": "9375e435-7ecd-45b5-83f9-1b2244b68a2a",
   "metadata": {},
   "source": [
    "La fonction `np.unique(ar)` permet de récupérer toutes les valeurs distinctes\n",
    "présentes dans un tableau numpy (`ar`). Si tu veux plus d'information, regarde\n",
    "[ici](https://numpy.org/doc/stable/reference/generated/numpy.unique.html)."
   ]
  },
  {
   "cell_type": "markdown",
   "id": "2f1e050b-06fd-45e7-afbd-34cb34efabbc",
   "metadata": {},
   "source": [
    "#### Transformation des données"
   ]
  },
  {
   "cell_type": "markdown",
   "id": "91ed51f5-921c-4e93-83ff-28a57d60e750",
   "metadata": {},
   "source": [
    "Avant de continuer, On va séparer notre dataset en deux parties : l'ensemble\n",
    "des données d'entraînement et celui de teste. Pour cela, on va utiliser\n",
    "fonction `train_test_split()` de la bibliothèque scikit-learn."
   ]
  },
  {
   "cell_type": "code",
   "execution_count": 4,
   "id": "e3d75c95-b2e2-4b4d-bae6-5c26cd2658e0",
   "metadata": {
    "execution": {
     "iopub.execute_input": "2023-08-28T15:33:18.019359Z",
     "iopub.status.busy": "2023-08-28T15:33:18.019087Z",
     "iopub.status.idle": "2023-08-28T15:33:18.024520Z",
     "shell.execute_reply": "2023-08-28T15:33:18.023612Z",
     "shell.execute_reply.started": "2023-08-28T15:33:18.019326Z"
    }
   },
   "outputs": [
    {
     "name": "stdout",
     "output_type": "stream",
     "text": [
      "Nombre de données d'entraînement : 99\n",
      "Nombre de données de teste : 50\n"
     ]
    }
   ],
   "source": [
    "X_train, X_test, y_train, y_test = train_test_split(X, y,\n",
    "                                                    test_size=0.33,\n",
    "                                                    random_state=42)\n",
    "\n",
    "print(\"Nombre de données d'entraînement :\", X_train.shape[0])\n",
    "print(\"Nombre de données de teste :\", X_test.shape[0])"
   ]
  },
  {
   "cell_type": "markdown",
   "id": "1314a99a-acc4-4256-b5b1-f6b1d1f4b87d",
   "metadata": {},
   "source": [
    "Maintenant, si tu te rappels bien, un modèle de régression logistique\n",
    "utilise la fonction logistique $\\sigma$ pour produire des valeurs comprises\n",
    "entre 0 et 1 en sortie. Alors que dans notre ensemble de données, les \n",
    "valeurs de `y_train` varie de 0 à 2. Ce qui n'arrangerait pas notre modèle.\n",
    "Pour cela, on va chercher un moyen de transformer les valeurs de `y_train`\n",
    "de telle sorte qu'on ait que des valeurs comprises entre 0 et 1 dans notre\n",
    "ensemble de données. Donc, pour résumer, on va quitter `[0, 1, 2]` à `[0, 1]`.\n",
    "Pour cela, on va utiliser la fonction `get_dummies()` de la bibliothèque\n",
    "Pandas qui va nous permettre d'avoir des valeurs booléenne pour chaque classe."
   ]
  },
  {
   "cell_type": "code",
   "execution_count": 5,
   "id": "e0197fbd-5964-4623-aa34-f5f867a82fab",
   "metadata": {
    "execution": {
     "iopub.execute_input": "2023-08-28T15:33:21.447199Z",
     "iopub.status.busy": "2023-08-28T15:33:21.446705Z",
     "iopub.status.idle": "2023-08-28T15:33:21.687573Z",
     "shell.execute_reply": "2023-08-28T15:33:21.686219Z",
     "shell.execute_reply.started": "2023-08-28T15:33:21.447166Z"
    }
   },
   "outputs": [
    {
     "name": "stdout",
     "output_type": "stream",
     "text": [
      "[[False  True False]\n",
      " [False False  True]\n",
      " [False  True False]\n",
      " [ True False False]\n",
      " [False False  True]\n",
      " [False  True False]\n",
      " [ True False False]\n",
      " [ True False False]\n",
      " [ True False False]\n",
      " [False  True False]]\n"
     ]
    }
   ],
   "source": [
    "import pandas as pd\n",
    "\n",
    "\n",
    "y_train = pd.get_dummies(y_train).values\n",
    "y_test = pd.get_dummies(y_test).values\n",
    "print(y_train[:10])"
   ]
  },
  {
   "cell_type": "markdown",
   "id": "a5c4b87a-924c-41aa-8e89-668131903ce8",
   "metadata": {},
   "source": [
    "Ces valeurs traduises le faite qu'un point de données (une fleure)\n",
    "appartienne à une classe ou non. Par exemple, la première fleure de notre\n",
    "ensemble de données à pour sortie `[False  True False]`, ce qui signifie\n",
    "qu'elle appartienne à la classe numéro `2`, c'est donc binaire.\n",
    "\n",
    "Maintenant, pour avoir que des 0 et des 1, très simplement, on pourra\n",
    "exécuter le code suivant :"
   ]
  },
  {
   "cell_type": "code",
   "execution_count": 6,
   "id": "eb324c21-3b26-401c-b633-f96009fd4c3b",
   "metadata": {
    "execution": {
     "iopub.execute_input": "2023-08-28T15:33:28.033414Z",
     "iopub.status.busy": "2023-08-28T15:33:28.033082Z",
     "iopub.status.idle": "2023-08-28T15:33:28.037627Z",
     "shell.execute_reply": "2023-08-28T15:33:28.037112Z",
     "shell.execute_reply.started": "2023-08-28T15:33:28.033388Z"
    }
   },
   "outputs": [
    {
     "name": "stdout",
     "output_type": "stream",
     "text": [
      "[[0 1 0]\n",
      " [0 0 1]\n",
      " [0 1 0]\n",
      " [1 0 0]\n",
      " [0 0 1]\n",
      " [0 1 0]\n",
      " [1 0 0]\n",
      " [1 0 0]\n",
      " [1 0 0]\n",
      " [0 1 0]]\n"
     ]
    }
   ],
   "source": [
    "import numpy as np\n",
    "\n",
    "\n",
    "y_train.dtype = np.int8\n",
    "y_test.dtype = np.int8\n",
    "\n",
    "# ou\n",
    "\n",
    "# y_train = np.array(y_train, dtype=np.int8)\n",
    "# y_test = np.array(y_test, dtype=np.int8)\n",
    "\n",
    "print(y_train[:10])"
   ]
  },
  {
   "cell_type": "markdown",
   "id": "1029414b-ef4d-4438-bbb0-3b458d2e5144",
   "metadata": {},
   "source": [
    "Et enfin on doit transformer toutes les valeurs de notre datasets en tenseur\n",
    "TensorFlow."
   ]
  },
  {
   "cell_type": "code",
   "execution_count": 7,
   "id": "99fbdee1-a992-4f47-8050-e3d75e968f97",
   "metadata": {
    "execution": {
     "iopub.execute_input": "2023-08-28T15:33:30.961480Z",
     "iopub.status.busy": "2023-08-28T15:33:30.960797Z",
     "iopub.status.idle": "2023-08-28T15:33:31.805542Z",
     "shell.execute_reply": "2023-08-28T15:33:31.804407Z",
     "shell.execute_reply.started": "2023-08-28T15:33:30.961408Z"
    }
   },
   "outputs": [],
   "source": [
    "import tensorflow as tf\n",
    "\n",
    "\n",
    "X_train = tf.constant(X_train, dtype=tf.float32)\n",
    "y_train = tf.constant(y_train, dtype=tf.float32)\n",
    "X_test = tf.constant(X_test, dtype=tf.float32)\n",
    "y_test = tf.constant(y_test, dtype=tf.float32)"
   ]
  },
  {
   "cell_type": "markdown",
   "id": "78aca980-49d0-497d-b5ac-56d32f88091b",
   "metadata": {},
   "source": [
    "Les valeurs de `y_train` et de `y_test` de notre dataset ont été transformées\n",
    "en nombres réels au lieu de rester en nombres entiers, car le modèle produira\n",
    "des valeurs réelles, au cour de son apprentissage, et ses valeurs réelles,\n",
    "étant comprises entre 0 et 1, seront comparées au valeurs cible (target)\n",
    "contenue dans notre dataset. Dans un programme informatique, on cherche à\n",
    "éviter au maximum les erreurs de troncature, et une des astuces recommandées\n",
    "est \"toujours comparer de chose de même nature\".\n",
    "\n",
    "Et voilà ! Notre ensemble de données est prêt pour l'entraînement de notre\n",
    "modèle."
   ]
  },
  {
   "cell_type": "markdown",
   "id": "0c028bf8-606d-4335-acb3-0160e2c9cd95",
   "metadata": {},
   "source": [
    "### Création du modèle"
   ]
  },
  {
   "cell_type": "markdown",
   "id": "363ffd98-7119-413a-bbb3-9af94ec70e53",
   "metadata": {},
   "source": [
    "Tout comme la régression linéaire, la régression logistique a besoin d'une \n",
    "fonction linéaire, composé avec la fonction logistique $\\sigma$ pour former\n",
    "son modèle.\n",
    "\n",
    "Pour être plus précis, nous avons besoin d'une **équation de droite**.\n",
    "Pour rappel, une équation de droite se présente sous la forme de\n",
    "$\\bf{y = ax + b}$, ceci est exactement le modèle de régression linéaire vu\n",
    "dans la session précédente. Dans cette équation de droite, on peut\n",
    "facilement identifier les coéfficients qui sont $a$ et $b$. $a$ est\n",
    "le coéfficient directeur et $b$ l'ordonné à l'origine. En machine learning\n",
    "et spécifiquement en deep learning, le paramètre $a$ est considéré comme \n",
    "**poids pondéré**\n",
    "et $b$ comme **biais**. Donc, à partir de maintenant, j'utiliserai les mots \n",
    "**poids** et **bais** pour désigner les cofficients de l'équation\n",
    "d'une droite. De plus, toujours en machine learning, notre **poids pondéré**\n",
    "qui est $a$ dans notre équation, est souvent noté $\\bf{w}$. Donc, on va\n",
    "commencer par noté les choses comme cela pour te permettre de ne pas\n",
    "s'embrouiller plus tard quand tu verras ces notations dans d'autres\n",
    "documents.\n",
    "\n",
    "Donc, en tenant compte des bonnes notations, notre équation devient :\n",
    "\n",
    "$$\n",
    "y = wx + b\n",
    "$$\n",
    "$\\bf{w}$ étant le poids et $\\bf{b}$ le bais.\n",
    "\n",
    "Maintenant, si on s'intéresse au nombre de variables présentes dans notre\n",
    "équation de droite, on remarque qu'il y en a qu'une seule. Au fait, dans\n",
    "notre précédente tâche, l'objectif était d'entraîner un modèle\n",
    "de régression linéaire pour prédire LA quantité (une sortie) de\n",
    "$\\bf{CO_2}$ émise par des véhicules en fonction de LEUR taille\n",
    "(une variable). Ce qui nous a poussé à utiliser\n",
    "une équation à une variable $x$ qui produit une seule sortie $y$, exactement\n",
    "la même que celle présentée ci-dessus.\n",
    "\n",
    "Concernant notre tâche ici présente, l'ensemble de données dont nous disposons\n",
    "comporte quatre (4) variables et trois (3) classes (donc 3 sorties à produire).\n",
    "Du coup, pour construire le modèle de régression logistique adapté à notre \n",
    "tâche, on aura besoin d'une équation de droite à plusieurs variables et donc\n",
    "à plusieurs paramètres. Voici, de façon générale, comment se présente une\n",
    "équation de droite à plusieurs variables :\n",
    "\n",
    "$$\n",
    "y = w_1 x_1 + w_2 x_2 + \\cdots + w_i x_i + \\cdots + w_n x_n + b\n",
    "$$\n",
    "\n",
    "Ce qui est équivalente à l'expression suivante :\n",
    "\n",
    "$$\n",
    "y = \\sum_{i = 1}^{n} w_i x_i + b\n",
    "$$\n",
    "\n",
    "<!-- Pour notre tâche, voici l'équation :\n",
    "\n",
    "$$\n",
    "y = w_1 x_1 + w_2 x_2 + w_3 x_3 + w_4 x_4 + b\n",
    "$$\n",
    "\n",
    "C'est cette  équation qu'on va composer avec la fonction $\\sigma$. Si on note\n",
    "$F$ notre modèle de régression logistique, on a :\n",
    "\n",
    "$$\n",
    "F = \\sigma(w_1 x_1 + w_2 x_2 + w_3 x_3 + w_4 x_4 + b) = \\sigma(y)\n",
    "$$\n",
    "\n",
    "Concernant le nombre de sortie ici qui est 3. $y$ sera un vecteur ou un tenseur\n",
    "à une dimension comportant 3 éléments. Et comme la fonction logistique ne\n",
    "produit qu'une seule valeur, c'est à dire un scalaire, alors elle sera\n",
    "utilisée pour calculer les valeurs de chaque élément du tenseur $y$. Ce qui\n",
    "donne :\n",
    "\n",
    "$$\n",
    "\\sigma(y) = (\\sigma(y_1), \\sigma(y_2), \\sigma(y_3))\n",
    "$$ -->\n",
    "\n",
    "Étant donné que les variables d'entrées sont au nombre de 4, alors\n",
    "elles seront représentées par un vecteur ou un tenseur $X$ de dimension\n",
    "1 comportant 4 éléments. De même, comme le nombre de sortie à produire est\n",
    "au nombre de trois (3) alors elles seront aussi représentées par un vecteur\n",
    "ou tenseur $y$ de dimension 1 comportant 3 éléments.\n",
    "\n",
    "Maintenant, la question qu'il faut se poser est la suivante :\n",
    "Comment calculer une sortie de taille 3 alors qu'on a une entrée\n",
    "de taille 4 ?\n",
    "Question géniale ! Je pense qu'il a un composent dans notre modèle qui a\n",
    "besoin de toute notre attention. Il s'agit des paramètres $w_i$. Ce sont\n",
    "les seuls qui n'ont pas encore une structure claire.\n",
    "\n",
    "La somme pondérés des variables d'entrées $x_i$ moyennant les poids $w_i$ qui\n",
    "est :\n",
    "\n",
    "$$\n",
    "\\sum_{i = 1}^{n} w_i x_i\n",
    "$$\n",
    "\n",
    "avec le biais $b$ doivent nous permettre d'avoir en sortie un tenseur de\n",
    "dimension 1 avec 3 éléments. Comme ça, notre objectif sera atteint.\n",
    "\n",
    "Pour cela, on va procéder à la **vectorisation** de notre calcul linéaire.\n",
    "Premièrement, on sait que $X$ et $y$ sont déjà des vecteurs, il reste les\n",
    "paramètres $w_i$. Pour ces derniers, on peut les représenter par une seule\n",
    "variables de type tenseur noté $W$ dont on va déterminer les dimensions.\n",
    "\n",
    "En algèbre, la somme de deux vecteurs de même dimension donne un vecteur\n",
    "de même dimension et de même nombre d'éléments que ces deux vecteurs. Donc\n",
    "dans notre équation si on veux avoir les dimensions de $y$ en sortie, alors\n",
    "il faut que $W X$ et $b$ soient de mêmes dimensions que $y$.\n",
    "\n",
    "<!-- - $W X$ est un produit matriciel dont la dimension de $X$ est $4$ et\n",
    "et $W$ est doit être nécessairement une matrice, c'est à dire un tenseur\n",
    "à 2 dimensions comportant $3$ et $4$ colonnes pour être exacte. Pourquoi ?\n",
    "Parce qu'il a une propriété concernant le calcul maticiel. -->\n",
    "\n",
    "- Pour que le produit $W X$ soit de même dimension que $y$ c'est à dire, soit\n",
    "une vecteur de dimension 1 avec 3 éléments, on va faire un\n",
    "\"plongement de vecteur\" en faisant un produit matriciel de $W$ et $X$.\n",
    "Ce qui nous amène à transformr le paramètre $W$ en une matrice, c'est à dire,\n",
    "tenseur de 2 dimensions à 3 lignes et 4 colonnes. C'est ce $W$ qu'on appel\n",
    "\"matrice de poids\".\n"
   ]
  },
  {
   "cell_type": "markdown",
   "id": "37a30d84-0596-4d5d-9d03-87e2476fd71f",
   "metadata": {},
   "source": [
    "![](operation-matricielle)"
   ]
  },
  {
   "cell_type": "markdown",
   "id": "930f5953-6985-447b-b038-7c5e1524f856",
   "metadata": {},
   "source": [
    "- Étant donné que $b$ n'est qu'un scalaire et non un vecteur, alors on\n",
    "utilisera le **broadcasting** pour effectuer l'adition du vecteur produit\n",
    "par $WX$ et du biais $b$."
   ]
  },
  {
   "cell_type": "markdown",
   "id": "0446f283-1e8b-43a1-a5d2-89c7b9cb6c69",
   "metadata": {},
   "source": [
    "![](broadcasting)"
   ]
  },
  {
   "cell_type": "markdown",
   "id": "4f5d3681-543e-4fb6-9ce4-cb98192b7469",
   "metadata": {},
   "source": [
    "Enfin, pour former notre de regression logistique, on passera juste\n",
    "le vecteur $y$ produit en sortie en argument à la fonction $\\sigma$.\n",
    "\n",
    "$$\n",
    "F = \\sigma(y)\n",
    "$$\n",
    "\n",
    "En somme de tout ce qui précède, on a :\n",
    "\n",
    "$$\n",
    "F = \\sigma(WX + b)\n",
    "$$"
   ]
  },
  {
   "cell_type": "markdown",
   "id": "09507de7-02c4-4b33-a3ec-a0742dcd064e",
   "metadata": {},
   "source": [
    "Maintenant, passons à l'implémentation de notre modèle en TensorFlow.\n",
    "Mais avant de passer au code, on doit clarifier certaines choses concernant\n",
    "les dimensions d'entrée, je veux parler des dimensions de la variable $X$.\n",
    "En machine learning, on regroupe les données de la dataset par lot. Du coup,\n",
    "pendant l'apprentissage, les paramètres sont mises à jours à après chaque lot\n",
    "de données parcourues. Cette technique a toujours celle qui permet d'avoir\n",
    "plus de randement. C'est pour cela que dans la conception du modèle, on en tient\n",
    "compte.\n",
    "\n",
    "De ce fait, le vecteur $X$ deviendra une matrice de $B$ lignes et $4$ colonnes,\n",
    "avec $B$ le nombre de données contenues dans un lot. Ce qui nous amène à revoir\n",
    "les dimensions de notre matrice de poids $W$, du biais $b$ et de la sortie à\n",
    "produire $F = \\sigma(y)$."
   ]
  },
  {
   "cell_type": "markdown",
   "id": "56e77fe7-37ec-4017-ab64-7d4f3f13d48e",
   "metadata": {},
   "source": [
    "![](les-dimensions)"
   ]
  },
  {
   "cell_type": "code",
   "execution_count": 81,
   "id": "8e269342-4ab0-410e-8656-e018843423f7",
   "metadata": {
    "execution": {
     "iopub.execute_input": "2023-08-28T19:22:35.377462Z",
     "iopub.status.busy": "2023-08-28T19:22:35.377003Z",
     "iopub.status.idle": "2023-08-28T19:22:35.382201Z",
     "shell.execute_reply": "2023-08-28T19:22:35.381738Z",
     "shell.execute_reply.started": "2023-08-28T19:22:35.377434Z"
    }
   },
   "outputs": [],
   "source": [
    "import tensorflow as tf\n",
    "\n",
    "\n",
    "class LogisticRegression:\n",
    "    def __init__(self, input_dim, output_dim):\n",
    "        self.weights = tf.Variable(tf.random.normal([input_dim, output_dim],\n",
    "                                                    mean=0.,\n",
    "                                                    stddev=0.01,\n",
    "                                                    name=\"weights\"),\n",
    "                                   dtype='float32')\n",
    "        self.biais = tf.Variable(tf.random.normal([1, output_dim],\n",
    "                                                    mean=0.,\n",
    "                                                    stddev=0.01,\n",
    "                                                    name=\"biais\"),\n",
    "                                  dtype='float32')\n",
    "\n",
    "    # @property\n",
    "    # def weights(self):\n",
    "    #     return self._weights\n",
    "\n",
    "    # @property\n",
    "    # def biais(self):\n",
    "    #     return self._biais\n",
    "\n",
    "    def forward(self, input_x):\n",
    "        wx = tf.matmul(input_x, self.weights, name=\"WX\")\n",
    "        y = tf.add(wx, self.biais, name=\"y\")\n",
    "        F = tf.nn.sigmoid(y, name=\"activation\")\n",
    "        return F\n"
   ]
  },
  {
   "cell_type": "code",
   "execution_count": 86,
   "id": "62b5dfd5-152b-4b71-b1b6-fbae3c5b0c9c",
   "metadata": {
    "execution": {
     "iopub.execute_input": "2023-08-28T19:23:28.459036Z",
     "iopub.status.busy": "2023-08-28T19:23:28.457271Z",
     "iopub.status.idle": "2023-08-28T19:23:28.464620Z",
     "shell.execute_reply": "2023-08-28T19:23:28.464089Z",
     "shell.execute_reply.started": "2023-08-28T19:23:28.458958Z"
    }
   },
   "outputs": [],
   "source": [
    "logistic_regression = LogisticRegression(4, 3)"
   ]
  },
  {
   "cell_type": "markdown",
   "id": "90b29b26-7f77-46b4-963b-2b1f34e8c45c",
   "metadata": {},
   "source": [
    "### Entraînement du modèle"
   ]
  },
  {
   "cell_type": "markdown",
   "id": "8f4a6499-30bc-4bab-86be-edfada45ca14",
   "metadata": {},
   "source": [
    "#### Fonction de perte"
   ]
  },
  {
   "cell_type": "markdown",
   "id": "542317d2-7a29-42c8-8bd8-44433dabb80a",
   "metadata": {},
   "source": [
    "Quelle est la fonction de coût dans notre modèle ?\n",
    "La fonction de coût que nous allons utiliser est l'**entropie croisée\n",
    "catégorielle**. Il s'agit d'une fonction d'erreur beacoup plus adaptée\n",
    "au problème de classification sous plusieurs classes."
   ]
  },
  {
   "cell_type": "code",
   "execution_count": 73,
   "id": "56c610b5-487a-431a-a4f4-009feb09fb3e",
   "metadata": {
    "execution": {
     "iopub.execute_input": "2023-08-28T19:16:25.424609Z",
     "iopub.status.busy": "2023-08-28T19:16:25.424092Z",
     "iopub.status.idle": "2023-08-28T19:16:25.428374Z",
     "shell.execute_reply": "2023-08-28T19:16:25.427698Z",
     "shell.execute_reply.started": "2023-08-28T19:16:25.424563Z"
    }
   },
   "outputs": [],
   "source": [
    "from tensorflow.keras import losses\n",
    "\n",
    "\n",
    "loss_function = losses.CategoricalCrossentropy()"
   ]
  },
  {
   "cell_type": "markdown",
   "id": "e1caa047-e172-4c83-9680-a92ecd4309d7",
   "metadata": {},
   "source": [
    "Exemple d'utilisation :"
   ]
  },
  {
   "cell_type": "code",
   "execution_count": 74,
   "id": "a354ae9e-fac3-4677-a876-d177659144d1",
   "metadata": {
    "execution": {
     "iopub.execute_input": "2023-08-28T19:16:28.017332Z",
     "iopub.status.busy": "2023-08-28T19:16:28.016852Z",
     "iopub.status.idle": "2023-08-28T19:16:28.022839Z",
     "shell.execute_reply": "2023-08-28T19:16:28.022357Z",
     "shell.execute_reply.started": "2023-08-28T19:16:28.017310Z"
    }
   },
   "outputs": [
    {
     "name": "stdout",
     "output_type": "stream",
     "text": [
      "7.656096\n"
     ]
    }
   ],
   "source": [
    "y_target = [[0., 1., 0.], [0., 0., 1.]]\n",
    "y_pred = [[0.05, 0.95, 0], [0.1, 0.8, 0.1]]\n",
    "loss = loss_function(y_pred, y_target)\n",
    "print(loss.numpy())"
   ]
  },
  {
   "cell_type": "markdown",
   "id": "efaf250e-88dd-4632-9dd6-6fce59137d3f",
   "metadata": {},
   "source": [
    "#### Fonction d'optimisation"
   ]
  },
  {
   "cell_type": "markdown",
   "id": "df543121-546b-42b7-9c27-36abbc6fadd6",
   "metadata": {},
   "source": [
    "Comment minimiser la fonction de coût ?\n",
    "Étant donné qu'il ne s'agit plus d'un modèle de régression linéaire, alors\n",
    "on doit utiliser une fonction d'optimisation qui implémente toujours\n",
    "l'algorithme de la descente de gradient pour mettre à jour les paramètres\n",
    "du modèle."
   ]
  },
  {
   "cell_type": "code",
   "execution_count": 93,
   "id": "13ac3059-3da3-421d-b4d9-5f6ed68c74d4",
   "metadata": {
    "execution": {
     "iopub.execute_input": "2023-08-28T19:27:55.408124Z",
     "iopub.status.busy": "2023-08-28T19:27:55.407827Z",
     "iopub.status.idle": "2023-08-28T19:27:55.413808Z",
     "shell.execute_reply": "2023-08-28T19:27:55.413334Z",
     "shell.execute_reply.started": "2023-08-28T19:27:55.408100Z"
    }
   },
   "outputs": [],
   "source": [
    "from tensorflow.keras import optimizers\n",
    "from tensorflow.keras.optimizers import schedules\n",
    "\n",
    "\n",
    "learning_rate = schedules.ExponentialDecay(initial_learning_rate=0.0008,\n",
    "                                          decay_steps=X_train.shape[0],\n",
    "                                          decay_rate= 0.95,\n",
    "                                          staircase=True)\n",
    "optimizer = optimizers.SGD(learning_rate=0.01)"
   ]
  },
  {
   "cell_type": "markdown",
   "id": "3ecfbebe-d628-4358-8a8c-77816fc391f0",
   "metadata": {},
   "source": [
    "#### Programme d'apprentissage"
   ]
  },
  {
   "cell_type": "code",
   "execution_count": 43,
   "id": "49e21dc0-3ba6-45f5-be15-f31f3bfa725b",
   "metadata": {
    "execution": {
     "iopub.execute_input": "2023-08-28T18:50:29.079615Z",
     "iopub.status.busy": "2023-08-28T18:50:29.079206Z",
     "iopub.status.idle": "2023-08-28T18:50:29.084133Z",
     "shell.execute_reply": "2023-08-28T18:50:29.083511Z",
     "shell.execute_reply.started": "2023-08-28T18:50:29.079583Z"
    }
   },
   "outputs": [],
   "source": [
    "from tensorflow.data import Dataset\n",
    "\n",
    "\n",
    "class IrisDataset:\n",
    "    def __init__(self, input_x, output_y, batch_size):\n",
    "        self._batch_size = batch_size\n",
    "        self._input_x = input_x\n",
    "        self._output_y = output_y\n",
    "        self._create_batchs()\n",
    "\n",
    "    def _create_batchs(self):\n",
    "        self._input_x = Dataset.from_tensor_slices(self._input_x)\n",
    "        self._output_y = Dataset.from_tensor_slices(self._output_y)\n",
    "        self._input_x = self._input_x.batch(self._batch_size)\n",
    "        self._output_y = self._output_y.batch(self._batch_size)\n",
    "\n",
    "    def get_batchs(self):\n",
    "        for features_b, targets_b in zip(self._input_x, self._output_y):\n",
    "            yield features_b, targets_b\n",
    "\n",
    "    def __len__(self):\n",
    "        return len(self._input_x)\n"
   ]
  },
  {
   "cell_type": "markdown",
   "id": "e7d48ddb-1459-4278-a4e8-aab1bbdb7cf7",
   "metadata": {},
   "source": [
    "- `tf.data.Dataset.from_tensor_slices()` retourne le tenseur sous forme de\n",
    "`TensorSliceDataset`."
   ]
  },
  {
   "cell_type": "code",
   "execution_count": 47,
   "id": "d1a4fa7a-76f0-4751-af2a-46d5b8620716",
   "metadata": {
    "execution": {
     "iopub.execute_input": "2023-08-28T18:56:19.983866Z",
     "iopub.status.busy": "2023-08-28T18:56:19.983557Z",
     "iopub.status.idle": "2023-08-28T18:56:19.999871Z",
     "shell.execute_reply": "2023-08-28T18:56:19.999398Z",
     "shell.execute_reply.started": "2023-08-28T18:56:19.983848Z"
    }
   },
   "outputs": [
    {
     "name": "stdout",
     "output_type": "stream",
     "text": [
      "(32, 4) (32, 3)\n",
      "(32, 4) (32, 3)\n",
      "(32, 4) (32, 3)\n"
     ]
    },
    {
     "name": "stderr",
     "output_type": "stream",
     "text": [
      "2023-08-28 10:56:19.988189: I tensorflow/core/common_runtime/executor.cc:1197] [/device:CPU:0] (DEBUG INFO) Executor start aborting (this does not indicate an error and you can ignore this message): INVALID_ARGUMENT: You must feed a value for placeholder tensor 'Placeholder/_0' with dtype float and shape [99,4]\n",
      "\t [[{{node Placeholder/_0}}]]\n",
      "2023-08-28 10:56:19.992915: I tensorflow/core/common_runtime/executor.cc:1197] [/device:CPU:0] (DEBUG INFO) Executor start aborting (this does not indicate an error and you can ignore this message): INVALID_ARGUMENT: You must feed a value for placeholder tensor 'Placeholder/_0' with dtype float and shape [99,3]\n",
      "\t [[{{node Placeholder/_0}}]]\n"
     ]
    }
   ],
   "source": [
    "dataset = IrisDataset(X_train, y_train, 32)\n",
    "n_prints = 0\n",
    "\n",
    "for features, targets in dataset.get_batchs():\n",
    "    print(features.shape, targets.shape)\n",
    "    if n_prints >= 2:\n",
    "        break\n",
    "\n",
    "    n_prints += 1\n"
   ]
  },
  {
   "cell_type": "code",
   "execution_count": 94,
   "id": "82995b22-b7b6-4b3d-9598-5edbe0a6bc76",
   "metadata": {
    "execution": {
     "iopub.execute_input": "2023-08-28T19:28:00.480483Z",
     "iopub.status.busy": "2023-08-28T19:28:00.480124Z",
     "iopub.status.idle": "2023-08-28T19:28:00.486914Z",
     "shell.execute_reply": "2023-08-28T19:28:00.486332Z",
     "shell.execute_reply.started": "2023-08-28T19:28:00.480456Z"
    }
   },
   "outputs": [],
   "source": [
    "import tensorflow as tf\n",
    "\n",
    "\n",
    "class Trainer:\n",
    "    def __init__(self, model, dataset, loss_function, optimizer):\n",
    "        self._model = model\n",
    "        self._dataset = dataset\n",
    "        self._loss_function = loss_function\n",
    "        self._optimizer = optimizer\n",
    "\n",
    "    def run(self, n_epochs: int = 10):\n",
    "        losses_historic = []\n",
    "        losses = 0\n",
    "        for epoch in range(n_epochs):\n",
    "            for input_x, target_y in self._dataset.get_batchs():\n",
    "                with tf.GradientTape() as grad_computer:\n",
    "                    y_pred = self._model.forward(input_x)\n",
    "                    loss = self._loss_function(y_pred, target_y)\n",
    "\n",
    "                    w_grad, b_grad = grad_computer.gradient(\n",
    "                        loss,\n",
    "                        [self._model.weights, self._model.biais]\n",
    "                    )\n",
    "                    self._optimizer.apply_gradients(\n",
    "                        zip([w_grad, b_grad],\n",
    "                            [self._model.weights, self._model.biais])\n",
    "                    )\n",
    "\n",
    "                losses += loss.numpy()\n",
    "\n",
    "            losses_historic.append(losses / len(self._dataset))\n",
    "\n",
    "        return losses_historic\n"
   ]
  },
  {
   "cell_type": "code",
   "execution_count": 95,
   "id": "56af7c0e-e891-4c9b-a26f-bfa8cd94282b",
   "metadata": {
    "execution": {
     "iopub.execute_input": "2023-08-28T19:28:03.241837Z",
     "iopub.status.busy": "2023-08-28T19:28:03.241501Z",
     "iopub.status.idle": "2023-08-28T19:28:03.550362Z",
     "shell.execute_reply": "2023-08-28T19:28:03.549869Z",
     "shell.execute_reply.started": "2023-08-28T19:28:03.241811Z"
    }
   },
   "outputs": [
    {
     "name": "stdout",
     "output_type": "stream",
     "text": [
      "[[-0.05643006 -0.0772229  -0.05112967]]\n",
      "[[-0.05860765 -0.08029041 -0.0547043 ]]\n",
      "[[-0.05999534 -0.08354082 -0.05776465]]\n",
      "[[-0.06190072 -0.08524377 -0.05964684]]\n",
      "[[-0.0631908  -0.08668853 -0.06136926]]\n",
      "[[-0.064645   -0.08873459 -0.06370685]]\n",
      "[[-0.06556964 -0.09105895 -0.06585265]]\n",
      "[[-0.06690691 -0.09227894 -0.06718054]]\n",
      "[[-0.06784173 -0.09329968 -0.06839058]]\n",
      "[[-0.06894314 -0.09484144 -0.07013267]]\n",
      "[[-0.06963608 -0.09666559 -0.0717968 ]]\n",
      "[[-0.07066956 -0.09761979 -0.07282501]]\n",
      "[[-0.07140383 -0.09840497 -0.07375319]]\n",
      "[[-0.07229442 -0.09964451 -0.07514377]]\n",
      "[[-0.07284813 -0.10115267 -0.07650855]]\n",
      "[[-0.07369175 -0.10193795 -0.07734859]]\n",
      "[[-0.07429687 -0.10257364 -0.07809896]]\n",
      "[[-0.07504659 -0.10361131 -0.07925715]]\n",
      "[[-0.07550736 -0.10490063 -0.08041701]]\n",
      "[[-0.0762208  -0.10556879 -0.08112774]]\n",
      "[[-0.07673569 -0.10610141 -0.08175599]]\n",
      "[[-0.07738433 -0.10699444 -0.08274892]]\n",
      "[[-0.07777866 -0.10812273 -0.08375932]]\n",
      "[[-0.07839718 -0.10870478 -0.08437563]]\n",
      "[[-0.07884542 -0.10916215 -0.08491497]]\n",
      "[[-0.07941783 -0.10994635 -0.08578428]]\n",
      "[[-0.07976231 -0.11095088 -0.0866806 ]]\n",
      "[[-0.08030847 -0.11146688 -0.08722492]]\n",
      "[[-0.08070543 -0.111867   -0.08769671]]\n",
      "[[-0.08121822 -0.11256627 -0.08847   ]]\n",
      "[[-0.08152392 -0.11347257 -0.08927628]]\n",
      "[[-0.08201308 -0.11393625 -0.08976384]]\n",
      "[[-0.08236936 -0.11429138 -0.09018264]]\n",
      "[[-0.08283418 -0.11492252 -0.09087918]]\n",
      "[[-0.08310886 -0.11574884 -0.09161249]]\n",
      "[[-0.08355193 -0.11617005 -0.09205415]]\n",
      "[[-0.08387513 -0.11648894 -0.0924303 ]]\n",
      "[[-0.08430049 -0.11706415 -0.09306405]]\n",
      "[[-0.08454979 -0.11782402 -0.09373698]]\n",
      "[[-0.08495481 -0.11821003 -0.09414075]]\n",
      "[0.6820248141884804, 1.1490145400166512, 1.5057165138423443, 1.7949124574661255, 2.038404144346714]\n",
      "[2.2488464042544365, 2.434251297265291, 2.6000181399285793, 2.7499613035470247, 2.8868768960237503]\n"
     ]
    }
   ],
   "source": [
    "trainer = Trainer(logistic_regression, dataset, loss_function, optimizer)\n",
    "historics = trainer.run()\n",
    "print(historics[:5])\n",
    "print(historics[-5:])"
   ]
  },
  {
   "cell_type": "markdown",
   "id": "47c95057-4a7e-4801-9d50-cd51e257b9ce",
   "metadata": {},
   "source": [
    "## Deep Learning"
   ]
  },
  {
   "cell_type": "markdown",
   "id": "e82fad3a-033e-48ad-b70f-677a9ecd3f99",
   "metadata": {},
   "source": [
    "Bonjour et bienvenue! Dans cette vidéo, nous fournirons une introduction\n",
    "au Deep Learning et découvrez pourquoi c'est un sujet si brûlant aujourd'hui.\n",
    "Il n’est pas exagéré de dire que l’apprentissage profond est présent partout autour de nous, car il\n",
    "est utilisé d’innombrables façons dans tous les secteurs. Par exemple, le Deep Learning essaie d’aider\n",
    "l'industrie des soins de santé sur des tâches telles que la détection du cancer et la découverte de médicaments.\n",
    "Dans les secteurs des services Internet et de la téléphonie mobile, nous pouvons voir diverses applications qui utilisent Deep\n",
    "Apprentissage pour la classification d'images/vidéos et la reconnaissance vocale, comme Google Voice,\n",
    "Apple Siri, Microsoft Skype, etc. Dans les médias, le divertissement et l'information, nous pouvons\n",
    "voir des applications telles que le sous-titrage vidéo, la traduction et la personnalisation en temps réel,\n",
    "ou des systèmes de recommandation tels que Netflix. Dans le développement de voitures autonomes, Deep\n",
    "L'apprentissage aide les chercheurs à surmonter d'importants problèmes de recherche, tels que\n",
    "et la détection des passagers ou le suivi des voies. Dans le domaine de la Sécurité, le Deep Learning est utilisé\n",
    "pour la reconnaissance faciale et la vidéosurveillance. Ce ne sont là que quelques exemples des industries\n",
    "dans lequel le Deep Learning est appliqué ; et il est utilisé dans de nombreux autres domaines et\n",
    "domaines également.\n",
    "La popularité croissante du Deep Learning aujourd’hui vient de trois avancées récentes dans\n",
    "notre domaine : premièrement, dans l'augmentation spectaculaire du nombre d'ordinateurs\n",
    "capacités de traitement ; deuxièmement, dans la disponibilité de quantités massives\n",
    "de données pour la formation de systèmes informatiques; et troisièmement, dans les progrès de l’apprentissage automatique\n",
    "algorithmes et recherche.\n",
    "Alors, qu’est-ce que l’apprentissage profond ? Le Deep Learning est une série d’apprentissages supervisés et semi-supervisés\n",
    "et des méthodes non supervisées qui tentent de résoudre certains problèmes d'apprentissage automatique en utilisant des méthodes approfondies.\n",
    "les réseaux de neurones. Un réseau de neurones profond est un réseau de neurones\n",
    "qui comporte souvent plus de deux couches, et utilise une modélisation mathématique spécifique dans chaque\n",
    "couche pour traiter les données. D'une manière générale, ces réseaux tentent\n",
    "pour extraire automatiquement des ensembles de fonctionnalités des données, et c'est pourquoi, ils sont principalement\n",
    "utilisé dans les types de données où le processus de sélection des fonctionnalités est difficile, comme lors de l'analyse\n",
    "ensembles de données non structurés, tels que des données d'images, des vidéos, du son et du texte.\n",
    "Merci d'avoir regardé."
   ]
  },
  {
   "cell_type": "markdown",
   "id": "ca3189cd-70af-4639-a144-5d5a32862190",
   "metadata": {},
   "source": [
    "### Les réseaux de neurones"
   ]
  },
  {
   "cell_type": "markdown",
   "id": "f30f8ab9-5735-40be-8cdb-f0a291800af7",
   "metadata": {},
   "source": [
    "Bonjour et bienvenue! Dans cette vidéo, nous donnerons un aperçu\n",
    "de plusieurs modèles de réseaux neuronaux profonds et leurs applications.\n",
    "Pour mieux comprendre le Deep Learning, examinons d’abord différents systèmes neuronaux profonds.\n",
    "réseaux et leurs applications, à savoir : • Réseaux de Neurones Convolutifs (ou CNN)\n",
    "• Réseaux de neurones récurrents (ou RNN) • Machines Boltzmann restreintes (ou RBM)\n",
    "• Deep Belief Networks (ou DBN), et enfin • Autoencodeurs.\n",
    "Commençons par le réseau de neurones convolutifs et voyons comment il nous aide à accomplir une tâche,\n",
    "comme la classification des images.\n",
    "Supposons que vous disposiez d’un ensemble de données composé d’un grand nombre de photos de chats et de chiens, et\n",
    "vous souhaitez construire un modèle capable de les reconnaître et de les différencier.\n",
    "Ce modèle est censé examiner cet échantillon particulier d'images et en tirer des leçons,\n",
    "vers une formation. Plus tard, étant donné une image invisible d'un chat\n",
    "ou un chien, nous devrions pouvoir utiliser ce modèle dressé pour reconnaître l'image comme étant une\n",
    "ou l'autre.\n",
    "Traditionnellement, votre première étape dans la création d’un tel modèle serait « l’extraction de fonctionnalités ».\n",
    "Autrement dit, choisir les meilleures fonctionnalités de vos images, puis utiliser ces fonctionnalités dans\n",
    "un algorithme de classification, tel qu'un réseau neuronal superficiel.\n",
    "Idéalement, le résultat serait un modèle qui, après analyse d'une nouvelle image, pourrait avec précision\n",
    "distinguez l’animal sur cette photo comme étant soit un « chat » soit un « chien ».\n",
    "Il existe d'innombrables caractéristiques pouvant être extraites de l'image, telles que la couleur, l'objet\n",
    "bords, emplacement des pixels, etc. Bien sûr, mieux vous pourrez définir\n",
    "Plus les ensembles de fonctionnalités sont nombreux, plus votre classification d'images sera précise et efficace.\n",
    "En fait, au cours des deux dernières décennies, de nombreuses recherches scientifiques ont été menées dans ce domaine.\n",
    "de traitement d'images, destiné à aider les data scientists à trouver les meilleurs ensembles de fonctionnalités\n",
    "à partir d’images, à des fins de classification. Cependant, comme vous pouvez l'imaginer, le processus de\n",
    "sélectionner et utiliser les meilleures fonctionnalités prend énormément de temps et est souvent inefficace.\n",
    "De plus, étendre les fonctionnalités à d’autres types d’images devient un défi encore plus grand.\n",
    "En effet, il est facile de comprendre à quel point il serait difficile d’appliquer les fonctionnalités que nous avons utilisées.\n",
    "pour discriminer les chats et les chiens, à d'autres tâches de discrimination, comme la reconnaissance de chiffres manuscrits,\n",
    "Par exemple. Par conséquent, l’importance de la sélection des fonctionnalités\n",
    "ne peut pas être surestimé. Entrez « réseaux de neurones convolutifs ».\n",
    "Du coup, sans avoir à rechercher ou sélectionner des fonctionnalités, ce réseau automatiquement et efficacement\n",
    "trouve les meilleures fonctionnalités pour vous. Ainsi, au lieu de choisir les caractéristiques de l'image\n",
    "à utiliser pour classer les chiens et les chats, les réseaux de neurones convolutifs peuvent automatiquement trouver ces\n",
    "fonctionnalités et classer les images pour vous. Nous pouvons donc dire qu'un neurone convolutif\n",
    "Network - ou CNN en abrégé - est une approche d'apprentissage en profondeur qui apprend directement à partir d'échantillons\n",
    "d'une manière beaucoup plus efficace que les réseaux de neurones traditionnels.\n",
    "Les CNN réalisent ce type de sélection et de classification automatiques des fonctionnalités via plusieurs\n",
    "couches spécifiques d’opérations mathématiques sophistiquées.\n",
    "À travers plusieurs couches, un CNN apprend plusieurs niveaux d'ensembles de fonctionnalités à différents niveaux\n",
    "d'abstraction. Et cela conduit à une classification très efficace.\n",
    "Les CNN ont attiré beaucoup d'attention dans la communauté de l'apprentissage automatique au cours des dernières années.\n",
    "années. Cela est dû au large éventail d'applications\n",
    "là où les CNN excellent, notamment les projets de vision industrielle, y compris la reconnaissance ou la classification d'images,\n",
    "comme la distinction de photos d'animaux ou la reconnaissance de chiffres, jusqu'à la classification du cancer de la peau.\n",
    "Les CNN sont également utilisés dans la détection d'objets, par exemple la reconnaissance en temps réel des passagers\n",
    "dans les images capturées par des voitures autonomes.\n",
    "Ou colorier des images en noir et blanc et créer des images artistiques.\n",
    "Examinons maintenant les réseaux de neurones récurrents et les types de situations dans lesquelles ils\n",
    "peut être utilisé pour résoudre un problème.\n",
    "Un réseau neuronal récurrent, ou RNN en abrégé, est un type d'approche d'apprentissage en profondeur qui\n",
    "tente de résoudre le problème de la modélisation des données séquentielles.\n",
    "Chaque fois que les points d'un ensemble de données dépendent des points précédents, les données sont dites\n",
    "être séquentiel. Par exemple, un cours de bourse est un cours séquentiel\n",
    "type de données car le prix d’une action donnée sur le marché de demain, dans une large mesure,\n",
    "cela dépend de son prix aujourd'hui. Ainsi, prédire le cours de l'action demain,\n",
    "est quelque chose pour lequel les RNN peuvent être utilisés. Il nous suffit simplement d'alimenter le réseau avec le\n",
    "données séquentielles, il maintient ensuite le contexte des données et apprend ainsi les modèles\n",
    "au sein des données.\n",
    "Nous pouvons également utiliser les RNN pour l'analyse des sentiments. Disons par exemple que vous faites défiler\n",
    "à travers votre catalogue de produits sur un site de réseau social et vous voyez de nombreux commentaires liés\n",
    "à un de vos produits particuliers. Plutôt que de lire des dizaines et des dizaines\n",
    "de commentaires vous-même et devant calculer manuellement s'ils étaient majoritairement positifs, vous\n",
    "peut laisser un RNN faire cela pour vous. En effet, un RNN peut examiner le sentiment de\n",
    "mots-clés dans ces avis. N'oubliez pas cependant que la séquence\n",
    "des mots ou des phrases, ainsi que le contexte dans lequel ils sont utilisés, est très important\n",
    "aussi. En introduisant une phrase dans un RNN, il faut\n",
    "tout cela en compte et détermine si c'est le sentiment qu'il contient dans ces critiques de produits\n",
    "sont positifs ou négatifs. Les RNN peuvent également être utilisés pour prédire le prochain\n",
    "mot dans une phrase. Je suis sûr que nous avons tous vu comment notre mobile\n",
    "le téléphone suggère des mots lorsque nous tapons un e-mail ou un SMS.\n",
    "Il s'agit d'un type de modélisation de langage au sein de RNN, où le modèle a appris d'un grand\n",
    "corpus textuel, et peut désormais prédire le mot suivant dans la phrase.\n",
    "Comme vous pouvez le constater, en pensant de manière séquentielle, le mot suggéré dépend beaucoup\n",
    "sur les mots précédemment tapés et le contexte de ce message.\n",
    "Lorsqu'il faut traduire rapidement certains mots dans une autre langue, un grand nombre\n",
    "les gens d’aujourd’hui utilisent le service de traduction de Google Translator.\n",
    "Nous entrons une séquence de mots en anglais et cela produit une séquence de mots en français,\n",
    "comme on le voit ici. Ce type de traduction de texte est un autre exemple\n",
    "de la manière dont les RNN peuvent être utilisés. Cette tâche n'est pas basée sur une traduction mot à mot\n",
    "et appliquer les règles de grammaire. Il s’agit plutôt d’un modèle probabiliste qui a\n",
    "été formé sur de nombreuses données où exactement le même texte est traduit dans une autre langue.\n",
    "La synthèse vocale est une autre application utile et de plus en plus courante des RNN.\n",
    "Dans ce cas, la voix reconnue ne repose pas uniquement sur le son du mot ; Les RNN utilisent également\n",
    "le contexte autour de ce son pour reconnaître avec précision les mots prononcés dans le\n",
    "le microphone de l’appareil.\n",
    "Examinons maintenant un autre type de réseau neuronal appelé machine Boltzman restreinte.\n",
    "Les machines Boltzman restreintes, ou RBM, sont utilisées pour trouver les modèles dans les données de manière non supervisée.\n",
    "manière. Ce sont des réseaux neuronaux superficiels qui apprennent à\n",
    "reconstruire les données par eux-mêmes. Ce sont des modèles très importants, car ils\n",
    "peut extraire automatiquement des fonctionnalités significatives d'une entrée donnée, sans avoir besoin d'étiqueter\n",
    "eux.\n",
    "Les RBM ne sont peut-être pas exceptionnels si vous les considérez comme des réseaux indépendants, mais ils\n",
    "sont importants en tant qu’éléments constitutifs d’autres réseaux, tels que les Deep Belief Networks.\n",
    "Essentiellement, les RBM sont utiles pour les tâches non supervisées telles que :\n",
    "• extraction de caractéristiques, • réduction de dimensionnalité,\n",
    "• reconnaissance de formes, • systèmes de recommandation,\n",
    "• la gestion des valeurs manquantes, et • la modélisation de sujets.\n",
    "Examinons maintenant les réseaux Deep Belief et voyons comment ils sont construits sur les RBM.\n",
    "Un Deep Belief Network est un réseau qui a été inventé pour résoudre un vieux problème des réseaux de neurones artificiels traditionnels. Quel problème?\n",
    "Le problème de rétro-propagation, qui peut souvent causer des problèmes de « minima locaux » ou de « disparition de gradients » dans le processus d'apprentissage. Un DBN est conçu pour résoudre ce problème en empilant plusieurs RBM. Alors, quelles sont les applications des DBN ? Les DBN sont généralement utilisés pour la classification, tout comme les MLP traditionnels. Ainsi, l’une des applications les plus importantes des DBN est la reconnaissance d’images. La partie importante à retenir ici est qu’un DBN est un classificateur discriminant très précis. En tant que tel, nous n’avons pas besoin d’un grand ensemble de données étiquetées pour former un Deep Belief Network ; en fait, un petit ensemble fonctionne bien car l’extraction de fonctionnalités n’est pas supervisée par une pile de RBM.\n",
    "Maintenant, regardons les auto-encodeurs. Tout comme les RBM, les auto-encodeurs ont été inventés pour résoudre le problème de l'extraction des fonctionnalités souhaitables. Et encore une fois, tout comme les RBM, les auto-encodeurs tentent de recréer une entrée donnée, mais le font avec une architecture réseau et une méthode d'apprentissage légèrement différentes. Les encodeurs automatiques prennent un ensemble d'entrées non étiquetées, les codent en codes courts, puis les utilisent pour reconstruire l'image originale, tout en extrayant les informations les plus précieuses des données.\n",
    "Quelles sont les applications des auto-encodeurs ? Eh bien, les auto-encodeurs sont utilisés dans certains de\n",
    "les plus grandes applications de deep learning, notamment pour les tâches non supervisées. En tant que partie encodeur du réseau, les auto-encodeurs compressent les données de la couche d'entrée dans un\n",
    "code court -- une méthode qui peut être utilisée pour les tâches de « réduction de dimensionnalité ».\n",
    "De plus, en empilant plusieurs couches d'Autoencoder, le réseau apprend plusieurs niveaux de représentation.\n",
    "à différents niveaux d'abstraction. Par exemple, pour détecter un visage dans une image, le réseau code les caractéristiques primitives, comme les bords d'un visage.\n",
    "Ensuite, la sortie de la première couche est envoyée au deuxième auto-encodeur, pour encoder le moins local.\n",
    "caractéristiques, comme le nez, etc. Par conséquent, il peut être utilisé pour l’extraction de fonctionnalités et la reconnaissance d’images. À présent, vous devriez avoir une bonne idée des réseaux de neurones profonds.\n",
    "Ceci conclut cette vidéo… Merci d’avoir regardé."
   ]
  },
  {
   "cell_type": "markdown",
   "id": "7a81ae9d-35ce-4708-bbca-c8b4024d4f70",
   "metadata": {},
   "source": [
    "# Réseaux convolutionnels"
   ]
  },
  {
   "cell_type": "markdown",
   "id": "12721502-9eb7-4701-ac85-fd183a6702b8",
   "metadata": {},
   "source": [
    "Bonjour et bienvenue! Dans cette vidéo, nous passerons en revue une brève introduction au modèle de réseau neuronal convolutif.\n",
    "Les réseaux de neurones convolutifs, ou CNN, ont attiré beaucoup d'attention dans la communauté de l'apprentissage automatique au cours des dernières années. Cela est dû au large éventail d’applications dans lesquelles les CNN excellent, telles que la détection d’objets et la reconnaissance vocale.\n",
    "Dans une partie ultérieure de cette vidéo, nous examinerons le problème de la reconnaissance d'objets, qui est un élément clé lors de l'utilisation des CNN. Vous aurez également une idée de la façon dont un CNN\n",
    "La structure lui permet d'extraire les éléments d'une image.\n",
    "Par exemple, vous verrez comment un CNN apprend à distinguer une personne, un chien ou même des chaises à partir d’une image, même si les chaises ne sont que partiellement visibles. En effet, ce n'est pas un\n",
    "tâche facile pour les ordinateurs, et il a fallu des années de recherche dédiée pour y parvenir.\n",
    "L'objectif initial de CNN était de former la meilleure représentation possible de notre monde visuel, afin de soutenir les tâches de reconnaissance. La solution CNN devait posséder deux caractéristiques clés pour être viable : premièrement, elle devait être capable de détecter les objets dans l'image et de les placer dans la catégorie appropriée.\n",
    "Et deuxièmement, il devait également être robuste face aux différences de pose, d’échelle, d’éclairage, de conformation et d’encombrement. L’importance de cette deuxième fonctionnalité ne peut tout simplement pas être surestimée, car il s’agissait historiquement d’une énorme limitation des algorithmes codés manuellement.\n",
    "Il est intéressant de noter que la solution au problème de la reconnaissance des objets a été inspirée par l’examen du fonctionnement de notre propre cortex visuel. En bref, le CNN commence par une image d'entrée, il extrait ensuite quelques caractéristiques primitives et combine ces caractéristiques pour former certaines parties de l'objet ; et enfin, il rassemble toutes les différentes parties pour former l'objet lui-même. Il s’agit essentiellement d’une manière hiérarchique de voir les objets. Autrement dit, dans la première couche, des fonctionnalités très simples sont détectées. Ensuite, ceux-ci sont combinés pour façonner des caractéristiques plus complexes dans la deuxième couche, et ainsi de suite pour détecter des éléments comme un chat, un chien ou tout autre objet que nous devons détecter. Le réseau neuronal convolutif a été développé à partir de cette séquence d’étapes.\n",
    "Considérons le bâtiment dans le coin inférieur droit de cette image. Comment un CNN formé peut-il apprendre et reconnaître qu'il s'agit d'une image d'un bâtiment, plutôt que de certains des autres éléments situés sur la photographie, comme une personne, ou même des personnes.\n",
    "des nuages dans le ciel ?\n",
    "Eh bien, pendant la phase de formation, les CNN recevraient de nombreuses images de bâtiments en entrée.\n",
    "Ensuite, les CNN découvriront automatiquement que les meilleures caractéristiques primitives pour un bâtiment seraient des éléments tels que des lignes horizontales et verticales. Tout comme les neurones du cortex visuel d’une personne, la première couche d’un CNN réagit, pour ainsi dire, lorsqu’elle reçoit une image comportant des lignes horizontales ou verticales. Une fois ces caractéristiques plus simples, telles que les lignes, combinées, les CNN apprennent à former des composants abstraits supérieurs, comme les fenêtres du bâtiment.\n",
    "et la forme extérieure du bâtiment. Il peut ensuite utiliser ces éléments de base pour former l’objet complet et apprendre à quoi ressemble essentiellement l’ensemble du bâtiment.\n",
    "Plus tard, s’il voit une image d’un bâtiment qu’il n’a jamais vue auparavant, les CNN peuvent décider si la nouvelle image d’entrée est celle d’un bâtiment, en fonction de la persistance des différentes caractéristiques qu’il a stockées. C’est le même processus pour apprendre et détecter d’autres objets, comme des visages, des animaux, des voitures, etc.\n",
    "Ainsi, comme vous pouvez le voir, le CNN est un ensemble de couches, chacune d'entre elles étant chargée de détecter un ensemble d'ensembles de fonctionnalités. Et ces fonctionnalités deviendront plus abstraites à mesure que l’on approfondira l’examen de la couche suivante. À ce stade, vous devez donc avoir une compréhension de base des principes qui sous-tendent un réseau neuronal convolutif et de la manière dont les CNN peuvent être utilisés dans une application.\n",
    "Merci d'avoir regardé."
   ]
  },
  {
   "cell_type": "markdown",
   "id": "99559ce5-9a9c-4e07-b098-d4666644c308",
   "metadata": {},
   "source": [
    "## Classification"
   ]
  },
  {
   "cell_type": "markdown",
   "id": "d1e7ad86-c7ab-4271-9288-a550c88e15d3",
   "metadata": {},
   "source": [
    "Bonjour et bienvenue! Dans cette vidéo, nous expliquerons comment CNN peut résoudre un problème de classification d'images tel que la reconnaissance de chiffres.\n",
    "Voyons d’abord pourquoi les réseaux de neurones superficiels traditionnels ne fonctionnent pas aussi bien que CNN.\n",
    "Comme mentionné précédemment, l'une des étapes importantes de la modélisation pour la classification avec les réseaux de neurones peu profonds est l'étape d'extraction des caractéristiques.\n",
    "Ces caractéristiques choisies pourraient simplement être la couleur, les bords des objets, l’emplacement des pixels ou d’innombrables autres caractéristiques pouvant être extraites des images. Bien entendu, plus les ensembles de fonctionnalités que vous trouvez sont meilleurs et efficaces, plus la classification des images est précise et efficace.\n",
    "vous pouvez obtenir. Cependant, comme vous pouvez l’imaginer, le processus de sélection des meilleures fonctionnalités prend énormément de temps et s’avère souvent inefficace.\n",
    "De plus, étendre les fonctionnalités à d’autres types d’images devient un problème encore plus important.\n",
    "Les réseaux de neurones convolutifs (ou CNN) tentent de résoudre ce problème en utilisant davantage de couches cachées, ainsi que des couches plus spécifiques. Ainsi, lorsque vous utilisez CNN, au lieu de choisir des fonctionnalités d'image, pour classer les chiens par rapport aux chats, par exemple, les CNN peuvent trouver automatiquement ces fonctionnalités et classer les images pour vous.\n",
    "Au lieu d’utiliser un ensemble de données sur les chiens et les chats, utilisons ici un exemple plus pratique. L'ensemble de données MNIST est une « base de données de chiffres manuscrits contenant un ensemble d'apprentissage de 60 000 exemples. L'avantage de l'ensemble de données MNIST est que les chiffres ont été normalisés en taille et centrés dans une image de taille fixe ».\n",
    "Considérons maintenant le problème de la reconnaissance des chiffres. Nous aimerions classer des images de nombres manuscrits, où les observations sont l'intensité des pixels. Et la cible sera un chiffre, de 0 à 9. Notre objectif ici est donc de construire un système de reconnaissance de chiffres utilisant CNN.\n",
    "Voyons maintenant les choses d’un niveau supérieur. Fondamentalement, si nous examinons le pipeline de notre processus d'apprentissage profond, nous pouvons voir les phases suivantes :\n",
    "Tout d’abord, le prétraitement des données d’entrée. Deuxièmement, former le modèle d’apprentissage profond.\n",
    "Et troisièmement, l'inférence et le déploiement du modèle.\n",
    "Dans la première partie, nous devons convertir les images dans un format lisible et approprié pour notre réseau. Ensuite, un réseau non entraîné est alimenté avec un grand ensemble de données d'images en phase de formation, afin de permettre au réseau d'apprendre. Autrement dit, nous construisons un CNN et le formons avec de nombreuses images manuscrites dans l'ensemble de formation.\n",
    "Enfin, nous utilisons le modèle entraîné dans la phase d'inférence, qui classe une nouvelle image en déduisant sa similarité avec le modèle entraîné. Ainsi, ce modèle peut être déployé et utilisé comme modèle de reconnaissance numérique pour les cas invisibles.\n",
    "Concentrons-nous maintenant sur le processus de formation. Comme mentionné précédemment, un réseau neuronal profond comporte non seulement plusieurs couches cachées, mais le type de couches et leur connectivité sont également différents d'un réseau neuronal superficiel, en ce sens qu'il comporte généralement plusieurs couches convolutives, des couches de regroupement ainsi que des couches entièrement connectées.\n",
    "La couche convolutive applique une opération de convolution à l’entrée et transmet le résultat à la couche suivante. La couche de pooling combine les sorties d'un groupe de neurones de la couche précédente en un seul neurone de la couche suivante.\n",
    "Et puis, les couches entièrement connectées connectent chaque neurone de la couche précédente à chaque neurone de la couche suivante. Dans la prochaine vidéo, vous en apprendrez davantage sur\n",
    "ces couches et leurs spécifications, en détail.\n",
    "Merci d'avoir regardé."
   ]
  },
  {
   "cell_type": "markdown",
   "id": "5fb38a16-ba7b-498c-b17e-3e9182d900ab",
   "metadata": {},
   "source": [
    "## Architecture des CNN"
   ]
  },
  {
   "cell_type": "markdown",
   "id": "19727330-6dde-4879-bc85-1a78c65aa355",
   "metadata": {},
   "source": [
    "Bonjour et bienvenue! Dans cette vidéo, nous examinerons l'architecture du modèle de réseau neuronal convolutif.\n",
    "Comme mentionné précédemment, CNN est un type de réseau neuronal, doté de certaines couches cachées spécifiques, notamment la couche convolutive, la couche de pooling et la couche entièrement connectée."
   ]
  },
  {
   "cell_type": "markdown",
   "id": "4c969cbb-027f-44fe-ac67-584355ef1de4",
   "metadata": {},
   "source": [
    "### Couche convolutive"
   ]
  },
  {
   "cell_type": "markdown",
   "id": "9faa4a0c-7c02-4c2d-ae69-6ae878cdba3e",
   "metadata": {},
   "source": [
    "Commençons par la première couche, la couche convolutive.\n",
    "L'objectif principal de la couche convolutive est de détecter différents modèles ou caractéristiques d'une image d'entrée, par exemple ses bords. Supposons que vous ayez une image et que vous souhaitiez retrouver les bords de la photo... afin de pouvoir définir un filtre, également appelé noyau. Maintenant, si vous faites glisser le filtre sur l'image et appliquez le produit scalaire du filtre aux pixels de l'image, le résultat serait une nouvelle image avec tous les bords. Autrement dit, l'application du filtre à l'image de gauche entraînera les bonnes fonctionnalités qui sont généralement utiles pour les couches initiales d'un CNN. En fait, la sortie est l’un des tout premiers ensembles de fonctionnalités primitives dans la hiérarchie des fonctionnalités.\n",
    "C'est l'un des concepts clés des CNN. Maintenant, la question est : que se passe-t-il réellement mathématiquement lorsque nous appliquons un filtre ou un noyau sur une image ?\n",
    "Cela nous amène au processus de convolution. La convolution est une fonction qui peut détecter les bords, les orientations et les petits motifs dans une image.\n",
    "L'opération de convolution peut être considérée comme une fonction mathématique. Imaginez que nous ayons une simple image en noir et blanc comme vous le voyez ici.\n",
    "Nous pouvons convertir l'image en une matrice de pixels avec des valeurs binaires, où 1 signifie un pixel blanc et 0 représente un pixel noir. Gardez toutefois à l'esprit que l'utilisation la plus courante est une valeur comprise entre 0 et 255 pour une image en niveaux de gris ou une image à 3 canaux.\n",
    "pour une image en couleur. Mais pour l’instant et par souci de simplicité, utilisons 0 et 1 comme valeurs. Dans cette étape, nous définissons un filtre.\n",
    "Il peut s'agir de n'importe quel type de filtre, même d'un filtre aléatoire, mais utilisons pour l'instant le filtre détecteur de bords. Ok, maintenant glissons-le sur l'image.\n",
    "Et puis calculez la valeur convoluée pour la première diapositive.\n",
    "Prendre les valeurs −1 et 1 sur deux pixels adjacents et zéro partout ailleurs pour le filtre, donne l'image suivante.\n",
    "Ok, maintenant faisons glisser à nouveau le noyau. Il calculera le deuxième élément de notre image convoluée. Nous répétons ce processus pour compléter la matrice convoluée. Ainsi, en substance, la fonction de convolution est une simple multiplication matricielle, et dans ce cas, le résultat nous montre les bords de l’image.\n",
    "Considérons maintenant un chiffre manuscrit que nous souhaitons reconnaître.\n",
    "Nous pouvons lui appliquer un noyau. Il s’agit en fait de la somme de la « multiplication élément par élément » de la matrice noyau et de la matrice image, comme indiqué sur la diapositive précédente.\n",
    "Ainsi, nous pouvons montrer le résultat comme convolution d’un noyau sur l’image.\n",
    "L'application de plusieurs noyaux sur une image entraînera plusieurs images convoluées.\n",
    "Vous pouvez maintenant comprendre que l'exploitation de différents noyaux nous permet de trouver différents motifs dans une image, tels que des bords, des courbes, etc.\n",
    "Le résultat du processus de convolution est appelé « carte des caractéristiques ».\n",
    "À ce stade, vous vous demandez peut-être : « Comment choisir ou initialiser les noyaux appropriés ? Eh bien, généralement, vous initialisez les noyaux avec des valeurs aléatoires, et pendant la phase d'entraînement, les valeurs seront mises à jour avec des valeurs optimales, de manière à ce que le chiffre soit reconnu.\n",
    "Par exemple, voici le résultat de l’application de 8 noyaux différents sur le chiffre 2. Comme vous pouvez le constater, chaque noyau reconnaîtra un motif particulier dans le chiffre.\n",
    "Il s’agit de la première couche de Convolutional Deep Learning.\n",
    "Nous pouvons interpréter cette couche selon la terminologie traditionnelle des réseaux neuronaux.\n",
    "L'image d'entrée peut être considérée comme une matrice que nous introduisons dans le réseau neuronal via des nœuds d'entrée. Par exemple, dans ce cas, la couche d’entrée du réseau comporte 28 nœuds sur 28. Le résultat du processus de co-évolution est 8 neurones sur [28 x 28]. Nous pouvons les considérer comme des nœuds cachés.\n",
    "Alors, quels sont les poids entre les nœuds d’entrée et les nœuds cachés ?\n",
    "Oui, les 8 noyaux, qui sont 5 par 5. Nous devons maintenant décider si chaque neurone caché doit être « déclenché » ou non.\n",
    "Il faut donc ajouter des « fonctions d’activation » aux neurones.\n",
    "Nous utilisons ReLu (qui est l'abréviation de unité linéaire rectifiée) comme fonction d'activation au-dessus des nœuds de la couche Convolution. ReLu est une fonction d'activation non linéaire, utilisée pour augmenter les propriétés non linéaires de la fonction de décision.\n",
    "Alors, comment pouvons-nous l'appliquer sur la couche de convolution ? Eh bien, nous parcourons simplement toutes les sorties de la couche Convolution, covolved1, et chaque fois qu'un nombre négatif apparaît, nous l'échangeons contre un 0. C'est ce qu'on appelle la fonction d'activation ReLu.\n",
    "Aujourd’hui, nous sommes allés encore plus loin. Dans cette étape, nous devons sous-échantillonner les images de sortie de la fonction ReLu, afin de réduire la dimensionnalité des neurones activés.\n",
    "Nous utilisons donc une autre couche, appelée Max-Pooling.\n",
    "« Max-Pooling » est une opération qui trouve les valeurs maximales et simplifie les entrées.\n",
    "En d’autres termes, cela réduit le nombre de paramètres au sein du modèle.\n",
    "Dans un sens, cela transforme les données de bas niveau en informations de niveau supérieur.\n",
    "Par exemple, nous pouvons sélectionner une fenêtre de taille 2 par 2, puis sélectionner la valeur maximale pour cette matrice. Autrement dit, si l’image est une matrice 2 x 2, cela donnerait un pixel de sortie. De plus, dans cette étape, nous pouvons définir les Strides.\n",
    "Un Stride dicte le comportement de glissement du Max-Pooling.\n",
    "Par exemple, si nous sélectionnons stride=2, la fenêtre se déplacera de 2 pixels à chaque fois, sans se chevaucher.\n",
    "Ok, maintenant nous devrions avoir nos matrices de sortie, mais avec des dimensions inférieures, par exemple 14 x 14.\n",
    "La couche suivante est la couche entièrement connectée. Les couches entièrement connectées prennent les images filtrées de haut niveau de la couche précédente, c'est-à-dire les 8 matrices dans notre cas, et les convertissent en vecteur. Tout d’abord, chaque matrice de couche précédente sera convertie en un vecteur unidimensionnel. Ensuite, il sera entièrement connecté à la couche cachée suivante, qui comporte généralement un faible nombre d’unités cachées.\n",
    "Nous l'appelons entièrement connecté car chaque nœud de la couche précédente est connecté à tous les nœuds de cette couche. Il est connecté via une matrice de poids.\n",
    "Nous pouvons à nouveau utiliser l'activation ReLu ici. Et enfin, nous utilisons Softmax pour trouver la classe de chaque chiffre. Softmax est une fonction d'activation normalement utilisée dans les problèmes de classification. Il génère les probabilités pour la sortie.\n",
    "Par exemple, notre modèle ne sera pas sûr à 100 % qu'un chiffre soit le chiffre 3 ; au lieu de cela, la réponse sera une distribution de probabilités où, si le modèle est correct, le 3 se verra attribuer la probabilité la plus élevée. Autrement dit, Softmax peut générer une distribution de probabilité catégorielle multiclasse.\n",
    "Maintenant, rassemblons toutes ces couches. Ce graphique montre les principales couches d'un réseau neuronal convolutif. Comme vous pouvez le constater, l’ensemble du réseau accomplit généralement deux tâches. La première partie de ce réseau concerne\n",
    "apprentissage et extraction des fonctionnalités… et la deuxième partie tourne autour de la classification.\n",
    "Ainsi, si nous considérons chaque opération comme un élément constitutif, nous pouvons voir qu’un réseau neuronal convolutif typique pourrait ressembler à ce diagramme. Comme vous pouvez l’imaginer, une architecture CNN typique pour la classification d’images peut être beaucoup plus compliquée.\n",
    "Il peut s'agir d'une chaîne d'opérations répétitives Conv, ReLu, Max-Pool.\n",
    "Par exemple, nous voyons ici plus d’une couche convolutionnelle, suivies de quelques couches entièrement connectées.\n",
    "Notez également l'effet de chaque opération Conv, ReLu et Max-Pool traversant l'image : elle réduit la hauteur et la largeur de l'image individuelle, puis augmente la profondeur des images.\n",
    "Par exemple, la sortie de la première couche convolutive est une image de profondeur 8 et la sortie de la deuxième couche est une image de profondeur 32. Ceci est très important, car en utilisant plusieurs couches, CNN sera capable de décomposer le complexe. modèles en une série de modèles plus simples.\n",
    "Si nous transmettons l'un des chiffres via le réseau, vous pouvez voir les sorties. Dans la première couche convolutive, nous appliquons 8 noyaux de taille 5 par 5.\n",
    "Ensuite, nous appliquons ReLu et Max-Pool. Dans la deuxième couche convolutive, nous utilisons 32 noyaux. Encore une fois, nous appliquons ReLu et Max-Pool.\n",
    "Nous connectons les sorties à une couche entièrement connectée.\n",
    "De plus, nous utilisons une deuxième couche entièrement connectée avec un nombre de nœuds inférieur.\n",
    "Et enfin, nous utilisons Softmax dans la dernière couche.\n",
    "Et maintenant, vous pouvez imaginer que si nous utilisons un CNN formé sur des visages humains, les premières couches représenteront principalement des caractéristiques primitives, par exemple les détails de chaque partie des visages ; et les calques suivants représentent des motifs plus abstraits tels que le nez et les yeux ; avec les dernières couches\n",
    "représentant davantage de motifs ressemblant à des visages."
   ]
  },
  {
   "cell_type": "markdown",
   "id": "c9225167-303d-4aaa-94b6-f596843a5c6f",
   "metadata": {},
   "source": [
    "### Entraînement d'un CNN"
   ]
  },
  {
   "cell_type": "markdown",
   "id": "28f50215-9930-4457-837c-6cf089ff3c9e",
   "metadata": {},
   "source": [
    "Examinons maintenant de plus près cette architecture et voyons ce qui se passe dans la phase de formation des réseaux de neurones convolutifs. Comme mentionné, un CNN est un type de réseau neuronal à action directe, composé de plusieurs couches de neurones.\n",
    "Chaque neurone d'une couche reçoit une entrée, la traite et la suit éventuellement avec une sortie non linéaire à l'aide d'une fonction d'activation. Alors, qu’est-ce que le réseau va apprendre à travers le processus d'apprentissage ? Eh bien, il apprend les connexions entre les couches. Ce sont les matrices de poids et de biais entraînables. En fait, l’ensemble du réseau concerne une série de produits scalaires entre les matrices de poids et la matrice d’entrée.\n",
    "Cela signifie que nous devons d'abord initialiser les poids du réseau de manière aléatoire.\n",
    "Ensuite, nous continuerons à alimenter le réseau avec un grand ensemble de données d’images.\n",
    "Nous vérifions ensuite la sortie du réseau et en fonction de l'écart entre la sortie et celle attendue, nous modifions (mettons à jour) les poids. Nous répétons ce processus jusqu’à ce qu’il atteigne une précision de prédiction élevée. Bien entendu, il s’agit d’une image de très haut niveau de l’ensemble du processus de formation. Quoi qu’il en soit, j’espère que vous avez assimilé les idées principales derrière les CNN. Pour une meilleure compréhension des réseaux de neurones convolutifs, je vous recommande d'exécuter les laboratoires de ce module, qui vous guideront à travers les différentes couches de CNN.\n",
    "Merci d'avoir regardé!"
   ]
  },
  {
   "cell_type": "markdown",
   "id": "d0595152-df45-4c58-a3ed-33a7501a412b",
   "metadata": {},
   "source": [
    "# Réseaux de neurones récurrents"
   ]
  },
  {
   "cell_type": "markdown",
   "id": "6fdf8785-7245-4af9-9262-2c9a856598fb",
   "metadata": {},
   "source": [
    "Bonjour et bienvenue! Dans cette vidéo, nous fournirons un aperçu des données séquentielles et expliquerons pourquoi elles posent un problème aux réseaux de neurones traditionnels.\n",
    "Chaque fois que les points d’un ensemble de données dépendent des autres points, les données sont dites séquentielles. Un exemple courant de ceci est une série chronologique, telle que le cours d’une action ou les données d’un capteur, où chaque point de données représente une observation à un moment donné. Il existe d'autres exemples de données séquentielles, comme des phrases, des séquences génétiques et des données météorologiques.\n",
    "Mais les réseaux de neurones traditionnels ne peuvent généralement pas gérer ce type de données.\n",
    "Voyons donc pourquoi nous ne pouvons pas utiliser les réseaux de neurones feedforward pour analyser des données séquentielles.\n",
    "Considérons un problème séquentiel pour voir\n",
    "dans quelle mesure un réseau neuronal de base pourrait être adapté.\n",
    "Supposons que nous disposions d’une séquence de données contenant des valeurs de température et d’humidité pour chaque jour. Notre objectif est de construire un réseau de neurones qui importe les valeurs de température et d'humidité d'un jour donné en entrée et en sortie. Par exemple, pour prédire si le temps sera ensoleillé ou pluvieux ce jour-là.\n",
    "Il s’agit d’une tâche simple pour les réseaux de neurones à action directe traditionnels.\n",
    "À l'aide de notre ensemble de données, nous introduisons d'abord un point de données dans la couche d'entrée.\n",
    "Les données sont ensuite transmises à la ou aux couches cachées, où les pondérations et les biais sont appliqués.\n",
    "Ensuite, la couche de sortie classe les résultats de la couche cachée, qui produit finalement la sortie ensoleillée ou nuageuse.\n",
    "Bien sûr, nous pouvons répéter cela pour le deuxième jour et obtenir le résultat.\n",
    "Cependant, il est important de noter que le modèle ne mémorise pas les données qu’il vient d’analyser. Tout ce qu'il fait, c'est accepter les entrées après les entrées et produire des classifications individuelles pour chaque jour.\n",
    "En fait, un réseau de neurones traditionnel suppose que les données ne sont pas séquentielles et que chaque point de données est indépendant des autres. En conséquence, les entrées sont analysées de manière isolée, ce qui peut poser des problèmes s'il existe des dépendances dans les données.\n",
    "Pour voir en quoi cela peut constituer une limitation, revenons à nouveau à l’exemple météorologique.\n",
    "Comme vous pouvez l’imaginer en examinant la météo, il existe souvent une forte corrélation entre la météo d’un jour et une certaine influence sur la météo des jours suivants.\n",
    "Autrement dit, s’il faisait beau un jour au milieu de l’été, il n’est pas déraisonnable de présumer qu’il fera également beau le lendemain.\n",
    "Cependant, un modèle de réseau de neurones traditionnel n’utilise pas ces informations, nous devrions donc nous tourner vers un autre type de modèle, comme un modèle de réseaux de neurones récurrents.\n",
    "Un réseau neuronal récurrent dispose d'un mécanisme capable de gérer un ensemble de données séquentielles.\n",
    "À présent, vous devriez avoir une bonne compréhension du problème que le modèle de réseau neuronal récurrent tente de résoudre.\n",
    "Ceci conclut la vidéo… merci d’avoir regardé."
   ]
  },
  {
   "cell_type": "markdown",
   "id": "5d6e99d2-c8b0-4ce2-bf88-7d3356aa24cb",
   "metadata": {},
   "source": [
    "## Modèle RNN"
   ]
  },
  {
   "cell_type": "markdown",
   "id": "69e1aa42-f378-471e-83c3-94c509b143ad",
   "metadata": {},
   "source": [
    "Bonjour et bienvenue! Dans cette vidéo, nous donnerons un aperçu des réseaux de neurones récurrents et expliquerons leur architecture.\n",
    "Un réseau de neurones récurrents, ou RNN en abrégé, est un excellent outil pour modéliser des données séquentielles.\n",
    "Le RNN est capable de mémoriser l'analyse qui a été effectuée jusqu'à un point donné en maintenant un état, ou un contexte, pour ainsi dire. Vous pouvez considérer « l’état » comme la « mémoire » du RNN, qui capture des informations sur ce qui a été précédemment calculé.\n",
    "Cet « état » revient sur le réseau à chaque nouvelle entrée, d’où le nom du réseau.\n",
    "Examinons de plus près comment cela fonctionne. Imaginez que le RNN que nous utilisons n’a qu’une seule couche cachée. Le premier point de données circule dans le réseau en tant que données d'entrée, notées x. Comme nous l'avons mentionné précédemment, les unités cachées reçoivent également l'état précédent ou le contexte, noté h_prv, ainsi que l'entrée. Ensuite, dans la couche cachée, deux valeurs seront calculées :\n",
    "Premièrement, l’état nouveau ou mis à jour, noté h_new, doit être utilisé pour le point de données suivant de la séquence. Et deuxièmement, la sortie du réseau sera calculée, notée y. Le nouvel état est fonction de l'état précédent et des données d'entrée, comme indiqué ici. S’il s’agit du premier point de données, alors une certaine forme « d’état initial » est utilisée, qui différera en fonction du type de données analysées. Mais, généralement, il est initialisé à tous les zéros.\n",
    "Veuillez noter que W_x, dans cette équation, est la matrice de poids entre l'entrée et l'unité cachée. Et W_h sont les poids multipliés par l'état précédemment caché dans l'équation. La sortie de l'unité cachée est simplement calculée par multiplication du nouvel état caché et de la matrice de poids de sortie. Ainsi, après avoir traité le premier point de données, en plus de la sortie, un nouveau contexte est généré qui représente le point le plus récent.\n",
    "Ensuite, ce contexte est réinjecté dans le réseau avec le point de données suivant, et nous répétons ces étapes jusqu'à ce que toutes les données soient traitées.\n",
    "Les réseaux de neurones récurrents sont extrêmement polyvalents et sont utilisés dans un large éventail d'applications traitant de données séquentielles. L'une de ces applications est la reconnaissance vocale.\n",
    "Comme vous pouvez le voir, il s’agit d’un type de réseau plusieurs-à-plusieurs.\n",
    "Autrement dit, le but est de consommer une séquence de données puis de produire une autre séquence.\n",
    "Une autre application de RNN est le sous-titrage d’images. Bien que ce ne soit pas purement récurrent, vous pouvez créer un modèle capable de comprendre les éléments d’une image.\n",
    "Ensuite, à l’aide du RNN, vous pouvez enchaîner les éléments sous forme de mots pour former une légende qui décrit la scène. Généralement, RNN a des sorties à chaque pas de temps,\n",
    "mais cela dépend du problème que RNN aborde.\n",
    "Par exemple, dans ce type de RNN pour le sous-titrage, il y a une entrée sous forme d'image et la sortie est une séquence de mots. Ainsi, on l’appelle parfois un-à-plusieurs.\n",
    "RNN peut également être plusieurs à un, c'est-à-dire qu'il consomme une séquence de données et ne produit qu'une seule sortie.\n",
    "Par exemple, pour prédire le cours boursier, alors que nous pourrions nous intéresser uniquement au prix d’une action particulière sur le marché de demain. Ou, pour l'analyse des sentiments, où nous pouvons nous soucier uniquement du résultat final, pas du sentiment après chaque mot.\n",
    "Nous n'avons couvert que quelques applications, mais des variantes des modèles récurrents continuent de résoudre des problèmes de plus en plus complexes, qui dépassent le cadre de cette vidéo.\n",
    "Malgré tous ses atouts, le réseau de neurones récurrent n’est pas un modèle parfait.\n",
    "L’un des problèmes est que le réseau doit suivre les états à tout moment.\n",
    "Il peut y avoir de nombreuses unités de données ou plusieurs pas de temps, ce qui devient donc coûteux en termes de calcul. Un compromis consiste à stocker uniquement une partie des états récents dans une fenêtre temporelle. Un autre problème est que les réseaux de neurones récurrents sont extrêmement sensibles aux changements de leurs paramètres.\n",
    "En conséquence, les optimiseurs de descente de gradient peuvent avoir du mal à entraîner le réseau.\n",
    "En outre, le réseau peut souffrir du problème du « Vanishing Gradient », où le gradient tombe à presque zéro et l'entraînement ralentit jusqu'à s'arrêter. Enfin, il peut également souffrir du « dégradé explosif », où le gradient croît de façon exponentielle jusqu'à l'infini.\n",
    "Dans les deux cas, la capacité d’apprentissage du modèle sera diminuée.\n",
    "À présent, vous devriez avoir une bonne compréhension des idées principales derrière le modèle de réseau neuronal récurrent.\n",
    "Merci d'avoir regardé cette vidéo."
   ]
  }
 ],
 "metadata": {
  "kernelspec": {
   "display_name": "Python 3 (ipykernel)",
   "language": "python",
   "name": "python3"
  },
  "language_info": {
   "codemirror_mode": {
    "name": "ipython",
    "version": 3
   },
   "file_extension": ".py",
   "mimetype": "text/x-python",
   "name": "python",
   "nbconvert_exporter": "python",
   "pygments_lexer": "ipython3",
   "version": "3.11.4"
  }
 },
 "nbformat": 4,
 "nbformat_minor": 5
}
