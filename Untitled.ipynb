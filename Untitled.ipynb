{
 "cells": [
  {
   "cell_type": "markdown",
   "id": "6d15a06f-5f42-474a-9c4b-919613a0b726",
   "metadata": {},
   "source": [
    "# Avant propos"
   ]
  },
  {
   "cell_type": "markdown",
   "id": "e4bb1aca-bb80-4447-b6bf-7394bee5f80e",
   "metadata": {},
   "source": [
    "La mise en production des modèles d’IA est une tâche qui se rend parfois\n",
    "difficile, elle permet la création et la maximisation de la valeur ajoutée\n",
    "pour les entreprises. De plus, cette tâche ne s’arrête pas une fois que le\n",
    "modèle est passé en production, car il est essentiel de le maintenir, l’évaluer\n",
    "et le réentrainer de temps en temps. Cela peut être justifié par le fait que\n",
    "les données vont continuer à augmenter en véhiculant de nouvelles informations\n",
    "plus précises et plus riches. Toutes ces étapes doivent être automatisées, afin\n",
    "de limiter au maximum l’intervention humaine. Les applications TensorFlow\n",
    "peuvent être exécutées sur une machine locale, un cluster sur le Cloud,\n",
    "des smartphones et tablettes iOS ou Android, ou encore des CPU et des GPU.\n",
    "Sur son propre Cloud, Google propose d’exécuter TensorFlow sur ses\n",
    "puces **TensorFlow Processing Unit (TPU)** pour profiter d’une accélération\n",
    "accrue. Les modèles créés par TensorFlow peuvent ensuite être déployés sur\n",
    "n’importe quel appareil afin de délivrer des prédictions.\n",
    "\n",
    "Donc, au lieu de s'occuper de l'implémentation des algorithmes dans les\n",
    "moindres détails ou de chercher des solutions appropriées pour lier une\n",
    "fonction en sortie avec une autre fonction en entrée, le développeur peut\n",
    "se concentrer sur la logique globale de l'application, TensorFlow s'occupant\n",
    "des détails en arrière. Il propose différents niveaux d’APIs, cela permet donc\n",
    "de le rendre facilement accessible à des développeurs ayant **très peu\n",
    "de connaissances en deep learning**, tout en conservant un intérêt indéniable\n",
    "pour des chercheurs.\n",
    "\n",
    "TensorFlow peut être vu comme un système de programmation dans lequel les\n",
    "calculs sont représentés sous la forme d’un **graphe**. On parle souvent de\n",
    "**graphe de calcul**. Les sommets représentent des **opérations mathématiques**\n",
    "qui peuvent aller d’une simple addition à des fonctions très complexes,\n",
    "et les arêtes représentent des structures spécifiques qu’on appelle **tensors**.\n",
    "\n",
    "TensorFlow possède un très bon outil de visualisation qui s’appelle\n",
    "**TensorBoard**. Cet outil permet de visualiser les données, l’évolution\n",
    "des variables et les graphes de calcul. Il s’agit d’un outil bien conçu et\n",
    "facile à utiliser, à tel point que les développeurs de **PyTorch**, le principal\n",
    "concurrent de TensorFlow aujourd’hui, ont développé un module spécifique\n",
    "permettant d’intégrer, même partiellement, TensorBoard dans l’écosystème\n",
    "PyTorch."
   ]
  },
  {
   "cell_type": "markdown",
   "id": "b0c3455d-a845-4059-95f0-3ce03de68f3c",
   "metadata": {},
   "source": [
    "## Prérequis"
   ]
  },
  {
   "cell_type": "markdown",
   "id": "9b6d37a2-5cc9-44eb-b056-cbdfb26efa36",
   "metadata": {},
   "source": [
    "1. Avoir quelque notion de base en mathématique.\n",
    "2. Savoir écrire des algorithmes et programmer dans un langage de programmation.\n",
    "3. Savoir programmer en langage **Python**.\n",
    "4. Maîtriser les bases de la programmation orientée objet (**POO**).\n",
    "5. Même si ce n'est pas obligatoire avant de commencer ce cour, il faut au\n",
    "moins avoir suivie un cour de **machine learning** et/ou de **data science**\n",
    "ailleurs qu'ici. Car je ne vais pas trop m'attarder sur ces notions de base."
   ]
  },
  {
   "cell_type": "markdown",
   "id": "7ab313d2-16ec-4cd3-8d61-684668398d45",
   "metadata": {},
   "source": [
    "# Introduction"
   ]
  },
  {
   "cell_type": "markdown",
   "id": "0907c8e1-c4bf-4df8-9da5-615a02053d41",
   "metadata": {},
   "source": [
    "\n",
    "TensorFlow est une bibliothèque open source développée par l'équipe Google Brain.\n",
    "Il s'agit d'une bibliothèque extrêmement polyvalente, créée à l'origine pour des tâches nécessitant de lourdes opérations numériques. Pour cette raison, TensorFlow a été conçu pour\n",
    "le problème de l'apprentissage automatique et des réseaux de neurones profonds.\n",
    "Grâce à un backend C/C++, TensorFlow est capable de s'exécuter plus rapidement que le code Python pur. TensorFlow utilise une structure\n",
    "connu sous le nom de graphe de flux de données, qui est très utile pour d'abord le construire puis l'exécuter\n",
    "dans une session. C'est aussi une technique de programmation très courant\n",
    "pour le calcul parallèle. Nous aborderons cela plus en détail un peu plus tard.\n",
    "\n",
    "TensorFlow offre plusieurs avantages pour une application. Par exemple, il fournit à la fois une API Python et une API C++. Il convient de noter, cependant, que\n",
    "L'API Python est plus complète et généralement plus facile à utiliser.\n",
    "TensorFlow a également d'excellents temps de compilation par rapport à d'autres bibliothèques. Et il prend en charge les CPU, les GPU et même distribués le traitement dans un cluster. C'est une fonctionnalité très importante car vous pouvez former un réseau de neurones en utilisant un CPU et plusieurs GPU, ce qui rend les modèles très efficaces pour des systèmes à grande échelle.\n",
    "\n",
    "La structure de TensorFlow est basée sur l'exécution d'un graphe de flux de données. Alors, regardons de plus près.\n",
    "Un graphe de flux de données comporte deux unités de base. Les nœuds qui représentent une opération mathématique et les arêtes qui représentent les tableaux multidimensionnels appelés tenseurs. Cette abstraction de haut niveau révèle donc comment les données circulent entre opérations. Veuillez noter qu'en utilisant le graphe de flux de données,\n",
    "nous pouvons facilement visualiser différentes parties du graphe, ce qui n'est pas possible lors de l'utilisation\n",
    "d'autres bibliothèques Python telles que Numpy ou SciKit-learn. L'utilisation standard est de construire d'abord un graphe puis de l'exécuter dans une session.\n",
    "\n",
    "Les tenseurs, quand à eux, comme nous l'avons déjà noté, permettent le transfère des données entre les opérations. Un tenseur est un tableau multidimensionnel.\n",
    "- Il peut être de dimension nulle, comme les scalaires,\n",
    "- unidimensionnel, comme vecteur,\n",
    "- ou bidimensionnel, tel qu'une matrice, etc.\n",
    "\n",
    "La classe `Tensor` de TensorFlow nous aide à façonner l'ensemble de données comme nous voulons. Il est également particulièrement utile lorsqu'il s'agit de traiter avec des images, en raison de la façon dont les images sont encodées.\n",
    "En effet, quand on analyse une image, il est facile de comprendre qu'elle a une hauteur et une largeur et qu'il serait donc logique de représenter ses informations dans un tenseur bidimensionnel, c'est à dire : une matrice.\n",
    "Mais comme tu le sais déjà, les images ont des couleurs, et pour gérer les informations sur les couleurs, nous avons besoin d'une dimension en plus, et c'est là qu'un tenseur tridimensionnel devient particulièrement utile.\n",
    "\n",
    "Maintenant, regardons un graphe de flux de données et voyons comment les tenseurs et les opérations construisent le\n",
    "graphique."
   ]
  },
  {
   "cell_type": "markdown",
   "id": "6c42a6bc-5ce5-4e20-bec3-f93baa618fd0",
   "metadata": {},
   "source": [
    "![](images/tensorflow_data_flow.png)"
   ]
  },
  {
   "cell_type": "markdown",
   "id": "5625d2f8-42d0-4867-9136-f5582df7c6f9",
   "metadata": {},
   "source": [
    "Comme mentionné précédemment, dans un graphe de flux de données, **les nœuds sont des opérations**, qui représentent des unités de calcul. **Les arêtes sont des tenseurs** qui représentent les données consommées ou produites par une opération.\n",
    "Dans ce graphe, la matrice de fonctionnalités **input** est un espace réservé. Les espaces réservés peuvent être considérés comme des \"trous\" dans notre modèle, à travers lesquels, on peut faire passer les données depuis l'extérieur du graphe. Lorsqu'on définit un espace réservé ou une variable, TensorFlow ajoute une opération à notre graphe.\n",
    "\n",
    "Lorsqu'on veut exécuter le graphe, on doit en premier, alimenter les espaces réservés nécessaires avec nos données d'entrée. Voici l'expression de calcul réalisé par notre exemple de graphe ci-dessus :\n",
    "\n",
    "$$\n",
    "G = (7 \\times 3) + (7 + 3)\n",
    "$$\n",
    "\n",
    "Après avoir ajouté toutes ces opérations dans le graphe, nous pouvons créer une session pour l'exécuter et effectuer les calculs. Il faut retenir que les deux **input** sont des tenseurs et donc le résultat de chaque opération est un tenseur. Les tenseurs résultants de chaque opération est utilisé pour l'opération suivante et ainsi de suite jusqu'à la fin où il est possible d'obtenir le résultat final. Dans notre cas ici, il s'agit des scalaires, donc des tenseurs de dimension nulle.\n",
    "\n",
    "Comme mentionné précédemment, TensorFlow est livré avec une interface Python facile à utiliser pour créer\n",
    "et exécutez nos graphe de calcul. Mais ce qui rend TensorFlow si populaire aujourd'hui, c'est son architecture. L'architecture flexible de TensorFlow nous permet de déployer le calcul sur un ou plusieurs CPU, ou GPU, ou sur un poste de travail, un serveur, ou même un appareil mobile. Cela signifie que nous onstruisons et entraînons notre programme une fois, puis pouvoir l'exécuter facilement sur différents appareils sans avoir besoin de le réecrire à nouveau.\n",
    "\n",
    "Premièrement, TensorFlow prend en charge intégrée l'apprentissage en profondeur (Deep learning) et les réseaux de neurones, il est donc facile d'assembler un réseau, d'attribuer des paramètres, et exécuter le processus d'entraînement. Deuxièmement, il a également une collection de simples fonctions mathématiques entraînables utiles pour les réseaux de neurones.\n",
    "Enfin, l'apprentissage en profondeur en tant qu'algorithme d'apprentissage automatique basé sur les gradients bénéficie de\n",
    "la différenciation automatique et les optimiseurs de TensorFlow.\n",
    "\n",
    "Tout au long de ce cours, je vais te montrer comment tu peux utiliser la bibliothèque **TensorFlow** open source de Google pour développer tes applications d'apprentissage en profondeur (Deep Learning).\n",
    "\n",
    "Dans le chapitre 1, après t'avoir présenté la bibliothèque TensorFlow et t'avoir montrer\n",
    "un exemple de programme \"hello, world\", nous allons passer en revue quelques algorithmes d'apprentissage automatique de base comme la régression linéaire et la régression logistique. Il t'aidera à comprendre les principes fondamentaux de TensorFlow et des graphes de calculs de flux de données.\n",
    "\n",
    "Dans le chapitre 2, je vais te présenter les réseaux de neurones convolutifs, un modèle puissant\n",
    "qui est capable de faire la reconnaissance d'objet. Je t'expliquerai en détail les opérations convolution, et  je te montrerai comment construire un réseau convolutif avec TensorFlow, qu'on va entraîner pour faire de la reconnaître de chiffres manuscrits.\n",
    "\n",
    "Dans le chapitre 3, je vais te donner un aperçu des données séquentielles et des réseaux de neurones récurrents,\n",
    "ainsi que le modèle à mémoire à longue et à court terme (LSTM). On va également programmer une application de traitement du langage naturel.\n",
    "\n",
    "Dans le chapitre 4, je vais te présenter l'apprentissage non supervisé.\n",
    "Notre objectif principal sera la machine Boltzmann restreinte, qui détecte les modèles en reconstruisant\n",
    "son entrée. Après avoir créé et formé un Boltzmann restreint Machine dans TensorFlow, je vais te montrer comment l'utiliser pour créer un système de recommandation.\n",
    "\n",
    "Et, enfin, dans le chapitre 5 je t'expliquerai le concept d'un Autoencoder, un modèle de détection de motifs en apprentissage non supervisé. Je te montrerai une implémentation de ce modèle avec TensorFlow. Il y a beaucoup à faire, mais après avoir terminé ce cours, tu seras capable d'utiliser correctement TensorFlow dans tes propres applications."
   ]
  },
  {
   "cell_type": "markdown",
   "id": "78860bd4-3424-4c5a-bab0-b39299ec75cc",
   "metadata": {},
   "source": [
    "# Principes fondamentaux"
   ]
  },
  {
   "cell_type": "markdown",
   "id": "a1cdf9dc-f55c-41ec-951e-df61dda340f0",
   "metadata": {},
   "source": [
    "## Les tenseurs"
   ]
  },
  {
   "cell_type": "markdown",
   "id": "bdaf234f-6200-4e60-9df1-f05bca88f564",
   "metadata": {},
   "source": [
    "Voyons un peu ce que s'est qu'un tenseur. Je sais que cela semble être un nom\n",
    "compliqué. En anglais, le mot \"tenseur\" signifie \"Tensor\". Je sais que tu\n",
    "t'imagine déjà d'où vient le nom TensorFlow (flux de tenseurs) !\n",
    "Si tu as déjà fait de l'algèbre\n",
    "linéaire, ou même du calcul vectoriel de base, tu devrais savoir ce que c'est.\n",
    "\n",
    "Un tenseur est une généralisation des vecteurs et des matrices à des dimensions\n",
    "potentiellement plus élevées. En interne, `TensorFlow` représente les tenseurs\n",
    "comme des tableaux à **n-dimensions** contenant des données de type de base\n",
    "(`int`, `float`, `str`, etc.).\n",
    "\n",
    "En machine learning, on utilise souvent un vecteur pour représenter un point\n",
    "de donnée. Car les points de données on souvent plusieurs caractéristiques,\n",
    "c'est à dire : une liste de nombres par exemple qui représentent les\n",
    "différentes observations qui ont été faites sur ces données. Étant donné que\n",
    "lorsqu'il s'agit d'effectuer de très grands calculs sur des données,\n",
    "les listes basiques ne font pas le poids contre les tableaux numériques comme\n",
    "**les tableau Numpy** et les **tenseurs**, alors on utilise les\n",
    "tenseurs lorsqu'on se trouve sur TensorFlow ou autres frameworks de\n",
    "machine learning, pour traiter des données numériques beaucoup plus rapidement\n",
    "et efficacement.\n",
    "\n",
    "> Mais, comment je peux représenter une image, ou une vidéo sous\n",
    "forme de tenseur ? :thinking:\n",
    "\n",
    "Pour représenter une image sous forme de tenseur, c'est simple ! Tout d'abord\n",
    "un pixel a trois composants, Red, Green et Bleu (RGB), ce qui signifie qu'un\n",
    "pixel est un vecteur (tableau à **1-dimension**) de 3 nombres entiers qui\n",
    "prennent chacun une valeur entre 0 et 255. Une image, quant à elle, est une\n",
    "matrice de pixel, c'est à dire un tableau de pixels à **2-dimensions**. Donc,\n",
    "si on souhaite représenter une image sous forme tenseur, on le représentera un\n",
    "tenseur à 1 + 2 = **3-dimensions** où\n",
    "- le nombre de lignes correspondra à la hauteur de l'image,\n",
    "- le nombre de colonnes conrespondra à la largeur de l'image,\n",
    "- et le nombre de profondeur sera égal à 3, car un pixel à trois valeurs (RGB)."
   ]
  },
  {
   "cell_type": "markdown",
   "id": "703faf7a-8f13-45e4-98a8-c224cd6a4c53",
   "metadata": {},
   "source": [
    "![](./images/pixel-art.png)"
   ]
  },
  {
   "cell_type": "markdown",
   "id": "d6970326-0cd2-484b-b4f4-4fd9a600fba8",
   "metadata": {},
   "source": [
    "Je te laisse imaginer comment on peut représenter une vidéo sous forme tenseur,\n",
    "en sachant qu'une vidéo est composée d'un grand nombre de frames qui ne sont\n",
    "qu'en réalités des images.\n",
    "\n",
    "Ne sois pas surpris que les tenseurs soient un aspect fondamental de TensorFlow.\n",
    "Ils sont au coeur de TensorFlow, ils représentent, la plus part du temps,\n",
    "les principaux objets avec lesquels nous allons travailler.\n",
    "Les programmes écris sous TensorFlow fonctionnent en construisant un\n",
    "graphe d'objets `Tensor` qui définit les différentes liaisons entre les\n",
    "tenseurs. L'exécution de différentes parties du graphe permet de générer des\n",
    "résultats.\n",
    "\n",
    "Chaque tenseur a un type de données et une dimension (`shape`).\n",
    "- Le type donnée est simplement le type d'informations stockées dans le \n",
    "tenseur. Il peut être: `float32`, `int32`, `string` et autres types. Il est\n",
    "très rare de rencontrer des tenseurs gérer des types de données autres que des\n",
    "nombres.\n",
    "- `shape` représente les dimensions du contenu du tenseur."
   ]
  },
  {
   "cell_type": "markdown",
   "id": "856cdeab-461f-4bb6-a296-bf6ecf0329a3",
   "metadata": {},
   "source": [
    "### Création d'un tenseur"
   ]
  },
  {
   "cell_type": "markdown",
   "id": "6d72bf4e-b60f-431f-ade1-99f9e4c6f0ec",
   "metadata": {},
   "source": [
    "Pour créer un tenseur, on utilise la classe `tf.Variable` qui prend en premier\n",
    "argument la donnée à stocker et en second argument, le type cette donnée.\n",
    "Vous trouverez ci-dessous un exemple de création de différents tenseurs."
   ]
  },
  {
   "cell_type": "code",
   "execution_count": 7,
   "id": "cf3adb54-9d87-49b1-b25a-340fb4ce61f4",
   "metadata": {
    "execution": {
     "iopub.execute_input": "2023-08-22T16:14:31.198289Z",
     "iopub.status.busy": "2023-08-22T16:14:31.197917Z",
     "iopub.status.idle": "2023-08-22T16:14:31.203573Z",
     "shell.execute_reply": "2023-08-22T16:14:31.203022Z",
     "shell.execute_reply.started": "2023-08-22T16:14:31.198266Z"
    }
   },
   "outputs": [],
   "source": [
    "import tensorflow as tf  # N'oublit pas d'importer la librairie.\n",
    "\n",
    "\n",
    "# On définit un tenseur qui stocke une chaine de caractères.\n",
    "string = tf.Variable(\"This is a string\", tf.string)\n",
    "\n",
    "# On définit un tenseur qui stocke un nombre entier\n",
    "# représenté sous 16 bits.\n",
    "number = tf.Variable(324, tf.int16)\n",
    "\n",
    "# On définit un tenseur qui stocke un nombre réel\n",
    "# représenté en virgule flottante à double précision.\n",
    "floating = tf.Variable(3.567, tf.float64)"
   ]
  },
  {
   "cell_type": "markdown",
   "id": "63282b18-4384-435e-b547-2bcc2805a98d",
   "metadata": {},
   "source": [
    "Les tenseurs que nous venons de définir dans le code python ci-dessus, sont\n",
    "appelés des scalaires. Un scalaire est tout simplement une valeur de type bien\n",
    "défini. On parle de vecteur de valeurs, lorsqu'on a plus d'une valeur. Donc\n",
    "une matrice sera considérée comme un vecteur de vecteurs. Et ainsi de suite !"
   ]
  },
  {
   "cell_type": "markdown",
   "id": "9f7eda24-55a5-448c-85e9-7099dc5993af",
   "metadata": {},
   "source": [
    "### Rang/degré d'un tenseur"
   ]
  },
  {
   "cell_type": "markdown",
   "id": "543464c0-e534-472b-8e59-e58a959e91fd",
   "metadata": {},
   "source": [
    "Un autre mot pour désigner le rang est le **degré**. Ces termes désignent\n",
    "simplement le nombre de dimensions du tenseur. Ce que nous avons créé dans la\n",
    "section précédente sont des tenseurs de rang `0`, et comme je te l'avais, ils\n",
    "sont appelés **scalaire**.\n",
    "\n",
    "Maintenant, lorsqu'il s'agit d'un tableau ou d'une liste, on a immédiatement\n",
    "au moins le rang `1`."
   ]
  },
  {
   "cell_type": "code",
   "execution_count": 9,
   "id": "2e8c3663-59dc-4456-8816-7ed7cb2ad37f",
   "metadata": {
    "execution": {
     "iopub.execute_input": "2023-08-22T16:16:42.981274Z",
     "iopub.status.busy": "2023-08-22T16:16:42.980181Z",
     "iopub.status.idle": "2023-08-22T16:16:42.995924Z",
     "shell.execute_reply": "2023-08-22T16:16:42.995312Z",
     "shell.execute_reply.started": "2023-08-22T16:16:42.981202Z"
    }
   },
   "outputs": [],
   "source": [
    "# ici, je crée un tenseur de rang 1:\n",
    "rank1_tensor = tf.Variable(['Test', 'ok'], tf.string)\n",
    "# ici, je crée un tenseur de rang 2:\n",
    "rank2_tensor = tf.Variable([['Test', 'ok'], ['test', 'yes']], tf.string)"
   ]
  },
  {
   "cell_type": "markdown",
   "id": "c55fb7ea-198b-4ec2-b4a0-399265e8f15d",
   "metadata": {},
   "source": [
    "La raison pour laquelle `rank2_tensor` est un tenseur de rang `2` est que nous\n",
    "l'avons initialisé avec des listes à l'intérieur d'une autre liste, ce qui a\n",
    "créé simplement un vecteur de vecteurs. C'est cela qu'on appelle **matrice**.\n",
    "Une matrice est dont un tenseur de rang 2, c'est à dire tenseur à\n",
    "**2-dimension**.\n",
    "\n",
    "Pour déterminer le rang d'un tenseur, tu peux appeller la méthod `tf.rank()`\n",
    "comme suit :"
   ]
  },
  {
   "cell_type": "code",
   "execution_count": 10,
   "id": "65d85805-0c46-441d-ace5-570f5568b30a",
   "metadata": {
    "execution": {
     "iopub.execute_input": "2023-08-22T16:16:47.666429Z",
     "iopub.status.busy": "2023-08-22T16:16:47.666218Z",
     "iopub.status.idle": "2023-08-22T16:16:47.743370Z",
     "shell.execute_reply": "2023-08-22T16:16:47.742689Z",
     "shell.execute_reply.started": "2023-08-22T16:16:47.666411Z"
    }
   },
   "outputs": [
    {
     "name": "stdout",
     "output_type": "stream",
     "text": [
      "Rank of rank2_tensor is: 2\n"
     ]
    }
   ],
   "source": [
    "rank = tf.rank(rank2_tensor)\n",
    "print(f\"Rank of rank2_tensor is: {rank}\")"
   ]
  },
  {
   "cell_type": "markdown",
   "id": "f4175b24-01ec-49ed-b9bd-786df6ceb8e6",
   "metadata": {},
   "source": [
    "Nous avons assez parlé du rang des tenseurs, il est temps de parler\n",
    "de leur forme."
   ]
  },
  {
   "cell_type": "markdown",
   "id": "ec3bd12f-ff6b-4b85-9eb9-50ceb5f0ee7d",
   "metadata": {},
   "source": [
    "### Dimensions des tenseurs"
   ]
  },
  {
   "cell_type": "markdown",
   "id": "07bd8935-103d-4fec-b93b-da13d0f313e4",
   "metadata": {},
   "source": [
    "La forme ou les dimensions d'un tenseur sont simplement le nombre d'éléments\n",
    "qui se trouve dans chaque dimension. TensorFlow essaiera de déterminer\n",
    "les dimensions d'un tenseur mais parfois elles peuvent être inconnues.\n",
    "\n",
    "Pour obtenir les dimensions d'un tenseur, on utilise l'attribut `shape`."
   ]
  },
  {
   "cell_type": "code",
   "execution_count": null,
   "id": "873974b5-b777-4033-8c97-3cc7d449ddb7",
   "metadata": {},
   "outputs": [],
   "source": [
    "print(rank2_tensor.shape)\n",
    "# Affiche un tuple d'entiers qui représente\n",
    "# la forme du tenseur `rank2_tensor`."
   ]
  },
  {
   "cell_type": "markdown",
   "id": "5428d2f2-ff2c-4ffb-9fa3-1aa81fe0e1b9",
   "metadata": {},
   "source": [
    "Il s'agit ici d'un attribut très important pour le développement des \n",
    "algorithmes de machine learning. Car, lorsqu'on se trompe de dimension\n",
    "pendant les calculs, le programme nous retourne des bugs, donc ne\n",
    "fonctionne plus.\n",
    "\n",
    "À la création d'un tenseur, par exemple si on a plusieurs lignes de données,\n",
    "toute les lignes doivent **avoir obligatoirement le même nombre d'éléments**.\n",
    "Donc, si tu veux créer une matrice de nombres réels de dimension $3 \\times 5$\n",
    "(3 lignes, 5 colonnes), alors toutes les 3 lignes **doivent obligatoirement\n",
    "contenir 5 nombres réels** chacune. Pas plus ni moins."
   ]
  },
  {
   "cell_type": "markdown",
   "id": "2208e268-e56d-4d75-8fbe-7addeaa9d03a",
   "metadata": {},
   "source": [
    "### Redimensionnement d'un tenseur"
   ]
  },
  {
   "cell_type": "markdown",
   "id": "35fe8e77-8392-4825-816c-c05d6a370682",
   "metadata": {},
   "source": [
    "Maintenant, il existe des moyens pour redimensionner ou changer la forme\n",
    "d'un tenseur sans modifier ses valeurs.\n",
    "\n",
    "Le nombre d'éléments d'un tenseur est le produit des valeurs $x_1, x_2, \\ldots, \n",
    "x_i, \\ldots, x_n$, de toutes ses dimensions `(x1, x2, ..., xi, ..., xn)`.\n",
    "Étant donnée que deux tenseurs de dimensions différentes peuvent contenir le\n",
    "même nombre d'éléments, alors il est possible de changer les dimensions d'un\n",
    "tenseur. Ce pendant, lorsqu'on modifie les dimensions d'un tenseur, cela\n",
    "affecte son rang.\n",
    "\n",
    "L'exemple ci-dessous montre comment changer les dimensions d'un tenseur."
   ]
  },
  {
   "cell_type": "code",
   "execution_count": 11,
   "id": "d872be0c-0fa4-42a7-b5b8-3c4966067b12",
   "metadata": {
    "execution": {
     "iopub.execute_input": "2023-08-22T16:19:28.117337Z",
     "iopub.status.busy": "2023-08-22T16:19:28.116713Z",
     "iopub.status.idle": "2023-08-22T16:19:28.380644Z",
     "shell.execute_reply": "2023-08-22T16:19:28.379707Z",
     "shell.execute_reply.started": "2023-08-22T16:19:28.117306Z"
    }
   },
   "outputs": [],
   "source": [
    "tensor1 = tf.ones([1, 2, 3])  # Crée un tenseur de dimensions (1, 2, 3) remplit de 1.\n",
    "tensor2 = tf.reshape(tensor1, [2, 3, 1])  # Redimensionne le tenseur existant en (2, 3, 1).\n",
    "\n",
    "tensor3 = tf.reshape(tensor2, [3, -1])  \n",
    "# -1 indique au tenseur de calculer \n",
    "# la taille de la dimension restante à cet endroit. \n",
    "# Ce qui donnera au tenseur la forme [3, 3].\n",
    "\n",
    "# Le nombre d'éléments dans le tenseur redimensionné DOIT correspondre \n",
    "# au nombre d'éléments dans le tenseur d'origine."
   ]
  },
  {
   "cell_type": "markdown",
   "id": "fe5dc02f-5b57-46d2-8ee4-53f209458e4f",
   "metadata": {},
   "source": [
    "Maintenant, jetons un coup d'oeil à nos différents tenseurs."
   ]
  },
  {
   "cell_type": "code",
   "execution_count": 12,
   "id": "6001a299-71df-4be5-bf7a-c6ea0be7b56c",
   "metadata": {
    "execution": {
     "iopub.execute_input": "2023-08-22T16:20:21.083751Z",
     "iopub.status.busy": "2023-08-22T16:20:21.082637Z",
     "iopub.status.idle": "2023-08-22T16:20:21.094523Z",
     "shell.execute_reply": "2023-08-22T16:20:21.093580Z",
     "shell.execute_reply.started": "2023-08-22T16:20:21.083677Z"
    }
   },
   "outputs": [
    {
     "name": "stdout",
     "output_type": "stream",
     "text": [
      "tensor1 = <tf.Tensor: shape=(1, 2, 3), dtype=float32, numpy=\n",
      "array([[[1., 1., 1.],\n",
      "        [1., 1., 1.]]], dtype=float32)>\n",
      "\n",
      "tensor2 = <tf.Tensor: shape=(2, 3, 1), dtype=float32, numpy=\n",
      "array([[[1.],\n",
      "        [1.],\n",
      "        [1.]],\n",
      "\n",
      "       [[1.],\n",
      "        [1.],\n",
      "        [1.]]], dtype=float32)>\n",
      "\n",
      "tensor3 = <tf.Tensor: shape=(3, 2), dtype=float32, numpy=\n",
      "array([[1., 1.],\n",
      "       [1., 1.],\n",
      "       [1., 1.]], dtype=float32)>\n",
      "\n"
     ]
    }
   ],
   "source": [
    "print(f\"{tensor1 = }\\n\")\n",
    "print(f\"{tensor2 = }\\n\")\n",
    "print(f\"{tensor3 = }\\n\")\n",
    "\n",
    "# Remarque les changements de dimension."
   ]
  },
  {
   "cell_type": "markdown",
   "id": "3e877056-152c-454a-94d5-b17af8685387",
   "metadata": {},
   "source": [
    "Lorsqu'on place `-1` au niveau d'une des dimensions, la fonction de\n",
    "redimensionnement se base sur le nombre d'éléments restant afin\n",
    "de définir la valeur de cette dimension. C'est donc ce qui s'est passé pour\n",
    "avoir le `tenseur3`. Étant donné qu'il y avait au total\n",
    "$2 \\times 3 \\times 1 = 6$ éléments, alors lorsque le nombre de lignes a été\n",
    "définis à 3, `reshape()` a simplement effectué l'opération $6 \\div 3 = 2$ pour\n",
    "connaitre le nombre d'éléments à placer sur chaque ligne pour obtenir le même\n",
    "nombre d'éléments sur les 3 lignes.\n",
    "\n",
    "Donc, pour te dire de faire attention lorsque tu veux fixer les paramètres de\n",
    "redimensionnement, car si, par exemple on avait pris 4 comme nombre de lignes\n",
    "et ensuite placé -1 comme nombre de colonne, il y aurait eu un problème et\n",
    "la fonction `reshape()` allait nous balancer une belle erreur de type \n",
    "`InvalidArgumentError` en pleine face. :laughing:"
   ]
  },
  {
   "cell_type": "markdown",
   "id": "28dd5530-b5a5-4c10-91c7-10e5bd0553c2",
   "metadata": {},
   "source": [
    "![](./images/reshape_error.png)"
   ]
  },
  {
   "cell_type": "markdown",
   "id": "52735a69-3979-40e1-8453-c2fbcd799f8c",
   "metadata": {},
   "source": [
    "> Ah, informe moi !\n",
    "\n",
    "Au fait, si tu regardes le nombre d'éléments total qui est 6, il n'est pas\n",
    "divisible par 4, car $6 \\div 4$ ne donne pas un nombre entier. Or pour avoir\n",
    "un nombre d'éléments répartis de façon équitable sur toutes les 4 lignes, il\n",
    "va faloir trouver 2 éléments de plus à ajouter au 6 éléments de départ.\n",
    "Ce qui n'est pas possible à trouver, étant donné que le nombre d'éléments dans\n",
    "un tenseur est fixe.\n",
    "\n",
    "C'est tout ce qu'il faut savoir à propos de cette fonctionnalité. Il faut\n",
    "savoir qu'elle fait partie de l'une des fonctionnalités les plus utilisées\n",
    "en machine learning. On l'utilisera donc au fur et à mesure qu'on avancera dans\n",
    "ce cour."
   ]
  },
  {
   "cell_type": "markdown",
   "id": "74a9a999-f051-4225-9ce9-6dd31217e542",
   "metadata": {},
   "source": [
    "### Types de tenseurs"
   ]
  },
  {
   "cell_type": "markdown",
   "id": "24293be7-f7b0-4235-9240-ba836b4ca286",
   "metadata": {},
   "source": [
    "Il existe différents types de tenseurs que nous pouvons utiliser. Jusqu'à\n",
    "présent, le seul qu'on a vu est `tf.Variable`.\n",
    "Avant d'aller loin, je te présente rapidement les autres types de tenseur\n",
    "les plus couramment utilisés en TensorFlow.\n",
    "\n",
    "- `tf.Variable`;\n",
    "- `tf.Constant`;\n",
    "- `tf.Placeholder`;\n",
    "- `tf.SparseTensor`.\n",
    "\n",
    "À l'exception de `tf.Variable`, tous ces tenseurs sont immuables, ce qui \n",
    "signifie qi'après leurs créations, on ne peut plus modifier les valeurs des\n",
    "éléments qu'ils contiennent pendant l'exécution.\n",
    "On utilise en général un tenseur de type `Variable` lorsque, au cour de\n",
    "l'exécution du programme, on prévoit changer les valeurs des éléments qu'il\n",
    "contient.\n",
    "\n",
    "On parlera beaucoup plus en profondeur de chacun d'eux au fur et à\n",
    "mesure de leur utilisation."
   ]
  },
  {
   "cell_type": "markdown",
   "id": "16fc11bf-1128-44ea-b2ab-04745434249e",
   "metadata": {},
   "source": [
    "## Mode Eager"
   ]
  },
  {
   "cell_type": "markdown",
   "id": "df1f3bdd-94a7-48c1-a2a1-020adc7785c0",
   "metadata": {},
   "source": [
    "L'un des changements majeurs dans TensorFlow 2.x est que le framework Keras qui est devenu l'API officielle de haut niveau pour TensorFlow. Keras est une API d'apprentissage en profondeur écrite en Python et connue pour sa convivialité.\n",
    "Il propose des abstractions qui facilitent le développement de modèles d'apprentissage en profondeur.\n",
    "Cependant, Keras ne possède pas son propre moteur d'exécution et dépend d'autres frameworks comme Theano.\n",
    "\n",
    "Dans la version 2.x, TensorFlow n'est pas seulement devenu le moteur d'exécution par défaut de Keras, il s'est totalement intégré dans Keras. Cela signifie pour les utilisateurs de TensorFlow, en particulier les développeurs Python, qu'ils peuvent désormais développer des modèles plus facilement en utilisant les interfaces Keras, tout en tirant parti des puissantes capacités de TensorFlow dans le back-end.\n",
    "\n",
    "Dans les cas où Keras, qui est une API de haut niveau, ne suffit pas à nos besoins, on peut toujours utiliser l'API de bas niveau TensorFlow. Dans ce cas, il est important de savoir que **le mode Eager Execution est activé par défaut dans la version 2.x de TensorFlow**. C'est d'ailleurs le mode d'exécution recommandé pour utiliser l'API de bas niveau de TensorFlow.\n",
    "\n",
    "Tu dois garder à l'esprit, cependant, que l'utilisation de l'API de bas niveau de TensorFlow solicite tes connaissances en algèbre pour pouvoir effectuer des calculs avec les réseaux de neurones.\n",
    "\n",
    "Maintenant la question qui se pose est : **Qu'est-ce que le mode Eager Execution ?** Eh bien, regardons ensemble l'extrait de code suivant, dans lequel on a pas une exécution un mode Eager."
   ]
  },
  {
   "cell_type": "code",
   "execution_count": 2,
   "id": "21944d9d-e050-4fda-a117-750532bfb12c",
   "metadata": {},
   "outputs": [
    {
     "name": "stdout",
     "output_type": "stream",
     "text": [
      "Type du tenseur C: <class 'tensorflow.python.framework.ops.Tensor'>\n",
      "Result: 32.0\n"
     ]
    }
   ],
   "source": [
    "import numpy as np\n",
    "import tensorflow as tf\n",
    "from tensorflow.python.framework.ops import disable_eager_execution\n",
    "\n",
    "\n",
    "# Désactivons d'abord le mode Eager\n",
    "disable_eager_execution()\n",
    "\n",
    "A = tf.constant(np.array([1., 2., 3.]))\n",
    "B = tf.constant(np.array([4., 5., 6.]))\n",
    "C = tf.tensordot(A, B, 1)  # Aucun calcul n'est effectué ici.\n",
    "print(\"Type du tenseur C:\", type(C))\n",
    "\n",
    "with tf.compat.v1.Session() as sess:\n",
    "    # Exécution du graphe de c dans une session.\n",
    "    output = C.eval()\n",
    "\n",
    "print(\"Result:\", output)\n"
   ]
  },
  {
   "cell_type": "markdown",
   "id": "d43a0778-5596-495a-afed-65b26616ef78",
   "metadata": {},
   "source": [
    "Comme tu peux le voir, on initialise deux tenseurs, `A` et `B`.\n",
    "Ensuite, on calcule le produit scalaire de ces deux tenseurs et on renvoie le résultat à `C`.\n",
    "Mais jusque là, aucun calcul n'a été fait. `C` ne représente qu'un graphe de calcul qui n'a pas encore de valeur.\n",
    "Ce n'est qu'une fois exécuté dans une session TensorFlow qu'un calcul se produit et que `C` se retrouve avec une valeur.\n",
    "\n",
    "Cela rend le code TensorFlow très difficile à déboguer car les résultats intermédiaires ne sont pas accessibles. C'est là que l'exécution en mode Eager entre en jeu. Avec le mode Eager activée, le code est immédiatement exécuté, ligne par ligne, et les résultats intermédiaires sont instantanément disponibles. Le mode Eager fait ressembler le code TensorFlow à du code Python ordinaire. Et ceci est réalisé sans même avoir besoin de changer le code de calcul lors du passage d'une version de TensorFlow à une autre.\n",
    "\n",
    "Maintenant, reprenons une partie du code précédent qu'on va modifier pour l'exécuter en mode Eager.\n"
   ]
  },
  {
   "cell_type": "code",
   "execution_count": 2,
   "id": "f9fdb5c3-2bfb-48c1-b30a-95657a9510dd",
   "metadata": {},
   "outputs": [
    {
     "name": "stdout",
     "output_type": "stream",
     "text": [
      "Type du tenseur C: <class 'tensorflow.python.framework.ops.EagerTensor'>\n",
      "Result: 32.0\n"
     ]
    }
   ],
   "source": [
    "import sys\n",
    "import numpy as np\n",
    "import tensorflow as tf\n",
    "from tensorflow.python.framework.ops import enable_eager_execution\n",
    "\n",
    "\n",
    "enable_eager_execution()  # On réactive le mode Eager.\n",
    "\n",
    "A = tf.constant(np.array([1., 2., 3.]))\n",
    "B = tf.constant(np.array([4., 5., 6.]))\n",
    "C = tf.tensordot(A, B, 1)  # le calcul est effectué maintenant dans C.\n",
    "print(\"Type du tenseur C:\", type(C))\n",
    "print(\"Result:\", C.numpy())\n"
   ]
  },
  {
   "cell_type": "markdown",
   "id": "bc1691ad-30ab-47cb-8bd4-bfd29859f785",
   "metadata": {},
   "source": [
    "Attention ! Ce block de code ne pourra s'exécuter qu'au redémarrage de tout le l'environnement d'exécution qui exécute tes scriptes. Donc, si tu travailles dans un notebook Jupyter ou Google Colab, il va falloir que tu redémarres son Kernel. Au fait, l'activation ou la désactivation du mode Eager ne se produit qu'un seule fois, et il doit se produire au démarrage du programme. C'est la raison pour laquelle le noyau de Jupyter ou le scripte doit être redémarré.\n",
    "\n",
    "Sans le mode Eager, chaque tenseur est de type `tensorflow.python.framework.ops.Tensor`. Lorsque l'exécution en mode Eager est activée, le type devient `tensorflow.python.framework.ops.EagerTensor`. Tout en ayant un comportement similaire aux objets de type `Tensor`, les objets `EagerTensor` ont des fonctionnalités supplémentaires. Ce qui nous permet d'avoir, résultats au fur et à mesure qu'on évolue dans les calculs."
   ]
  },
  {
   "cell_type": "markdown",
   "id": "967607fe-d881-4a80-8d23-7476986911ea",
   "metadata": {},
   "source": [
    "## Regression linéaire"
   ]
  },
  {
   "cell_type": "markdown",
   "id": "dcbe559d-136f-44c2-8d36-b698a74bd6a1",
   "metadata": {},
   "source": [
    "La régression linéaire est l'une des formes les plus fondamentales\n",
    "de l'apprentissage automatique et est utilisée pour prédire des valeurs \n",
    "numériques. En terme simple, elle permet de trouver l'équation d'une droite\n",
    "appelée **modèle linéaire** qui approche au mieux la relation linéaire qui \n",
    "existe entre les variables indépendantes (ou observations) des données\n",
    "étudiées.\n",
    "\n",
    "- Lorsque plusieurs variables indépendantes sont présentes, alors on parle de\n",
    "**régression linéaire multiple**.\n",
    "- Lorsque plusieurs variables dépendantes sont prédites, alors on parle de\n",
    "**régression linéaire multivariée**.\n",
    "\n",
    "L'équation d'un modèle linéaire simple est sous la forme suivante :\n",
    "\n",
    "$$\n",
    "y = aX + b\n",
    "$$\n",
    "\n",
    "Où\n",
    "- $y$ est la variable dépendante\n",
    "- $X$ est la variable indépendante,\n",
    "- $a$ et $b$ sont les paramètres qu'on recherche. En effet, ce sont ces deux\n",
    "paramètres qui représentent le modèle.\n",
    "\n",
    "$a$ est connu sous le nom de **pente** ou **coéfficient directeur** et\n",
    "$b$ est l'**ordonné à l'origne**. Donc, en modifiant les valeurs de $a$ et $b$, \n",
    "on modifie le modèle en question. On peut ainsi interpréter cette équation\n",
    "comme $y$ étant une fonction à variable $X$, ou $y$ étant dépendant de $X$.\n",
    "\n",
    "Prenons l'exemple d'un ensemble de données (dataset) avec une variable\n",
    "et une étiquette (sortie). C'est à dire $y = f(X)$."
   ]
  },
  {
   "cell_type": "code",
   "execution_count": 4,
   "id": "f16c7557-32bb-41bd-a5e4-50ee3c6625b1",
   "metadata": {
    "execution": {
     "iopub.execute_input": "2023-08-22T16:00:24.931887Z",
     "iopub.status.busy": "2023-08-22T16:00:24.930898Z",
     "iopub.status.idle": "2023-08-22T16:00:25.110536Z",
     "shell.execute_reply": "2023-08-22T16:00:25.110069Z",
     "shell.execute_reply.started": "2023-08-22T16:00:24.931821Z"
    }
   },
   "outputs": [
    {
     "data": {
      "image/png": "[encoded data removed]",
      "text/plain": [
       "<Figure size 640x480 with 1 Axes>"
      ]
     },
     "metadata": {},
     "output_type": "display_data"
    }
   ],
   "source": [
    "import numpy as np\n",
    "import matplotlib.pyplot as plt\n",
    "\n",
    "# On génère un ensemble de points sous la forme y = f(x).\n",
    "# C'est à dire ayant une tendance linéaire.\n",
    "X = [1, 2, 2.5, 3, 4]\n",
    "Y = [1, 4, 7, 9, 15]\n",
    "\n",
    "# On affiche une représentation graphique:\n",
    "plt.plot(X, Y, 'ro')\n",
    "plt.axis([0, 6, 0, 20])\n",
    "plt.xlabel(\"Variable indépendante ou observation\")\n",
    "plt.ylabel(\"Variable dépendante ou étiquette\")\n",
    "plt.show()\n"
   ]
  },
  {
   "cell_type": "markdown",
   "id": "50adb198-5152-4c48-b40f-009c7508f845",
   "metadata": {},
   "source": [
    "Nous pouvons voir que ces données ont une tendance linéaire. Lorsque la valeur\n",
    "`x` augmente, la valeur `y` augmente également. Grâce à cette variation, nous\n",
    "pouvons établir une **ligne (droite)** de meilleur ajustement pour cet\n",
    "ensemble de données. Dans cet exemple, notre droite n'utilisera qu'une seule\n",
    "variable d'entrée, car nous travaillons dans le plan. Dans un ensemble de\n",
    "données plus grand avec plus de caractéristiques, notre droite aura plus de\n",
    "variables.\n",
    "\n",
    ">\"La droite de meilleur ajustement fait référence à une droite qui traverse\n",
    "> un nuage de points de données et exprime une meilleur relation entre ces\n",
    "> points.\n",
    "> [Vas sur ce lien.](https://www.investopedia.com/terms/l/line-of-best-fit.asp)\n",
    ">\"\n",
    "\n",
    "En recherchant la droite de meilleur ajustement, on peut obtenir le résultat\n",
    "suivant :"
   ]
  },
  {
   "cell_type": "code",
   "execution_count": 5,
   "id": "2a30d7c4-1875-4d74-85a5-ab16d4e9305e",
   "metadata": {
    "execution": {
     "iopub.execute_input": "2023-08-22T16:00:42.731899Z",
     "iopub.status.busy": "2023-08-22T16:00:42.729952Z",
     "iopub.status.idle": "2023-08-22T16:00:42.860404Z",
     "shell.execute_reply": "2023-08-22T16:00:42.859835Z",
     "shell.execute_reply.started": "2023-08-22T16:00:42.731825Z"
    }
   },
   "outputs": [
    {
     "data": {
      "image/png": "[encoded data removed]",
      "text/plain": [
       "<Figure size 640x480 with 1 Axes>"
      ]
     },
     "metadata": {},
     "output_type": "display_data"
    }
   ],
   "source": [
    "plt.plot(X, Y, 'ro')\n",
    "plt.axis([0, 6, 0, 20])\n",
    "\n",
    "un_x = np.unique(X)\n",
    "poly1d = np.poly1d(np.polyfit(X, Y, 1))\n",
    "\n",
    "plt.plot(un_x, poly1d(un_x))\n",
    "plt.xlabel(\"Variable indépendante ou observation\")\n",
    "plt.ylabel(\"Variable dépendante ou étiquette\")\n",
    "plt.show()"
   ]
  },
  {
   "cell_type": "markdown",
   "id": "60a774c4-8dcf-4b10-8220-452dfd6657b8",
   "metadata": {},
   "source": [
    "Une fois la droite de meilleur ajustement de notre ensemble de données est\n",
    "trouvée, nous pouvons utiliser son équation pour prédire les futures valeurs,\n",
    "c'est à dire : les valeurs qui ne sont pas dans l'ensemble de données\n",
    "(dataset).\n",
    "\n",
    "Maintenant, on va passer à l'utilisation avec TenseurFlow pour entraîner\n",
    "un modèle de régression linéaire sur un vrai ensemble de données."
   ]
  },
  {
   "cell_type": "markdown",
   "id": "7dd54cdc-c8e9-419e-82a9-65ccc220417d",
   "metadata": {},
   "source": [
    "### Chargement des données"
   ]
  },
  {
   "cell_type": "markdown",
   "id": "a2bff6fa-4103-41af-9442-68ef6dd486c0",
   "metadata": {},
   "source": [
    "Ce exemple simple va nous aider à comprendre le mécanisme de base\n",
    "de TensorFlow.\n",
    "On utilisera un exemple d'ensemble de données, et on utilisera TensorFlow pour\n",
    "ajuster et obtenir les bons paramètres de notre droite.\n",
    "\n",
    "On va utiliser un ensemble de données qui traite sur la consommation de\n",
    "carburant et aux émissions de dioxyde de carbone des voitures.\n",
    "Exécutons donc la commande suivante pour la télécharger."
   ]
  },
  {
   "cell_type": "code",
   "execution_count": 17,
   "id": "155c1c67-f137-477c-909f-20ea4333e4f0",
   "metadata": {
    "execution": {
     "iopub.execute_input": "2023-08-22T17:13:03.037036Z",
     "iopub.status.busy": "2023-08-22T17:13:03.035531Z",
     "iopub.status.idle": "2023-08-22T17:13:08.034314Z",
     "shell.execute_reply": "2023-08-22T17:13:08.032953Z",
     "shell.execute_reply.started": "2023-08-22T17:13:03.036956Z"
    }
   },
   "outputs": [
    {
     "name": "stdout",
     "output_type": "stream",
     "text": [
      "--2023-08-22 09:13:03--  https://s3-api.us-geo.objectstorage.softlayer.net/cf-courses-data/CognitiveClass/ML0101ENv3/labs/FuelConsumptionCo2.csv\n",
      "Resolving s3-api.us-geo.objectstorage.softlayer.net (s3-api.us-geo.objectstorage.softlayer.net)... 67.228.254.196\n",
      "Connecting to s3-api.us-geo.objectstorage.softlayer.net (s3-api.us-geo.objectstorage.softlayer.net)|67.228.254.196|:443... connected.\n",
      "HTTP request sent, awaiting response... 200 OK\n",
      "Length: 72629 (71K) [text/csv]\n",
      "Saving to: ‘FuelConsumptionCo2.csv’\n",
      "\n",
      "FuelConsumptionCo2. 100%[===================>]  70.93K  24.8KB/s    in 2.9s    \n",
      "\n",
      "2023-08-22 09:13:07 (24.8 KB/s) - ‘FuelConsumptionCo2.csv’ saved [72629/72629]\n",
      "\n"
     ]
    }
   ],
   "source": [
    "!mkdir dataset  # on crée un répertoire\n",
    "!wget -c \\\n",
    "https://s3-api.us-geo.objectstorage.softlayer.net/cf-courses-data/CognitiveClass/ML0101ENv3/labs/FuelConsumptionCo2.csv\n",
    "!mv FuelConsumptionCo2.csv ./dataset  # On déplace le fichier dans le dossier."
   ]
  },
  {
   "cell_type": "markdown",
   "id": "b433e81a-2345-4e1f-a71a-1464b60f718f",
   "metadata": {},
   "source": []
  }
 ],
 "metadata": {
  "kernelspec": {
   "display_name": "Python 3 (ipykernel)",
   "language": "python",
   "name": "python3"
  },
  "language_info": {
   "codemirror_mode": {
    "name": "ipython",
    "version": 3
   },
   "file_extension": ".py",
   "mimetype": "text/x-python",
   "name": "python",
   "nbconvert_exporter": "python",
   "pygments_lexer": "ipython3",
   "version": "3.11.4"
  }
 },
 "nbformat": 4,
 "nbformat_minor": 5
}
