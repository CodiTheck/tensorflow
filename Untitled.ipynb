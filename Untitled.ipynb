{
 "cells": [
  {
   "cell_type": "markdown",
   "id": "7ab313d2-16ec-4cd3-8d61-684668398d45",
   "metadata": {},
   "source": [
    "# Introduction"
   ]
  },
  {
   "cell_type": "markdown",
   "id": "0907c8e1-c4bf-4df8-9da5-615a02053d41",
   "metadata": {},
   "source": [
    "\n",
    "TensorFlow est une bibliothèque open source développée par l'équipe Google Brain.\n",
    "Il s'agit d'une bibliothèque extrêmement polyvalente, créée à l'origine pour des tâches nécessitant de lourdes opérations numériques. Pour cette raison, TensorFlow a été conçu pour\n",
    "le problème de l'apprentissage automatique et des réseaux de neurones profonds.\n",
    "Grâce à un backend C/C++, TensorFlow est capable de s'exécuter plus rapidement que le code Python pur. TensorFlow utilise une structure\n",
    "connu sous le nom de graphe de flux de données, qui est très utile pour d'abord le construire puis l'exécuter\n",
    "dans une session. C'est aussi une technique de programmation très courant\n",
    "pour le calcul parallèle. Nous aborderons cela plus en détail un peu plus tard.\n",
    "\n",
    "TensorFlow offre plusieurs avantages pour une application. Par exemple, il fournit à la fois une API Python et une API C++. Il convient de noter, cependant, que\n",
    "L'API Python est plus complète et généralement plus facile à utiliser.\n",
    "TensorFlow a également d'excellents temps de compilation par rapport à d'autres bibliothèques. Et il prend en charge les CPU, les GPU et même distribués le traitement dans un cluster. C'est une fonctionnalité très importante car vous pouvez former un réseau de neurones en utilisant un CPU et plusieurs GPU, ce qui rend les modèles très efficaces pour des systèmes à grande échelle.\n",
    "\n",
    "La structure de TensorFlow est basée sur l'exécution d'un graphe de flux de données. Alors, regardons de plus près.\n",
    "Un graphe de flux de données comporte deux unités de base. Les nœuds qui représentent une opération mathématique et les arêtes qui représentent les tableaux multidimensionnels appelés tenseurs. Cette abstraction de haut niveau révèle donc comment les données circulent entre opérations. Veuillez noter qu'en utilisant le graphe de flux de données,\n",
    "nous pouvons facilement visualiser différentes parties du graphe, ce qui n'est pas possible lors de l'utilisation\n",
    "d'autres bibliothèques Python telles que Numpy ou SciKit-learn. L'utilisation standard est de construire d'abord un graphe puis de l'exécuter dans une session.\n",
    "\n",
    "Les tenseurs, quand à eux, comme nous l'avons déjà noté, permettent le transfère des données entre les opérations. Un tenseur est un tableau multidimensionnel.\n",
    "- Il peut être de dimension nulle, comme les scalaires,\n",
    "- unidimensionnel, comme vecteur,\n",
    "- ou bidimensionnel, tel qu'une matrice, etc.\n",
    "\n",
    "La classe `Tensor` de TensorFlow nous aide à façonner l'ensemble de données comme nous voulons. Il est également particulièrement utile lorsqu'il s'agit de traiter avec des images, en raison de la façon dont les images sont encodées.\n",
    "En effet, quand on analyse une image, il est facile de comprendre qu'elle a une hauteur et une largeur et qu'il serait donc logique de représenter ses informations dans un tenseur bidimensionnel, c'est à dire : une matrice.\n",
    "Mais comme tu le sais déjà, les images ont des couleurs, et pour gérer les informations sur les couleurs, nous avons besoin d'une dimension en plus, et c'est là qu'un tenseur tridimensionnel devient particulièrement utile.\n",
    "\n",
    "Maintenant, regardons un graphe de flux de données et voyons comment les tenseurs et les opérations construisent le\n",
    "graphique."
   ]
  },
  {
   "cell_type": "markdown",
   "id": "6c42a6bc-5ce5-4e20-bec3-f93baa618fd0",
   "metadata": {},
   "source": [
    "![](images/tensorflow_data_flow.png)"
   ]
  },
  {
   "cell_type": "markdown",
   "id": "5625d2f8-42d0-4867-9136-f5582df7c6f9",
   "metadata": {},
   "source": [
    "Comme mentionné précédemment, dans un graphe de flux de données, **les nœuds sont des opérations**, qui représentent des unités de calcul. **Les arêtes sont des tenseurs** qui représentent les données consommées ou produites par une opération.\n",
    "Dans ce graphe, la matrice de fonctionnalités **input** est un espace réservé. Les espaces réservés peuvent être considérés comme des \"trous\" dans notre modèle, à travers lesquels, on peut faire passer les données depuis l'extérieur du graphe. Lorsqu'on définit un espace réservé ou une variable, TensorFlow ajoute une opération à notre graphe.\n",
    "\n",
    "Lorsqu'on veut exécuter le graphe, on doit en premier, alimenter les espaces réservés nécessaires avec nos données d'entrée. Voici l'expression de calcul réalisé par notre exemple de graphe ci-dessus :\n",
    "\n",
    "$$\n",
    "G = (7 \\times 3) + (7 + 3)\n",
    "$$\n",
    "\n",
    "Après avoir ajouté toutes ces opérations dans le graphe, nous pouvons créer une session pour l'exécuter et effectuer les calculs. Il faut retenir que les deux **input** sont des tenseurs et donc le résultat de chaque opération est un tenseur. Les tenseurs résultants de chaque opération est utilisé pour l'opération suivante et ainsi de suite jusqu'à la fin où il est possible d'obtenir le résultat final. Dans notre cas ici, il s'agit des scalaires, donc des tenseurs de dimension nulle.\n",
    "\n",
    "Comme mentionné précédemment, TensorFlow est livré avec une interface Python facile à utiliser pour créer\n",
    "et exécutez nos graphe de calcul. Mais ce qui rend TensorFlow si populaire aujourd'hui, c'est son architecture. L'architecture flexible de TensorFlow nous permet de déployer le calcul sur un ou plusieurs CPU, ou GPU, ou sur un poste de travail, un serveur, ou même un appareil mobile. Cela signifie que nous onstruisons et entraînons notre programme une fois, puis pouvoir l'exécuter facilement sur différents appareils sans avoir besoin de le réecrire à nouveau.\n",
    "\n",
    "Premièrement, TensorFlow prend en charge intégrée l'apprentissage en profondeur (Deep learning) et les réseaux de neurones, il est donc facile d'assembler un réseau, d'attribuer des paramètres, et exécuter le processus d'entraînement. Deuxièmement, il a également une collection de simples fonctions mathématiques entraînables utiles pour les réseaux de neurones.\n",
    "Enfin, l'apprentissage en profondeur en tant qu'algorithme d'apprentissage automatique basé sur les gradients bénéficie de\n",
    "la différenciation automatique et les optimiseurs de TensorFlow.\n",
    "\n",
    "Tout au long de ce cours, je vais te montrer comment tu peux utiliser la bibliothèque **TensorFlow** open source de Google pour développer tes applications d'apprentissage en profondeur (Deep Learning).\n",
    "\n",
    "Dans le chapitre 1, après t'avoir présenté la bibliothèque TensorFlow et t'avoir montrer\n",
    "un exemple de programme \"hello, world\", nous allons passer en revue quelques algorithmes d'apprentissage automatique de base comme la régression linéaire et la régression logistique. Il t'aidera à comprendre les principes fondamentaux de TensorFlow et des graphes de calculs de flux de données.\n",
    "\n",
    "Dans le chapitre 2, je vais te présenter les réseaux de neurones convolutifs, un modèle puissant\n",
    "qui est capable de faire la reconnaissance d'objet. Je t'expliquerai en détail les opérations convolution, et  je te montrerai comment construire un réseau convolutif avec TensorFlow, qu'on va entraîner pour faire de la reconnaître de chiffres manuscrits.\n",
    "\n",
    "Dans le chapitre 3, je vais te donner un aperçu des données séquentielles et des réseaux de neurones récurrents,\n",
    "ainsi que le modèle à mémoire à longue et à court terme (LSTM). On va également programmer une application de traitement du langage naturel.\n",
    "\n",
    "Dans le chapitre 4, je vais te présenter l'apprentissage non supervisé.\n",
    "Notre objectif principal sera la machine Boltzmann restreinte, qui détecte les modèles en reconstruisant\n",
    "son entrée. Après avoir créé et formé un Boltzmann restreint Machine dans TensorFlow, je vais te montrer comment l'utiliser pour créer un système de recommandation.\n",
    "\n",
    "Et, enfin, dans le chapitre 5 je t'expliquerai le concept d'un Autoencoder, un modèle de détection de motifs en apprentissage non supervisé. Je te montrerai une implémentation de ce modèle avec TensorFlow. Il y a beaucoup à faire, mais après avoir terminé ce cours, tu seras capable d'utiliser correctement TensorFlow dans tes propres applications."
   ]
  }
 ],
 "metadata": {
  "kernelspec": {
   "display_name": "Python 3 (ipykernel)",
   "language": "python",
   "name": "python3"
  },
  "language_info": {
   "codemirror_mode": {
    "name": "ipython",
    "version": 3
   },
   "file_extension": ".py",
   "mimetype": "text/x-python",
   "name": "python",
   "nbconvert_exporter": "python",
   "pygments_lexer": "ipython3",
   "version": "3.11.4"
  }
 },
 "nbformat": 4,
 "nbformat_minor": 5
}
