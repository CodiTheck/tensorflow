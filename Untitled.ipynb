{
 "cells": [
  {
   "cell_type": "markdown",
   "id": "6d15a06f-5f42-474a-9c4b-919613a0b726",
   "metadata": {},
   "source": [
    "# Avant propos"
   ]
  },
  {
   "cell_type": "markdown",
   "id": "e4bb1aca-bb80-4447-b6bf-7394bee5f80e",
   "metadata": {},
   "source": [
    "La mise en production des modèles d’IA est une tâche qui se rend parfois\n",
    "difficile, elle permet la création et la maximisation de la valeur ajoutée\n",
    "pour les entreprises. De plus, cette tâche ne s’arrête pas une fois que le\n",
    "modèle est passé en production, car il est essentiel de le maintenir, l’évaluer\n",
    "et le réentrainer de temps en temps. Cela peut être justifié par le fait que\n",
    "les données vont continuer à augmenter en véhiculant de nouvelles informations\n",
    "plus précises et plus riches. Toutes ces étapes doivent être automatisées, afin\n",
    "de limiter au maximum l’intervention humaine. Les applications TensorFlow\n",
    "peuvent être exécutées sur une machine locale, un cluster sur le Cloud,\n",
    "des smartphones et tablettes iOS ou Android, ou encore des CPU et des GPU.\n",
    "Sur son propre Cloud, Google propose d’exécuter TensorFlow sur ses\n",
    "puces **TensorFlow Processing Unit (TPU)** pour profiter d’une accélération\n",
    "accrue. Les modèles créés par TensorFlow peuvent ensuite être déployés sur\n",
    "n’importe quel appareil afin de délivrer des prédictions.\n",
    "\n",
    "Donc, au lieu de s'occuper de l'implémentation des algorithmes dans les\n",
    "moindres détails ou de chercher des solutions appropriées pour lier une\n",
    "fonction en sortie avec une autre fonction en entrée, le développeur peut\n",
    "se concentrer sur la logique globale de l'application, TensorFlow s'occupant\n",
    "des détails en arrière. Il propose différents niveaux d’APIs, cela permet donc\n",
    "de le rendre facilement accessible à des développeurs ayant **très peu\n",
    "de connaissances en deep learning**, tout en conservant un intérêt indéniable\n",
    "pour des chercheurs.\n",
    "\n",
    "TensorFlow peut être vu comme un système de programmation dans lequel les\n",
    "calculs sont représentés sous la forme d’un **graphe**. On parle souvent de\n",
    "**graphe de calcul**. Les sommets représentent des **opérations mathématiques**\n",
    "qui peuvent aller d’une simple addition à des fonctions très complexes,\n",
    "et les arêtes représentent des structures spécifiques qu’on appelle **tensors**.\n",
    "\n",
    "TensorFlow possède un très bon outil de visualisation qui s’appelle\n",
    "**TensorBoard**. Cet outil permet de visualiser les données, l’évolution\n",
    "des variables et les graphes de calcul. Il s’agit d’un outil bien conçu et\n",
    "facile à utiliser, à tel point que les développeurs de **PyTorch**, le principal\n",
    "concurrent de TensorFlow aujourd’hui, ont développé un module spécifique\n",
    "permettant d’intégrer, même partiellement, TensorBoard dans l’écosystème\n",
    "PyTorch."
   ]
  },
  {
   "cell_type": "markdown",
   "id": "b0c3455d-a845-4059-95f0-3ce03de68f3c",
   "metadata": {},
   "source": [
    "## Prérequis"
   ]
  },
  {
   "cell_type": "markdown",
   "id": "9b6d37a2-5cc9-44eb-b056-cbdfb26efa36",
   "metadata": {},
   "source": [
    "1. Avoir quelque notion de base en mathématique.\n",
    "2. Savoir écrire des algorithmes et programmer dans un langage de programmation.\n",
    "3. Savoir programmer en langage **Python**.\n",
    "4. Maîtriser les bases de la programmation orientée objet (**POO**).\n",
    "5. Même si ce n'est pas obligatoire avant de commencer ce cour, il faut au\n",
    "moins avoir suivie un cour de **machine learning** et/ou de **data science**\n",
    "ailleurs qu'ici. Car je ne vais pas trop m'attarder sur ces notions de base."
   ]
  },
  {
   "cell_type": "markdown",
   "id": "7ab313d2-16ec-4cd3-8d61-684668398d45",
   "metadata": {},
   "source": [
    "# Introduction"
   ]
  },
  {
   "cell_type": "markdown",
   "id": "0907c8e1-c4bf-4df8-9da5-615a02053d41",
   "metadata": {},
   "source": [
    "\n",
    "TensorFlow est une bibliothèque open source développée par l'équipe Google Brain.\n",
    "Il s'agit d'une bibliothèque extrêmement polyvalente, créée à l'origine pour des tâches nécessitant de lourdes opérations numériques. Pour cette raison, TensorFlow a été conçu pour\n",
    "le problème de l'apprentissage automatique et des réseaux de neurones profonds.\n",
    "Grâce à un backend C/C++, TensorFlow est capable de s'exécuter plus rapidement que le code Python pur. TensorFlow utilise une structure\n",
    "connu sous le nom de graphe de flux de données, qui est très utile pour d'abord le construire puis l'exécuter\n",
    "dans une session. C'est aussi une technique de programmation très courant\n",
    "pour le calcul parallèle. Nous aborderons cela plus en détail un peu plus tard.\n",
    "\n",
    "TensorFlow offre plusieurs avantages pour une application. Par exemple, il fournit à la fois une API Python et une API C++. Il convient de noter, cependant, que\n",
    "L'API Python est plus complète et généralement plus facile à utiliser.\n",
    "TensorFlow a également d'excellents temps de compilation par rapport à d'autres bibliothèques. Et il prend en charge les CPU, les GPU et même distribués le traitement dans un cluster. C'est une fonctionnalité très importante car vous pouvez former un réseau de neurones en utilisant un CPU et plusieurs GPU, ce qui rend les modèles très efficaces pour des systèmes à grande échelle.\n",
    "\n",
    "La structure de TensorFlow est basée sur l'exécution d'un graphe de flux de données. Alors, regardons de plus près.\n",
    "Un graphe de flux de données comporte deux unités de base. Les nœuds qui représentent une opération mathématique et les arêtes qui représentent les tableaux multidimensionnels appelés tenseurs. Cette abstraction de haut niveau révèle donc comment les données circulent entre opérations. Veuillez noter qu'en utilisant le graphe de flux de données,\n",
    "nous pouvons facilement visualiser différentes parties du graphe, ce qui n'est pas possible lors de l'utilisation\n",
    "d'autres bibliothèques Python telles que Numpy ou SciKit-learn. L'utilisation standard est de construire d'abord un graphe puis de l'exécuter dans une session.\n",
    "\n",
    "Les tenseurs, quand à eux, comme nous l'avons déjà noté, permettent le transfère des données entre les opérations. Un tenseur est un tableau multidimensionnel.\n",
    "- Il peut être de dimension nulle, comme les scalaires,\n",
    "- unidimensionnel, comme vecteur,\n",
    "- ou bidimensionnel, tel qu'une matrice, etc.\n",
    "\n",
    "La classe `Tensor` de TensorFlow nous aide à façonner l'ensemble de données comme nous voulons. Il est également particulièrement utile lorsqu'il s'agit de traiter avec des images, en raison de la façon dont les images sont encodées.\n",
    "En effet, quand on analyse une image, il est facile de comprendre qu'elle a une hauteur et une largeur et qu'il serait donc logique de représenter ses informations dans un tenseur bidimensionnel, c'est à dire : une matrice.\n",
    "Mais comme tu le sais déjà, les images ont des couleurs, et pour gérer les informations sur les couleurs, nous avons besoin d'une dimension en plus, et c'est là qu'un tenseur tridimensionnel devient particulièrement utile.\n",
    "\n",
    "Maintenant, regardons un graphe de flux de données et voyons comment les tenseurs et les opérations construisent le\n",
    "graphique."
   ]
  },
  {
   "cell_type": "markdown",
   "id": "6c42a6bc-5ce5-4e20-bec3-f93baa618fd0",
   "metadata": {},
   "source": [
    "![](images/tensorflow_data_flow.png)"
   ]
  },
  {
   "cell_type": "markdown",
   "id": "5625d2f8-42d0-4867-9136-f5582df7c6f9",
   "metadata": {},
   "source": [
    "Comme mentionné précédemment, dans un graphe de flux de données, **les nœuds sont des opérations**, qui représentent des unités de calcul. **Les arêtes sont des tenseurs** qui représentent les données consommées ou produites par une opération.\n",
    "Dans ce graphe, la matrice de fonctionnalités **input** est un espace réservé. Les espaces réservés peuvent être considérés comme des \"trous\" dans notre modèle, à travers lesquels, on peut faire passer les données depuis l'extérieur du graphe. Lorsqu'on définit un espace réservé ou une variable, TensorFlow ajoute une opération à notre graphe.\n",
    "\n",
    "Lorsqu'on veut exécuter le graphe, on doit en premier, alimenter les espaces réservés nécessaires avec nos données d'entrée. Voici l'expression de calcul réalisé par notre exemple de graphe ci-dessus :\n",
    "\n",
    "$$\n",
    "G = (7 \\times 3) + (7 + 3)\n",
    "$$\n",
    "\n",
    "Après avoir ajouté toutes ces opérations dans le graphe, nous pouvons créer une session pour l'exécuter et effectuer les calculs. Il faut retenir que les deux **input** sont des tenseurs et donc le résultat de chaque opération est un tenseur. Les tenseurs résultants de chaque opération est utilisé pour l'opération suivante et ainsi de suite jusqu'à la fin où il est possible d'obtenir le résultat final. Dans notre cas ici, il s'agit des scalaires, donc des tenseurs de dimension nulle.\n",
    "\n",
    "Comme mentionné précédemment, TensorFlow est livré avec une interface Python facile à utiliser pour créer\n",
    "et exécutez nos graphe de calcul. Mais ce qui rend TensorFlow si populaire aujourd'hui, c'est son architecture. L'architecture flexible de TensorFlow nous permet de déployer le calcul sur un ou plusieurs CPU, ou GPU, ou sur un poste de travail, un serveur, ou même un appareil mobile. Cela signifie que nous onstruisons et entraînons notre programme une fois, puis pouvoir l'exécuter facilement sur différents appareils sans avoir besoin de le réecrire à nouveau.\n",
    "\n",
    "Premièrement, TensorFlow prend en charge intégrée l'apprentissage en profondeur (Deep learning) et les réseaux de neurones, il est donc facile d'assembler un réseau, d'attribuer des paramètres, et exécuter le processus d'entraînement. Deuxièmement, il a également une collection de simples fonctions mathématiques entraînables utiles pour les réseaux de neurones.\n",
    "Enfin, l'apprentissage en profondeur en tant qu'algorithme d'apprentissage automatique basé sur les gradients bénéficie de\n",
    "la différenciation automatique et les optimiseurs de TensorFlow.\n",
    "\n",
    "Tout au long de ce cours, je vais te montrer comment tu peux utiliser la bibliothèque **TensorFlow** open source de Google pour développer tes applications d'apprentissage en profondeur (Deep Learning).\n",
    "\n",
    "Dans le chapitre 1, après t'avoir présenté la bibliothèque TensorFlow et t'avoir montrer\n",
    "un exemple de programme \"hello, world\", nous allons passer en revue quelques algorithmes d'apprentissage automatique de base comme la régression linéaire et la régression logistique. Il t'aidera à comprendre les principes fondamentaux de TensorFlow et des graphes de calculs de flux de données.\n",
    "\n",
    "Dans le chapitre 2, je vais te présenter les réseaux de neurones convolutifs, un modèle puissant\n",
    "qui est capable de faire la reconnaissance d'objet. Je t'expliquerai en détail les opérations convolution, et  je te montrerai comment construire un réseau convolutif avec TensorFlow, qu'on va entraîner pour faire de la reconnaître de chiffres manuscrits.\n",
    "\n",
    "Dans le chapitre 3, je vais te donner un aperçu des données séquentielles et des réseaux de neurones récurrents,\n",
    "ainsi que le modèle à mémoire à longue et à court terme (LSTM). On va également programmer une application de traitement du langage naturel.\n",
    "\n",
    "Dans le chapitre 4, je vais te présenter l'apprentissage non supervisé.\n",
    "Notre objectif principal sera la machine Boltzmann restreinte, qui détecte les modèles en reconstruisant\n",
    "son entrée. Après avoir créé et formé un Boltzmann restreint Machine dans TensorFlow, je vais te montrer comment l'utiliser pour créer un système de recommandation.\n",
    "\n",
    "Et, enfin, dans le chapitre 5 je t'expliquerai le concept d'un Autoencoder, un modèle de détection de motifs en apprentissage non supervisé. Je te montrerai une implémentation de ce modèle avec TensorFlow. Il y a beaucoup à faire, mais après avoir terminé ce cours, tu seras capable d'utiliser correctement TensorFlow dans tes propres applications."
   ]
  },
  {
   "cell_type": "markdown",
   "id": "78860bd4-3424-4c5a-bab0-b39299ec75cc",
   "metadata": {},
   "source": [
    "# Principes fondamentaux"
   ]
  },
  {
   "cell_type": "markdown",
   "id": "16fc11bf-1128-44ea-b2ab-04745434249e",
   "metadata": {},
   "source": [
    "## Mode Eager"
   ]
  },
  {
   "cell_type": "markdown",
   "id": "df1f3bdd-94a7-48c1-a2a1-020adc7785c0",
   "metadata": {},
   "source": [
    "L'un des changements majeurs dans TensorFlow 2.x est que le framework Keras qui est devenu l'API officielle de haut niveau pour TensorFlow. Keras est une API d'apprentissage en profondeur écrite en Python et connue pour sa convivialité.\n",
    "Il propose des abstractions qui facilitent le développement de modèles d'apprentissage en profondeur.\n",
    "Cependant, Keras ne possède pas son propre moteur d'exécution et dépend d'autres frameworks comme Theano.\n",
    "\n",
    "Dans la version 2.x, TensorFlow n'est pas seulement devenu le moteur d'exécution par défaut de Keras, il s'est totalement intégré dans Keras. Cela signifie pour les utilisateurs de TensorFlow, en particulier les développeurs Python, qu'ils peuvent désormais développer des modèles plus facilement en utilisant les interfaces Keras, tout en tirant parti des puissantes capacités de TensorFlow dans le back-end.\n",
    "\n",
    "Dans les cas où Keras, qui est une API de haut niveau, ne suffit pas à nos besoins, on peut toujours utiliser l'API de bas niveau TensorFlow. Dans ce cas, il est important de savoir que **le mode Eager Execution est activé par défaut dans la version 2.x de TensorFlow**. C'est d'ailleurs le mode d'exécution recommandé pour utiliser l'API de bas niveau de TensorFlow.\n",
    "\n",
    "Tu dois garder à l'esprit, cependant, que l'utilisation de l'API de bas niveau de TensorFlow solicite tes connaissances en algèbre pour pouvoir effectuer des calculs avec les réseaux de neurones.\n",
    "\n",
    "Maintenant la question qui se pose est : **Qu'est-ce que le mode Eager Execution ?** Eh bien, regardons ensemble l'extrait de code suivant, dans lequel on a pas une exécution un mode Eager."
   ]
  },
  {
   "cell_type": "code",
   "execution_count": 2,
   "id": "21944d9d-e050-4fda-a117-750532bfb12c",
   "metadata": {},
   "outputs": [
    {
     "name": "stdout",
     "output_type": "stream",
     "text": [
      "Type du tenseur C: <class 'tensorflow.python.framework.ops.Tensor'>\n",
      "Result: 32.0\n"
     ]
    }
   ],
   "source": [
    "import numpy as np\n",
    "import tensorflow as tf\n",
    "from tensorflow.python.framework.ops import disable_eager_execution\n",
    "\n",
    "\n",
    "# Désactivons d'abord le mode Eager\n",
    "disable_eager_execution()\n",
    "\n",
    "A = tf.constant(np.array([1., 2., 3.]))\n",
    "B = tf.constant(np.array([4., 5., 6.]))\n",
    "C = tf.tensordot(A, B, 1)  # Aucun calcul n'est effectué ici.\n",
    "print(\"Type du tenseur C:\", type(C))\n",
    "\n",
    "with tf.compat.v1.Session() as sess:\n",
    "    # Exécution du graphe de c dans une session.\n",
    "    output = C.eval()\n",
    "\n",
    "print(\"Result:\", output)\n"
   ]
  },
  {
   "cell_type": "markdown",
   "id": "d43a0778-5596-495a-afed-65b26616ef78",
   "metadata": {},
   "source": [
    "Comme tu peux le voir, on initialise deux tenseurs, `A` et `B`.\n",
    "Ensuite, on calcule le produit scalaire de ces deux tenseurs et on renvoie le résultat à `C`.\n",
    "Mais jusque là, aucun calcul n'a été fait. `C` ne représente qu'un graphe de calcul qui n'a pas encore de valeur.\n",
    "Ce n'est qu'une fois exécuté dans une session TensorFlow qu'un calcul se produit et que `C` se retrouve avec une valeur.\n",
    "\n",
    "Cela rend le code TensorFlow très difficile à déboguer car les résultats intermédiaires ne sont pas accessibles. C'est là que l'exécution en mode Eager entre en jeu. Avec le mode Eager activée, le code est immédiatement exécuté, ligne par ligne, et les résultats intermédiaires sont instantanément disponibles. Le mode Eager fait ressembler le code TensorFlow à du code Python ordinaire. Et ceci est réalisé sans même avoir besoin de changer le code de calcul lors du passage d'une version de TensorFlow à une autre.\n",
    "\n",
    "Maintenant, reprenons une partie du code précédent qu'on va modifier pour l'exécuter en mode Eager.\n"
   ]
  },
  {
   "cell_type": "code",
   "execution_count": 2,
   "id": "f9fdb5c3-2bfb-48c1-b30a-95657a9510dd",
   "metadata": {},
   "outputs": [
    {
     "name": "stdout",
     "output_type": "stream",
     "text": [
      "Type du tenseur C: <class 'tensorflow.python.framework.ops.EagerTensor'>\n",
      "Result: 32.0\n"
     ]
    }
   ],
   "source": [
    "import sys\n",
    "import numpy as np\n",
    "import tensorflow as tf\n",
    "from tensorflow.python.framework.ops import enable_eager_execution\n",
    "\n",
    "\n",
    "enable_eager_execution()  # On réactive le mode Eager.\n",
    "\n",
    "A = tf.constant(np.array([1., 2., 3.]))\n",
    "B = tf.constant(np.array([4., 5., 6.]))\n",
    "C = tf.tensordot(A, B, 1)  # le calcul est effectué maintenant dans C.\n",
    "print(\"Type du tenseur C:\", type(C))\n",
    "print(\"Result:\", C.numpy())\n"
   ]
  },
  {
   "cell_type": "markdown",
   "id": "bc1691ad-30ab-47cb-8bd4-bfd29859f785",
   "metadata": {},
   "source": [
    "Attention ! Ce block de code ne pourra s'exécuter qu'au redémarrage de tout le l'environnement d'exécution qui exécute tes scriptes. Donc, si tu travailles dans un notebook Jupyter ou Google Colab, il va falloir que tu redémarres son Kernel. Au fait, l'activation ou la désactivation du mode Eager ne se produit qu'un seule fois, et il doit se produire au démarrage du programme. C'est la raison pour laquelle le noyau de Jupyter ou le scripte doit être redémarré.\n",
    "\n",
    "Sans le mode Eager, chaque tenseur est de type `tensorflow.python.framework.ops.Tensor`. Lorsque l'exécution en mode Eager est activée, le type devient `tensorflow.python.framework.ops.EagerTensor`. Tout en ayant un comportement similaire aux objets de type `Tensor`, les objets `EagerTensor` ont des fonctionnalités supplémentaires. Ce qui nous permet d'avoir, résultats au fur et à mesure qu'on évolue dans les calculs."
   ]
  }
 ],
 "metadata": {
  "kernelspec": {
   "display_name": "Python 3 (ipykernel)",
   "language": "python",
   "name": "python3"
  },
  "language_info": {
   "codemirror_mode": {
    "name": "ipython",
    "version": 3
   },
   "file_extension": ".py",
   "mimetype": "text/x-python",
   "name": "python",
   "nbconvert_exporter": "python",
   "pygments_lexer": "ipython3",
   "version": "3.11.4"
  }
 },
 "nbformat": 4,
 "nbformat_minor": 5
}
